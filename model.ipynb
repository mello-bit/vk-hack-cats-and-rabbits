{
 "cells": [
  {
   "cell_type": "code",
   "execution_count": 7,
   "id": "225951fa",
   "metadata": {},
   "outputs": [],
   "source": [
    "import pandas as pd\n",
    "import numpy as np\n",
    "import seaborn as sns\n",
    "import torch\n",
    "from sklearn import datasets\n",
    "from sklearn.model_selection import train_test_split\n",
    "from sklearn.feature_selection import VarianceThreshold"
   ]
  },
  {
   "cell_type": "code",
   "execution_count": 8,
   "id": "c9622e8a",
   "metadata": {},
   "outputs": [
    {
     "name": "stdout",
     "output_type": "stream",
     "text": [
      "    index  target  feature_0  feature_1  feature_2  feature_3  feature_4  \\\n",
      "0   24771       0   0.128367        1.0        1.0        1.0        1.0   \n",
      "1  245889       0   0.258685        1.0        1.0        1.0        0.0   \n",
      "2   47222       0   0.407738        1.0        1.0        1.0        2.0   \n",
      "3   41231       0   0.439134        1.0        1.0        1.0        1.0   \n",
      "4   27547       0   0.590481        1.0        1.0        1.0        0.0   \n",
      "\n",
      "   feature_5  feature_6  feature_7  ...  feature_1357  feature_1358  \\\n",
      "0        4.0        2.0        2.0  ...           0.0           0.0   \n",
      "1        7.0        2.0        9.0  ...           0.0           0.0   \n",
      "2        7.0        1.0        2.0  ...           0.0           0.0   \n",
      "3        2.0        1.0        0.0  ...           0.0           0.0   \n",
      "4        1.0        3.0        1.0  ...           0.0           0.0   \n",
      "\n",
      "   feature_1359  feature_1360  feature_1361  feature_1362  feature_1363  \\\n",
      "0           0.0             0             0             0             0   \n",
      "1           0.0             0             0             0             0   \n",
      "2           0.0             0             0             0             0   \n",
      "3           0.0             0             0             0             0   \n",
      "4           0.0             0             0             0             0   \n",
      "\n",
      "   feature_1364  feature_1365  feature_1366  \n",
      "0             0             1             0  \n",
      "1             0             0             0  \n",
      "2             0             0             0  \n",
      "3             0             0             0  \n",
      "4             0             0             0  \n",
      "\n",
      "[5 rows x 1369 columns]\n"
     ]
    }
   ],
   "source": [
    "pd_data = pd.read_csv(\"./datasets/train/train.csv\")\n",
    "print(pd_data.head())"
   ]
  },
  {
   "cell_type": "code",
   "execution_count": 3,
   "id": "dac03c2e",
   "metadata": {},
   "outputs": [
    {
     "name": "stdout",
     "output_type": "stream",
     "text": [
      "0\n"
     ]
    }
   ],
   "source": [
    "stat = pd_data.isnull().sum()\n",
    "print(sum(stat)) # 0 => все переменные значимые"
   ]
  },
  {
   "cell_type": "code",
   "execution_count": 4,
   "id": "848c384c",
   "metadata": {},
   "outputs": [
    {
     "name": "stdout",
     "output_type": "stream",
     "text": [
      "               index         target      feature_0      feature_1  feature_2  \\\n",
      "count  177858.000000  177858.000000  177858.000000  177858.000000   177858.0   \n",
      "mean   127073.120096       0.016069       0.453837       0.614991        1.0   \n",
      "std     73314.823647       0.125741       0.185279       0.486599        0.0   \n",
      "min         0.000000       0.000000       0.107143       0.000000        1.0   \n",
      "25%     63600.250000       0.000000       0.316208       0.000000        1.0   \n",
      "50%    127103.500000       0.000000       0.438744       1.000000        1.0   \n",
      "75%    190510.500000       0.000000       0.585797       1.000000        1.0   \n",
      "max    254082.000000       1.000000       0.996463       1.000000        1.0   \n",
      "\n",
      "       feature_3      feature_4      feature_5     feature_6      feature_7  \\\n",
      "count   177858.0  177858.000000  177858.000000  177858.00000  177858.000000   \n",
      "mean         1.0       0.887005       2.399251       1.41866       1.780060   \n",
      "std          0.0       0.810091       2.127329       1.01921       1.909114   \n",
      "min          1.0       0.000000       0.000000       0.00000       0.000000   \n",
      "25%          1.0       0.000000       1.000000       1.00000       0.000000   \n",
      "50%          1.0       1.000000       2.000000       1.00000       1.000000   \n",
      "75%          1.0       1.000000       3.000000       2.00000       2.000000   \n",
      "max          1.0      17.000000      28.000000      18.00000      30.000000   \n",
      "\n",
      "       ...   feature_1357   feature_1358   feature_1359   feature_1360  \\\n",
      "count  ...  177858.000000  177858.000000  177858.000000  177858.000000   \n",
      "mean   ...      -0.098742      -0.100771      -0.104657       0.098410   \n",
      "std    ...       0.323541       0.319757       0.312348       0.297869   \n",
      "min    ...      -1.000000      -1.000000      -1.000000       0.000000   \n",
      "25%    ...       0.000000       0.000000       0.000000       0.000000   \n",
      "50%    ...       0.000000       0.000000       0.000000       0.000000   \n",
      "75%    ...       0.000000       0.000000       0.000000       0.000000   \n",
      "max    ...       1.000000       1.000000       1.000000       1.000000   \n",
      "\n",
      "        feature_1361   feature_1362   feature_1363   feature_1364  \\\n",
      "count  177858.000000  177858.000000  177858.000000  177858.000000   \n",
      "mean        0.091955       0.061577       0.019341       0.098179   \n",
      "std         0.288964       0.240387       0.137722       0.297558   \n",
      "min         0.000000       0.000000       0.000000       0.000000   \n",
      "25%         0.000000       0.000000       0.000000       0.000000   \n",
      "50%         0.000000       0.000000       0.000000       0.000000   \n",
      "75%         0.000000       0.000000       0.000000       0.000000   \n",
      "max         1.000000       1.000000       1.000000       1.000000   \n",
      "\n",
      "        feature_1365   feature_1366  \n",
      "count  177858.000000  177858.000000  \n",
      "mean        0.143986       0.106585  \n",
      "std         0.351076       0.308586  \n",
      "min         0.000000       0.000000  \n",
      "25%         0.000000       0.000000  \n",
      "50%         0.000000       0.000000  \n",
      "75%         0.000000       0.000000  \n",
      "max         1.000000       1.000000  \n",
      "\n",
      "[8 rows x 1369 columns]\n"
     ]
    }
   ],
   "source": [
    "pd_descripbe = pd_data.describe()\n",
    "print(pd_descripbe)"
   ]
  },
  {
   "cell_type": "code",
   "execution_count": null,
   "id": "3d31dfc0",
   "metadata": {},
   "outputs": [
    {
     "data": {
      "text/plain": [
       "array([[2.47710000e+04, 0.00000000e+00, 1.28366511e-01, ...,\n",
       "        0.00000000e+00, 1.00000000e+00, 0.00000000e+00],\n",
       "       [2.45889000e+05, 0.00000000e+00, 2.58684621e-01, ...,\n",
       "        0.00000000e+00, 0.00000000e+00, 0.00000000e+00],\n",
       "       [4.72220000e+04, 0.00000000e+00, 4.07738095e-01, ...,\n",
       "        0.00000000e+00, 0.00000000e+00, 0.00000000e+00],\n",
       "       ...,\n",
       "       [2.37148000e+05, 0.00000000e+00, 5.45399102e-01, ...,\n",
       "        0.00000000e+00, 0.00000000e+00, 0.00000000e+00],\n",
       "       [7.80000000e+03, 0.00000000e+00, 3.93149883e-01, ...,\n",
       "        1.00000000e+00, 0.00000000e+00, 1.00000000e+00],\n",
       "       [8.95000000e+03, 0.00000000e+00, 3.95272248e-01, ...,\n",
       "        0.00000000e+00, 0.00000000e+00, 0.00000000e+00]],\n",
       "      shape=(177858, 1283))"
      ]
     },
     "execution_count": 9,
     "metadata": {},
     "output_type": "execute_result"
    }
   ],
   "source": [
    "x_data = pd_data\n",
    "selector = VarianceThreshold(threshold=0.01)\n",
    "x_reduced = selector.fit_transform(x_data)\n",
    "x_reduced"
   ]
  },
  {
   "cell_type": "code",
   "execution_count": null,
   "id": "30f30e01",
   "metadata": {},
   "outputs": [
    {
     "data": {
      "text/plain": [
       "np.int64(2858)"
      ]
     },
     "execution_count": 13,
     "metadata": {},
     "output_type": "execute_result"
    }
   ],
   "source": [
    "# разобьем train на тестовую и тестовую выборки\n",
    "train_data, test_x = train_test_split(x_reduced, test_size=0.3, random_state=42)\n"
   ]
  },
  {
   "cell_type": "code",
   "execution_count": null,
   "id": "72a6b740",
   "metadata": {},
   "outputs": [],
   "source": []
  }
 ],
 "metadata": {
  "kernelspec": {
   "display_name": "venv",
   "language": "python",
   "name": "python3"
  },
  "language_info": {
   "codemirror_mode": {
    "name": "ipython",
    "version": 3
   },
   "file_extension": ".py",
   "mimetype": "text/x-python",
   "name": "python",
   "nbconvert_exporter": "python",
   "pygments_lexer": "ipython3",
   "version": "3.12.3"
  }
 },
 "nbformat": 4,
 "nbformat_minor": 5
}
