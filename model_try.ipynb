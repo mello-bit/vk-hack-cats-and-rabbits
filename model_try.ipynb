{
 "cells": [
  {
   "cell_type": "code",
   "execution_count": 1,
   "id": "82b9c411",
   "metadata": {},
   "outputs": [],
   "source": [
    "import pandas as pd\n",
    "import numpy as np\n",
    "from sklearn.feature_selection import VarianceThreshold, SelectKBest, f_regression, f_classif, SelectFromModel\n",
    "from sklearn.model_selection import train_test_split\n",
    "from sklearn.linear_model import LinearRegression, LassoCV\n",
    "from sklearn.metrics import mean_squared_error, r2_score\n",
    "from sklearn.preprocessing import StandardScaler\n",
    "from sklearn.pipeline import Pipeline\n"
   ]
  },
  {
   "cell_type": "code",
   "execution_count": 2,
   "id": "20827f62",
   "metadata": {},
   "outputs": [
    {
     "data": {
      "text/plain": [
       "(        feature_0  feature_1  feature_2  feature_3  feature_4  feature_5  \\\n",
       " 0        0.128367        1.0        1.0        1.0        1.0        4.0   \n",
       " 1        0.258685        1.0        1.0        1.0        0.0        7.0   \n",
       " 2        0.407738        1.0        1.0        1.0        2.0        7.0   \n",
       " 3        0.439134        1.0        1.0        1.0        1.0        2.0   \n",
       " 4        0.590481        1.0        1.0        1.0        0.0        1.0   \n",
       " ...           ...        ...        ...        ...        ...        ...   \n",
       " 177853   0.660324        1.0        1.0        1.0        0.0        1.0   \n",
       " 177854   0.222214        0.0        1.0        1.0        1.0        4.0   \n",
       " 177855   0.545399        0.0        1.0        1.0        0.0        2.0   \n",
       " 177856   0.393150        1.0        1.0        1.0        0.0        1.0   \n",
       " 177857   0.395272        1.0        1.0        1.0        1.0        2.0   \n",
       " \n",
       "         feature_6  feature_7  feature_8  feature_9  ...  feature_1357  \\\n",
       " 0             2.0        2.0        4.0       13.0  ...           0.0   \n",
       " 1             2.0        9.0        0.0       18.0  ...           0.0   \n",
       " 2             1.0        2.0        0.0       12.0  ...           0.0   \n",
       " 3             1.0        0.0        3.0        7.0  ...           0.0   \n",
       " 4             3.0        1.0        0.0        5.0  ...           0.0   \n",
       " ...           ...        ...        ...        ...  ...           ...   \n",
       " 177853        0.0        0.0        0.0        1.0  ...          -1.0   \n",
       " 177854        2.0        3.0        0.0       10.0  ...           0.0   \n",
       " 177855        1.0        0.0        2.0        5.0  ...           0.0   \n",
       " 177856        1.0        0.0        0.0        2.0  ...          -1.0   \n",
       " 177857        1.0        2.0        1.0        7.0  ...           0.0   \n",
       " \n",
       "         feature_1358  feature_1359  feature_1360  feature_1361  feature_1362  \\\n",
       " 0                0.0           0.0             0             0             0   \n",
       " 1                0.0           0.0             0             0             0   \n",
       " 2                0.0           0.0             0             0             0   \n",
       " 3                0.0           0.0             0             0             0   \n",
       " 4                0.0           0.0             0             0             0   \n",
       " ...              ...           ...           ...           ...           ...   \n",
       " 177853          -1.0          -1.0             1             0             1   \n",
       " 177854           0.0           0.0             0             0             0   \n",
       " 177855           0.0           0.0             1             0             0   \n",
       " 177856          -1.0          -1.0             0             0             0   \n",
       " 177857           0.0           0.0             0             0             0   \n",
       " \n",
       "         feature_1363  feature_1364  feature_1365  feature_1366  \n",
       " 0                  0             0             1             0  \n",
       " 1                  0             0             0             0  \n",
       " 2                  0             0             0             0  \n",
       " 3                  0             0             0             0  \n",
       " 4                  0             0             0             0  \n",
       " ...              ...           ...           ...           ...  \n",
       " 177853             0             1             1             1  \n",
       " 177854             0             0             0             0  \n",
       " 177855             0             0             0             0  \n",
       " 177856             0             1             0             1  \n",
       " 177857             0             0             0             0  \n",
       " \n",
       " [177858 rows x 1367 columns],\n",
       " 0         0\n",
       " 1         0\n",
       " 2         0\n",
       " 3         0\n",
       " 4         0\n",
       "          ..\n",
       " 177853    0\n",
       " 177854    0\n",
       " 177855    0\n",
       " 177856    0\n",
       " 177857    0\n",
       " Name: target, Length: 177858, dtype: int64)"
      ]
     },
     "execution_count": 2,
     "metadata": {},
     "output_type": "execute_result"
    }
   ],
   "source": [
    "# Загрузка данных (предположим, что данные в CSV)\n",
    "df = pd.read_csv(\"./datasets/train/train.csv\")  # Замените на ваш путь к файлу\n",
    "\n",
    "# Удаляем индекс, так как он не несёт информации для модели\n",
    "X = df.drop(['index', 'target'], axis=1)  # Все фичи (feature_1 ... feature_1366)\n",
    "y = df['target']  # Целевая переменная\n",
    "\n",
    "X, y"
   ]
  },
  {
   "cell_type": "code",
   "execution_count": null,
   "id": "97608bd4",
   "metadata": {},
   "outputs": [],
   "source": [
    "# 1. Отбор признаков: удаляем низковариативные (константные и почти константные)\n",
    "# Сделаем pipeline для более эффективного отбора признаков(их сокращения)\n",
    "pipe = Pipeline([\n",
    "    ('selector', VarianceThreshold(threshold=0.01)),\n",
    "    ('kbest', SelectKBest(f_regression, k=600)),\n",
    "    ('lasso_selection', SelectFromModel(LassoCV(cv=5), max_features=500))\n",
    "])\n",
    "\n",
    "X_selected = pipe.fit_transform(X, y)\n",
    "\n",
    "print(f\"Исходное число признаков: {X.shape[1]}\")\n",
    "print(f\"Число признаков после отбора: {X_selected.shape[1]}\")"
   ]
  },
  {
   "cell_type": "code",
   "execution_count": null,
   "id": "2d5ebe0a",
   "metadata": {},
   "outputs": [
    {
     "ename": "ValueError",
     "evalue": "Found input variables with inconsistent numbers of samples: [35572, 142286]",
     "output_type": "error",
     "traceback": [
      "\u001b[31m---------------------------------------------------------------------------\u001b[39m",
      "\u001b[31mValueError\u001b[39m                                Traceback (most recent call last)",
      "\u001b[36mCell\u001b[39m\u001b[36m \u001b[39m\u001b[32mIn[6]\u001b[39m\u001b[32m, line 7\u001b[39m\n\u001b[32m      5\u001b[39m \u001b[38;5;66;03m# 4. Создание и обучение модели\u001b[39;00m\n\u001b[32m      6\u001b[39m model = LinearRegression()\n\u001b[32m----> \u001b[39m\u001b[32m7\u001b[39m \u001b[43mmodel\u001b[49m\u001b[43m.\u001b[49m\u001b[43mfit\u001b[49m\u001b[43m(\u001b[49m\u001b[43mX_test\u001b[49m\u001b[43m,\u001b[49m\u001b[43m \u001b[49m\u001b[43my_train\u001b[49m\u001b[43m)\u001b[49m\n\u001b[32m      9\u001b[39m \u001b[38;5;66;03m# 5. Предсказание и оценка качества\u001b[39;00m\n\u001b[32m     10\u001b[39m y_pred = model.predict(X_test)\n",
      "\u001b[36mFile \u001b[39m\u001b[32m~/Work/ML /VK_hack_cats_and_rabbits/venv/lib/python3.12/site-packages/sklearn/base.py:1389\u001b[39m, in \u001b[36m_fit_context.<locals>.decorator.<locals>.wrapper\u001b[39m\u001b[34m(estimator, *args, **kwargs)\u001b[39m\n\u001b[32m   1382\u001b[39m     estimator._validate_params()\n\u001b[32m   1384\u001b[39m \u001b[38;5;28;01mwith\u001b[39;00m config_context(\n\u001b[32m   1385\u001b[39m     skip_parameter_validation=(\n\u001b[32m   1386\u001b[39m         prefer_skip_nested_validation \u001b[38;5;129;01mor\u001b[39;00m global_skip_validation\n\u001b[32m   1387\u001b[39m     )\n\u001b[32m   1388\u001b[39m ):\n\u001b[32m-> \u001b[39m\u001b[32m1389\u001b[39m     \u001b[38;5;28;01mreturn\u001b[39;00m \u001b[43mfit_method\u001b[49m\u001b[43m(\u001b[49m\u001b[43mestimator\u001b[49m\u001b[43m,\u001b[49m\u001b[43m \u001b[49m\u001b[43m*\u001b[49m\u001b[43margs\u001b[49m\u001b[43m,\u001b[49m\u001b[43m \u001b[49m\u001b[43m*\u001b[49m\u001b[43m*\u001b[49m\u001b[43mkwargs\u001b[49m\u001b[43m)\u001b[49m\n",
      "\u001b[36mFile \u001b[39m\u001b[32m~/Work/ML /VK_hack_cats_and_rabbits/venv/lib/python3.12/site-packages/sklearn/linear_model/_base.py:601\u001b[39m, in \u001b[36mLinearRegression.fit\u001b[39m\u001b[34m(self, X, y, sample_weight)\u001b[39m\n\u001b[32m    597\u001b[39m n_jobs_ = \u001b[38;5;28mself\u001b[39m.n_jobs\n\u001b[32m    599\u001b[39m accept_sparse = \u001b[38;5;28;01mFalse\u001b[39;00m \u001b[38;5;28;01mif\u001b[39;00m \u001b[38;5;28mself\u001b[39m.positive \u001b[38;5;28;01melse\u001b[39;00m [\u001b[33m\"\u001b[39m\u001b[33mcsr\u001b[39m\u001b[33m\"\u001b[39m, \u001b[33m\"\u001b[39m\u001b[33mcsc\u001b[39m\u001b[33m\"\u001b[39m, \u001b[33m\"\u001b[39m\u001b[33mcoo\u001b[39m\u001b[33m\"\u001b[39m]\n\u001b[32m--> \u001b[39m\u001b[32m601\u001b[39m X, y = \u001b[43mvalidate_data\u001b[49m\u001b[43m(\u001b[49m\n\u001b[32m    602\u001b[39m \u001b[43m    \u001b[49m\u001b[38;5;28;43mself\u001b[39;49m\u001b[43m,\u001b[49m\n\u001b[32m    603\u001b[39m \u001b[43m    \u001b[49m\u001b[43mX\u001b[49m\u001b[43m,\u001b[49m\n\u001b[32m    604\u001b[39m \u001b[43m    \u001b[49m\u001b[43my\u001b[49m\u001b[43m,\u001b[49m\n\u001b[32m    605\u001b[39m \u001b[43m    \u001b[49m\u001b[43maccept_sparse\u001b[49m\u001b[43m=\u001b[49m\u001b[43maccept_sparse\u001b[49m\u001b[43m,\u001b[49m\n\u001b[32m    606\u001b[39m \u001b[43m    \u001b[49m\u001b[43my_numeric\u001b[49m\u001b[43m=\u001b[49m\u001b[38;5;28;43;01mTrue\u001b[39;49;00m\u001b[43m,\u001b[49m\n\u001b[32m    607\u001b[39m \u001b[43m    \u001b[49m\u001b[43mmulti_output\u001b[49m\u001b[43m=\u001b[49m\u001b[38;5;28;43;01mTrue\u001b[39;49;00m\u001b[43m,\u001b[49m\n\u001b[32m    608\u001b[39m \u001b[43m    \u001b[49m\u001b[43mforce_writeable\u001b[49m\u001b[43m=\u001b[49m\u001b[38;5;28;43;01mTrue\u001b[39;49;00m\u001b[43m,\u001b[49m\n\u001b[32m    609\u001b[39m \u001b[43m\u001b[49m\u001b[43m)\u001b[49m\n\u001b[32m    611\u001b[39m has_sw = sample_weight \u001b[38;5;129;01mis\u001b[39;00m \u001b[38;5;129;01mnot\u001b[39;00m \u001b[38;5;28;01mNone\u001b[39;00m\n\u001b[32m    612\u001b[39m \u001b[38;5;28;01mif\u001b[39;00m has_sw:\n",
      "\u001b[36mFile \u001b[39m\u001b[32m~/Work/ML /VK_hack_cats_and_rabbits/venv/lib/python3.12/site-packages/sklearn/utils/validation.py:2961\u001b[39m, in \u001b[36mvalidate_data\u001b[39m\u001b[34m(_estimator, X, y, reset, validate_separately, skip_check_array, **check_params)\u001b[39m\n\u001b[32m   2959\u001b[39m         y = check_array(y, input_name=\u001b[33m\"\u001b[39m\u001b[33my\u001b[39m\u001b[33m\"\u001b[39m, **check_y_params)\n\u001b[32m   2960\u001b[39m     \u001b[38;5;28;01melse\u001b[39;00m:\n\u001b[32m-> \u001b[39m\u001b[32m2961\u001b[39m         X, y = \u001b[43mcheck_X_y\u001b[49m\u001b[43m(\u001b[49m\u001b[43mX\u001b[49m\u001b[43m,\u001b[49m\u001b[43m \u001b[49m\u001b[43my\u001b[49m\u001b[43m,\u001b[49m\u001b[43m \u001b[49m\u001b[43m*\u001b[49m\u001b[43m*\u001b[49m\u001b[43mcheck_params\u001b[49m\u001b[43m)\u001b[49m\n\u001b[32m   2962\u001b[39m     out = X, y\n\u001b[32m   2964\u001b[39m \u001b[38;5;28;01mif\u001b[39;00m \u001b[38;5;129;01mnot\u001b[39;00m no_val_X \u001b[38;5;129;01mand\u001b[39;00m check_params.get(\u001b[33m\"\u001b[39m\u001b[33mensure_2d\u001b[39m\u001b[33m\"\u001b[39m, \u001b[38;5;28;01mTrue\u001b[39;00m):\n",
      "\u001b[36mFile \u001b[39m\u001b[32m~/Work/ML /VK_hack_cats_and_rabbits/venv/lib/python3.12/site-packages/sklearn/utils/validation.py:1389\u001b[39m, in \u001b[36mcheck_X_y\u001b[39m\u001b[34m(X, y, accept_sparse, accept_large_sparse, dtype, order, copy, force_writeable, force_all_finite, ensure_all_finite, ensure_2d, allow_nd, multi_output, ensure_min_samples, ensure_min_features, y_numeric, estimator)\u001b[39m\n\u001b[32m   1370\u001b[39m X = check_array(\n\u001b[32m   1371\u001b[39m     X,\n\u001b[32m   1372\u001b[39m     accept_sparse=accept_sparse,\n\u001b[32m   (...)\u001b[39m\u001b[32m   1384\u001b[39m     input_name=\u001b[33m\"\u001b[39m\u001b[33mX\u001b[39m\u001b[33m\"\u001b[39m,\n\u001b[32m   1385\u001b[39m )\n\u001b[32m   1387\u001b[39m y = _check_y(y, multi_output=multi_output, y_numeric=y_numeric, estimator=estimator)\n\u001b[32m-> \u001b[39m\u001b[32m1389\u001b[39m \u001b[43mcheck_consistent_length\u001b[49m\u001b[43m(\u001b[49m\u001b[43mX\u001b[49m\u001b[43m,\u001b[49m\u001b[43m \u001b[49m\u001b[43my\u001b[49m\u001b[43m)\u001b[49m\n\u001b[32m   1391\u001b[39m \u001b[38;5;28;01mreturn\u001b[39;00m X, y\n",
      "\u001b[36mFile \u001b[39m\u001b[32m~/Work/ML /VK_hack_cats_and_rabbits/venv/lib/python3.12/site-packages/sklearn/utils/validation.py:475\u001b[39m, in \u001b[36mcheck_consistent_length\u001b[39m\u001b[34m(*arrays)\u001b[39m\n\u001b[32m    473\u001b[39m uniques = np.unique(lengths)\n\u001b[32m    474\u001b[39m \u001b[38;5;28;01mif\u001b[39;00m \u001b[38;5;28mlen\u001b[39m(uniques) > \u001b[32m1\u001b[39m:\n\u001b[32m--> \u001b[39m\u001b[32m475\u001b[39m     \u001b[38;5;28;01mraise\u001b[39;00m \u001b[38;5;167;01mValueError\u001b[39;00m(\n\u001b[32m    476\u001b[39m         \u001b[33m\"\u001b[39m\u001b[33mFound input variables with inconsistent numbers of samples: \u001b[39m\u001b[38;5;132;01m%r\u001b[39;00m\u001b[33m\"\u001b[39m\n\u001b[32m    477\u001b[39m         % [\u001b[38;5;28mint\u001b[39m(l) \u001b[38;5;28;01mfor\u001b[39;00m l \u001b[38;5;129;01min\u001b[39;00m lengths]\n\u001b[32m    478\u001b[39m     )\n",
      "\u001b[31mValueError\u001b[39m: Found input variables with inconsistent numbers of samples: [35572, 142286]"
     ]
    }
   ],
   "source": [
    "# 2. Масштабирование данных (важно для линейной регрессии)\n",
    "scaler = StandardScaler()\n",
    "X_scaled = scaler.fit_transform(X_selected)\n",
    "\n",
    "X_train, X_test, y_train, y_test = train_test_split(\n",
    "    X_selected, y, test_size=0.2, random_state=42\n",
    ")\n",
    "\n",
    "# 4. Создание и обучение модели\n",
    "model = LinearRegression()\n",
    "model.fit(X_test, y_train)\n",
    "\n",
    "# 5. Предсказание и оценка качества\n",
    "y_pred = model.predict(X_test)\n",
    "\n",
    "# Метрики\n",
    "mse = mean_squared_error(y_test, y_pred)\n",
    "r2 = r2_score(y_test, y_pred)\n",
    "\n",
    "print(f\"\\nMSE: {mse:.4f}\")\n",
    "print(f\"R2 Score: {r2:.4f}\")\n",
    "\n",
    "# (Опционально) Вывод коэффициентов модели\n",
    "if X_selected.shape[1] <= 20:  # Не выводить для слишком большого числа фич\n",
    "    print(\"\\nКоэффициенты модели:\")\n",
    "    for feature, coef in zip(X.columns[selector.get_support()], model.coef_):\n",
    "        print(f\"{feature}: {coef:.4f}\")\n",
    "else:\n",
    "    print(f\"\\nМодель имеет {X_selected.shape[1]} коэффициентов (слишком много для вывода).\")"
   ]
  },
  {
   "cell_type": "code",
   "execution_count": null,
   "id": "61f786ac",
   "metadata": {},
   "outputs": [],
   "source": []
  }
 ],
 "metadata": {
  "kernelspec": {
   "display_name": "venv",
   "language": "python",
   "name": "python3"
  },
  "language_info": {
   "codemirror_mode": {
    "name": "ipython",
    "version": 3
   },
   "file_extension": ".py",
   "mimetype": "text/x-python",
   "name": "python",
   "nbconvert_exporter": "python",
   "pygments_lexer": "ipython3",
   "version": "3.12.3"
  }
 },
 "nbformat": 4,
 "nbformat_minor": 5
}
