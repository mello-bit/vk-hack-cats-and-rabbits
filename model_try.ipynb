{
  "cells": [
    {
      "cell_type": "code",
      "execution_count": 1,
      "id": "a98ee283",
      "metadata": {
        "trusted": true
      },
      "outputs": [
        {
          "name": "stdout",
          "output_type": "stream",
          "text": [
            "Requirement already satisfied: pandas in c:\\users\\admin\\appdata\\local\\programs\\python\\python312\\lib\\site-packages (2.2.3)\n",
            "Requirement already satisfied: numpy>=1.26.0 in c:\\users\\admin\\appdata\\local\\programs\\python\\python312\\lib\\site-packages (from pandas) (2.2.5)\n",
            "Requirement already satisfied: python-dateutil>=2.8.2 in c:\\users\\admin\\appdata\\local\\programs\\python\\python312\\lib\\site-packages (from pandas) (2.9.0.post0)\n",
            "Requirement already satisfied: pytz>=2020.1 in c:\\users\\admin\\appdata\\local\\programs\\python\\python312\\lib\\site-packages (from pandas) (2025.2)\n",
            "Requirement already satisfied: tzdata>=2022.7 in c:\\users\\admin\\appdata\\local\\programs\\python\\python312\\lib\\site-packages (from pandas) (2025.2)\n",
            "Requirement already satisfied: six>=1.5 in c:\\users\\admin\\appdata\\local\\programs\\python\\python312\\lib\\site-packages (from python-dateutil>=2.8.2->pandas) (1.17.0)\n",
            "Note: you may need to restart the kernel to use updated packages.\n",
            "Requirement already satisfied: pandas in c:\\users\\admin\\appdata\\local\\programs\\python\\python312\\lib\\site-packages (from -r requirements.txt (line 1)) (2.2.3)\n",
            "Requirement already satisfied: seaborn in c:\\users\\admin\\appdata\\local\\programs\\python\\python312\\lib\\site-packages (from -r requirements.txt (line 2)) (0.13.2)\n",
            "Requirement already satisfied: matplotlib in c:\\users\\admin\\appdata\\local\\programs\\python\\python312\\lib\\site-packages (from -r requirements.txt (line 3)) (3.10.1)\n",
            "Requirement already satisfied: torch in c:\\users\\admin\\appdata\\local\\programs\\python\\python312\\lib\\site-packages (from -r requirements.txt (line 4)) (2.7.0+cu118)\n",
            "Requirement already satisfied: scikit-learn in c:\\users\\admin\\appdata\\local\\programs\\python\\python312\\lib\\site-packages (from -r requirements.txt (line 5)) (1.6.1)\n",
            "Requirement already satisfied: numpy>=1.26.0 in c:\\users\\admin\\appdata\\local\\programs\\python\\python312\\lib\\site-packages (from pandas->-r requirements.txt (line 1)) (2.2.5)\n",
            "Requirement already satisfied: python-dateutil>=2.8.2 in c:\\users\\admin\\appdata\\local\\programs\\python\\python312\\lib\\site-packages (from pandas->-r requirements.txt (line 1)) (2.9.0.post0)\n",
            "Requirement already satisfied: pytz>=2020.1 in c:\\users\\admin\\appdata\\local\\programs\\python\\python312\\lib\\site-packages (from pandas->-r requirements.txt (line 1)) (2025.2)\n",
            "Requirement already satisfied: tzdata>=2022.7 in c:\\users\\admin\\appdata\\local\\programs\\python\\python312\\lib\\site-packages (from pandas->-r requirements.txt (line 1)) (2025.2)\n",
            "Requirement already satisfied: contourpy>=1.0.1 in c:\\users\\admin\\appdata\\local\\programs\\python\\python312\\lib\\site-packages (from matplotlib->-r requirements.txt (line 3)) (1.3.2)\n",
            "Requirement already satisfied: cycler>=0.10 in c:\\users\\admin\\appdata\\local\\programs\\python\\python312\\lib\\site-packages (from matplotlib->-r requirements.txt (line 3)) (0.12.1)\n",
            "Requirement already satisfied: fonttools>=4.22.0 in c:\\users\\admin\\appdata\\local\\programs\\python\\python312\\lib\\site-packages (from matplotlib->-r requirements.txt (line 3)) (4.57.0)\n",
            "Requirement already satisfied: kiwisolver>=1.3.1 in c:\\users\\admin\\appdata\\local\\programs\\python\\python312\\lib\\site-packages (from matplotlib->-r requirements.txt (line 3)) (1.4.8)\n",
            "Requirement already satisfied: packaging>=20.0 in c:\\users\\admin\\appdata\\local\\programs\\python\\python312\\lib\\site-packages (from matplotlib->-r requirements.txt (line 3)) (25.0)\n",
            "Requirement already satisfied: pillow>=8 in c:\\users\\admin\\appdata\\local\\programs\\python\\python312\\lib\\site-packages (from matplotlib->-r requirements.txt (line 3)) (11.2.1)\n",
            "Requirement already satisfied: pyparsing>=2.3.1 in c:\\users\\admin\\appdata\\local\\programs\\python\\python312\\lib\\site-packages (from matplotlib->-r requirements.txt (line 3)) (3.2.3)\n",
            "Requirement already satisfied: filelock in c:\\users\\admin\\appdata\\local\\programs\\python\\python312\\lib\\site-packages (from torch->-r requirements.txt (line 4)) (3.18.0)\n",
            "Requirement already satisfied: typing-extensions>=4.10.0 in c:\\users\\admin\\appdata\\local\\programs\\python\\python312\\lib\\site-packages (from torch->-r requirements.txt (line 4)) (4.13.2)\n",
            "Requirement already satisfied: sympy>=1.13.3 in c:\\users\\admin\\appdata\\local\\programs\\python\\python312\\lib\\site-packages (from torch->-r requirements.txt (line 4)) (1.13.3)\n",
            "Requirement already satisfied: networkx in c:\\users\\admin\\appdata\\local\\programs\\python\\python312\\lib\\site-packages (from torch->-r requirements.txt (line 4)) (3.4.2)\n",
            "Requirement already satisfied: jinja2 in c:\\users\\admin\\appdata\\local\\programs\\python\\python312\\lib\\site-packages (from torch->-r requirements.txt (line 4)) (3.1.6)\n",
            "Requirement already satisfied: fsspec in c:\\users\\admin\\appdata\\local\\programs\\python\\python312\\lib\\site-packages (from torch->-r requirements.txt (line 4)) (2025.3.2)\n",
            "Requirement already satisfied: setuptools in c:\\users\\admin\\appdata\\local\\programs\\python\\python312\\lib\\site-packages (from torch->-r requirements.txt (line 4)) (78.1.1)\n",
            "Requirement already satisfied: scipy>=1.6.0 in c:\\users\\admin\\appdata\\local\\programs\\python\\python312\\lib\\site-packages (from scikit-learn->-r requirements.txt (line 5)) (1.15.2)\n",
            "Requirement already satisfied: joblib>=1.2.0 in c:\\users\\admin\\appdata\\local\\programs\\python\\python312\\lib\\site-packages (from scikit-learn->-r requirements.txt (line 5)) (1.4.2)\n",
            "Requirement already satisfied: threadpoolctl>=3.1.0 in c:\\users\\admin\\appdata\\local\\programs\\python\\python312\\lib\\site-packages (from scikit-learn->-r requirements.txt (line 5)) (3.6.0)\n",
            "Requirement already satisfied: six>=1.5 in c:\\users\\admin\\appdata\\local\\programs\\python\\python312\\lib\\site-packages (from python-dateutil>=2.8.2->pandas->-r requirements.txt (line 1)) (1.17.0)\n",
            "Requirement already satisfied: mpmath<1.4,>=1.1.0 in c:\\users\\admin\\appdata\\local\\programs\\python\\python312\\lib\\site-packages (from sympy>=1.13.3->torch->-r requirements.txt (line 4)) (1.3.0)\n",
            "Requirement already satisfied: MarkupSafe>=2.0 in c:\\users\\admin\\appdata\\local\\programs\\python\\python312\\lib\\site-packages (from jinja2->torch->-r requirements.txt (line 4)) (3.0.2)\n",
            "Note: you may need to restart the kernel to use updated packages.\n"
          ]
        }
      ],
      "source": [
        "%pip install pandas\n",
        "%pip install -r requirements.txt"
      ]
    },
    {
      "cell_type": "code",
      "execution_count": 2,
      "id": "7c7edcbd",
      "metadata": {
        "trusted": true
      },
      "outputs": [
        {
          "name": "stdout",
          "output_type": "stream",
          "text": [
            "Requirement already satisfied: xgboost in c:\\users\\admin\\appdata\\local\\programs\\python\\python312\\lib\\site-packages (3.0.0)\n",
            "Requirement already satisfied: numpy in c:\\users\\admin\\appdata\\local\\programs\\python\\python312\\lib\\site-packages (from xgboost) (2.2.5)\n",
            "Requirement already satisfied: scipy in c:\\users\\admin\\appdata\\local\\programs\\python\\python312\\lib\\site-packages (from xgboost) (1.15.2)\n",
            "Note: you may need to restart the kernel to use updated packages.\n"
          ]
        }
      ],
      "source": [
        "%pip install xgboost"
      ]
    },
    {
      "cell_type": "code",
      "execution_count": 3,
      "id": "12023248",
      "metadata": {},
      "outputs": [
        {
          "name": "stdout",
          "output_type": "stream",
          "text": [
            "Requirement already satisfied: optuna in c:\\users\\admin\\appdata\\local\\programs\\python\\python312\\lib\\site-packages (4.3.0)\n",
            "Requirement already satisfied: alembic>=1.5.0 in c:\\users\\admin\\appdata\\local\\programs\\python\\python312\\lib\\site-packages (from optuna) (1.15.2)\n",
            "Requirement already satisfied: colorlog in c:\\users\\admin\\appdata\\local\\programs\\python\\python312\\lib\\site-packages (from optuna) (6.9.0)\n",
            "Requirement already satisfied: numpy in c:\\users\\admin\\appdata\\local\\programs\\python\\python312\\lib\\site-packages (from optuna) (2.2.5)\n",
            "Requirement already satisfied: packaging>=20.0 in c:\\users\\admin\\appdata\\local\\programs\\python\\python312\\lib\\site-packages (from optuna) (25.0)\n",
            "Requirement already satisfied: sqlalchemy>=1.4.2 in c:\\users\\admin\\appdata\\local\\programs\\python\\python312\\lib\\site-packages (from optuna) (2.0.40)\n",
            "Requirement already satisfied: tqdm in c:\\users\\admin\\appdata\\local\\programs\\python\\python312\\lib\\site-packages (from optuna) (4.67.1)\n",
            "Requirement already satisfied: PyYAML in c:\\users\\admin\\appdata\\local\\programs\\python\\python312\\lib\\site-packages (from optuna) (6.0.2)\n",
            "Requirement already satisfied: Mako in c:\\users\\admin\\appdata\\local\\programs\\python\\python312\\lib\\site-packages (from alembic>=1.5.0->optuna) (1.3.10)\n",
            "Requirement already satisfied: typing-extensions>=4.12 in c:\\users\\admin\\appdata\\local\\programs\\python\\python312\\lib\\site-packages (from alembic>=1.5.0->optuna) (4.13.2)\n",
            "Requirement already satisfied: greenlet>=1 in c:\\users\\admin\\appdata\\local\\programs\\python\\python312\\lib\\site-packages (from sqlalchemy>=1.4.2->optuna) (3.2.1)\n",
            "Requirement already satisfied: colorama in c:\\users\\admin\\appdata\\roaming\\python\\python312\\site-packages (from colorlog->optuna) (0.4.6)\n",
            "Requirement already satisfied: MarkupSafe>=0.9.2 in c:\\users\\admin\\appdata\\local\\programs\\python\\python312\\lib\\site-packages (from Mako->alembic>=1.5.0->optuna) (3.0.2)\n",
            "Note: you may need to restart the kernel to use updated packages.\n"
          ]
        }
      ],
      "source": [
        "%pip install optuna"
      ]
    },
    {
      "cell_type": "code",
      "execution_count": 4,
      "id": "82b9c411",
      "metadata": {},
      "outputs": [],
      "source": [
        "import pandas as pd\n",
        "import numpy as np\n",
        "from sklearn.feature_selection import VarianceThreshold, SelectKBest, f_regression, f_classif, SelectFromModel\n",
        "from sklearn.model_selection import train_test_split\n",
        "from sklearn.linear_model import LinearRegression, LassoCV, LogisticRegression\n",
        "from sklearn.metrics import mean_squared_error, roc_auc_score\n",
        "from sklearn.preprocessing import StandardScaler\n",
        "from sklearn.pipeline import Pipeline\n",
        "from sklearn.ensemble import RandomForestClassifier, GradientBoostingClassifier\n",
        "from sklearn.svm import SVC\n",
        "\n",
        "from xgboost import XGBClassifier\n",
        "from sklearn.model_selection import GridSearchCV"
      ]
    },
    {
      "cell_type": "code",
      "execution_count": 5,
      "id": "200f1aad",
      "metadata": {},
      "outputs": [],
      "source": [
        "df = pd.read_csv(\"./datasets/train/train.csv\") # для train"
      ]
    },
    {
      "cell_type": "code",
      "execution_count": 6,
      "id": "20827f62",
      "metadata": {},
      "outputs": [
        {
          "data": {
            "text/plain": [
              "(        feature_0  feature_1  feature_2  feature_3  feature_4  feature_5  \\\n",
              " 0        0.128367        1.0        1.0        1.0        1.0        4.0   \n",
              " 1        0.258685        1.0        1.0        1.0        0.0        7.0   \n",
              " 2        0.407738        1.0        1.0        1.0        2.0        7.0   \n",
              " 3        0.439134        1.0        1.0        1.0        1.0        2.0   \n",
              " 4        0.590481        1.0        1.0        1.0        0.0        1.0   \n",
              " ...           ...        ...        ...        ...        ...        ...   \n",
              " 177853   0.660324        1.0        1.0        1.0        0.0        1.0   \n",
              " 177854   0.222214        0.0        1.0        1.0        1.0        4.0   \n",
              " 177855   0.545399        0.0        1.0        1.0        0.0        2.0   \n",
              " 177856   0.393150        1.0        1.0        1.0        0.0        1.0   \n",
              " 177857   0.395272        1.0        1.0        1.0        1.0        2.0   \n",
              " \n",
              "         feature_6  feature_7  feature_8  feature_9  ...  feature_1357  \\\n",
              " 0             2.0        2.0        4.0       13.0  ...           0.0   \n",
              " 1             2.0        9.0        0.0       18.0  ...           0.0   \n",
              " 2             1.0        2.0        0.0       12.0  ...           0.0   \n",
              " 3             1.0        0.0        3.0        7.0  ...           0.0   \n",
              " 4             3.0        1.0        0.0        5.0  ...           0.0   \n",
              " ...           ...        ...        ...        ...  ...           ...   \n",
              " 177853        0.0        0.0        0.0        1.0  ...          -1.0   \n",
              " 177854        2.0        3.0        0.0       10.0  ...           0.0   \n",
              " 177855        1.0        0.0        2.0        5.0  ...           0.0   \n",
              " 177856        1.0        0.0        0.0        2.0  ...          -1.0   \n",
              " 177857        1.0        2.0        1.0        7.0  ...           0.0   \n",
              " \n",
              "         feature_1358  feature_1359  feature_1360  feature_1361  feature_1362  \\\n",
              " 0                0.0           0.0             0             0             0   \n",
              " 1                0.0           0.0             0             0             0   \n",
              " 2                0.0           0.0             0             0             0   \n",
              " 3                0.0           0.0             0             0             0   \n",
              " 4                0.0           0.0             0             0             0   \n",
              " ...              ...           ...           ...           ...           ...   \n",
              " 177853          -1.0          -1.0             1             0             1   \n",
              " 177854           0.0           0.0             0             0             0   \n",
              " 177855           0.0           0.0             1             0             0   \n",
              " 177856          -1.0          -1.0             0             0             0   \n",
              " 177857           0.0           0.0             0             0             0   \n",
              " \n",
              "         feature_1363  feature_1364  feature_1365  feature_1366  \n",
              " 0                  0             0             1             0  \n",
              " 1                  0             0             0             0  \n",
              " 2                  0             0             0             0  \n",
              " 3                  0             0             0             0  \n",
              " 4                  0             0             0             0  \n",
              " ...              ...           ...           ...           ...  \n",
              " 177853             0             1             1             1  \n",
              " 177854             0             0             0             0  \n",
              " 177855             0             0             0             0  \n",
              " 177856             0             1             0             1  \n",
              " 177857             0             0             0             0  \n",
              " \n",
              " [177858 rows x 1367 columns],\n",
              " 0         0\n",
              " 1         0\n",
              " 2         0\n",
              " 3         0\n",
              " 4         0\n",
              "          ..\n",
              " 177853    0\n",
              " 177854    0\n",
              " 177855    0\n",
              " 177856    0\n",
              " 177857    0\n",
              " Name: target, Length: 177858, dtype: int64)"
            ]
          },
          "execution_count": 6,
          "metadata": {},
          "output_type": "execute_result"
        }
      ],
      "source": [
        "\n",
        "# Удаляем индекс, так как он не несёт информации для модели\n",
        "X = df.drop(['index', 'target'], axis=1)  # Все фичи (feature_1 ... feature_1366)\n",
        "y = df['target']  # Целевая переменная\n",
        "\n",
        "X, y"
      ]
    },
    {
      "cell_type": "code",
      "execution_count": 7,
      "id": "9e6fb7e3",
      "metadata": {},
      "outputs": [],
      "source": [
        "indexes = df['index']"
      ]
    },
    {
      "cell_type": "code",
      "execution_count": 6,
      "id": "97608bd4",
      "metadata": {},
      "outputs": [
        {
          "name": "stdout",
          "output_type": "stream",
          "text": [
            "Исходное число признаков: 1367\n",
            ",Число признаков после отбора: 200\n"
          ]
        }
      ],
      "source": [
        "# 1. Отбор признаков: удаляем низковариативные (константные и почти константные)\n",
        "# Сделаем pipeline для более эффективного отбора признаков(их сокращения)\n",
        "pipe = Pipeline([\n",
        "    ('selector', VarianceThreshold(threshold=0.01)),\n",
        "    ('kbest', SelectKBest(f_classif, k=200)),\n",
        "    # ('lasso_selection', SelectFromModel(LassoCV(cv=2), max_features=500))\n",
        "])\n",
        "\n",
        "X_selected = pipe.fit_transform(X, y)\n",
        "selector = pipe.named_steps['kbest']\n",
        "\n",
        "print(f\"Исходное число признаков: {X.shape[1]}\")\n",
        "print(f\"Число признаков после отбора: {X_selected.shape[1]}\")"
      ]
    },
    {
      "cell_type": "code",
      "execution_count": 7,
      "id": "2d5ebe0a",
      "metadata": {},
      "outputs": [],
      "source": [
        "# 2. Масштабирование данных (важно для линейной регрессии)\n",
        "scaler = StandardScaler()\n",
        "X_scaled = scaler.fit_transform(X_selected)\n",
        "\n",
        "X_train, X_test, y_train, y_test = train_test_split(\n",
        "    X_selected, y, test_size=0.3, random_state=42\n",
        ")\n"
      ]
    },
    {
      "cell_type": "code",
      "execution_count": null,
      "id": "e8e0b579",
      "metadata": {},
      "outputs": [
        {
          "name": "stdout",
          "output_type": "stream",
          "text": [
            "\n",
            ",MSE: 0.0171\n",
            ",R2 Score: 0.0016\n",
            ",ROC-AUC Score: 0.6536\n",
            ",\n",
            ",Модель имеет 400 коэффициентов (слишком много для вывода).\n"
          ]
        }
      ],
      "source": [
        "# 4. Создание и обучение модели\n",
        "model = LinearRegression()\n",
        "model.fit(X_train, y_train)\n",
        "\n",
        "# 5. Предсказание и оценка качества\n",
        "y_pred = model.predict(X_test)\n",
        "# y_pred_proba_lin_reg = model.decision_function(X_test)\n",
        "\n",
        "# Метрики\n",
        "mse = mean_squared_error(y_test, y_pred)\n",
        "# нормализуем значения для roc_auc\n",
        "y_proba = 1 / (1 + np.exp(-y_pred)) # преобразование через сигмойду\n",
        "roc_auc = roc_auc_score(y_test, y_proba)\n",
        "\n",
        "print(f\"\\nMSE: {mse:.4f}\")\n",
        "print(f\"ROC-AUC Score: {roc_auc:.4f}\")\n",
        "\n",
        "# (Опционально) Вывод коэффициентов модели\n",
        "if X_selected.shape[1] <= 20:  # Не выводить для слишком большого числа фич\n",
        "    print(\"\\nКоэффициенты модели:\")\n",
        "    # for feature, coef in zip(X.columns[selector.get_support()], model.coef_):\n",
        "    #     print(f\"{feature}: {coef:.4f}\")\n",
        "else:\n",
        "    print(f\"\\nМодель имеет {X_selected.shape[1]} коэффициентов (слишком много для вывода).\")"
      ]
    },
    {
      "cell_type": "code",
      "execution_count": 42,
      "id": "61f786ac",
      "metadata": {},
      "outputs": [
        {
          "data": {
            "text/plain": [
              "array([ 0.01629677,  0.00887584,  0.00911322, ...,  0.0150569 ,\n",
              "       -0.0037384 , -0.00022041], shape=(53358,))"
            ]
          },
          "execution_count": 42,
          "metadata": {},
          "output_type": "execute_result"
        }
      ],
      "source": [
        "y_pred"
      ]
    },
    {
      "cell_type": "markdown",
      "id": "1ee56f1d",
      "metadata": {},
      "source": [
        "Так.... Из полученных метрик следует что вроде бы по MSE результат довольно терпимый и среднеквадратичная ошибка не слишком большая.\n",
        "Касаемо метрики ROC-AUC Score получаем 0.6536 что является лучше чем убычное угадывание(подбрасывание монетки).\n",
        "Из инересного мы не должны использовать LinearRegression, так как она может выдавать значения за пределами [0, 1], но после регуляризации значений, они могут быть использованиы для вычисления метрики. "
      ]
    },
    {
      "cell_type": "markdown",
      "id": "6d750929",
      "metadata": {},
      "source": [
        "Попробуем RandomForestClassifier"
      ]
    },
    {
      "cell_type": "code",
      "execution_count": null,
      "id": "a35beee4",
      "metadata": {},
      "outputs": [],
      "source": [
        "model = RandomForestClassifier()\n",
        "model.fit(X_train, y_train)\n",
        "\n",
        "y_pred_proba = model.predict_proba(X_test)[:, 1]\n",
        "roc_auc = roc_auc_score(y_test, y_pred_proba)\n"
      ]
    },
    {
      "cell_type": "code",
      "execution_count": 13,
      "id": "bed71c2a",
      "metadata": {},
      "outputs": [
        {
          "data": {
            "text/plain": [
              "array([0.  , 0.04, 0.03, ..., 0.  , 0.03, 0.  ], shape=(53358,))"
            ]
          },
          "execution_count": 13,
          "metadata": {},
          "output_type": "execute_result"
        }
      ],
      "source": [
        "y_pred_proba"
      ]
    },
    {
      "cell_type": "code",
      "execution_count": 47,
      "id": "7f3a6d78",
      "metadata": {},
      "outputs": [
        {
          "name": "stdout",
          "output_type": "stream",
          "text": [
            "ROC_AUC_SCORE is 0.6261\n"
          ]
        }
      ],
      "source": [
        "print(f\"ROC_AUC_SCORE is {roc_auc:.4f}\")"
      ]
    },
    {
      "cell_type": "markdown",
      "id": "4a523067",
      "metadata": {},
      "source": [
        "Прогресс, модель достигла случайного угадывания\n",
        "(последние данные ROC_AUC_SCORE is 0.6261, это даже лучше чем просто уадывание по среднему значению)"
      ]
    },
    {
      "cell_type": "code",
      "execution_count": 32,
      "id": "003b1165",
      "metadata": {},
      "outputs": [
        {
          "name": "stdout",
          "output_type": "stream",
          "text": [
            "MSE: 0.02\n"
          ]
        }
      ],
      "source": [
        "mse = mean_squared_error(y_test, y_pred_proba)\n",
        "print(f'MSE: {mse:.2f}')"
      ]
    },
    {
      "cell_type": "markdown",
      "id": "d133c2d4",
      "metadata": {},
      "source": [
        "Небольшой апдейт для структуры модели"
      ]
    },
    {
      "cell_type": "code",
      "execution_count": 12,
      "id": "f58e5d78",
      "metadata": {},
      "outputs": [],
      "source": [
        "X_train, X_test, y_train, y_test = train_test_split(\n",
        "    X, y, test_size=0.3, random_state=42\n",
        ")"
      ]
    },
    {
      "cell_type": "code",
      "execution_count": null,
      "id": "45b9dd08",
      "metadata": {},
      "outputs": [],
      "source": [
        "# 1. Отбор признаков: удаляем низковариативные (константные и почти константные)\n",
        "# Сделаем pipeline для более эффективного отбора признаков(их сокращения)\n",
        "pipe = Pipeline([\n",
        "    ('selector', VarianceThreshold(threshold=0.01)),\n",
        "    ('kbest', SelectKBest(f_classif, k=100)),\n",
        "    ('scaler', StandardScaler()),\n",
        "    ('model', RandomForestClassifier())\n",
        "    # ('lasso_selection', SelectFromModel(LassoCV(cv=2), max_features=500))\n",
        "])\n",
        "\n",
        "pipe.fit(X_train, y_train)\n",
        "\n",
        "y_pred = pipe.predict_proba(X_test)[:, 1]\n",
        "\n",
        "roc_auc_metric = roc_auc_score(y_test, y_pred)\n"
      ]
    },
    {
      "cell_type": "code",
      "execution_count": 33,
      "id": "1657a37c",
      "metadata": {},
      "outputs": [
        {
          "name": "stdout",
          "output_type": "stream",
          "text": [
            "ROC-AUC Score is 0.6221\n"
          ]
        }
      ],
      "source": [
        "print(f\"ROC-AUC Score is {roc_auc_metric:.4f}\")"
      ]
    },
    {
      "cell_type": "markdown",
      "id": "7551e3d8",
      "metadata": {},
      "source": [
        "А что если заменить RandomForsetClassifier на LogisticRegression"
      ]
    },
    {
      "cell_type": "code",
      "execution_count": null,
      "id": "9ade12e8",
      "metadata": {},
      "outputs": [],
      "source": [
        "# 1. Отбор признаков: удаляем низковариативные (константные и почти константные)\n",
        "# Сделаем pipeline для более эффективного отбора признаков(их сокращения)\n",
        "pipe = Pipeline([\n",
        "    ('selector', VarianceThreshold(threshold=0.01)),\n",
        "    ('kbest', SelectKBest(f_classif, k=100)),\n",
        "    ('scaler', StandardScaler()),\n",
        "    ('model', LogisticRegression())\n",
        "    # ('lasso_selection', SelectFromModel(LassoCV(cv=2), max_features=500))\n",
        "])\n",
        "\n",
        "pipe.fit(X_train, y_train)\n",
        "\n",
        "y_pred = pipe.predict_proba(X_test)[:, 1]\n",
        "\n",
        "roc_auc_metric = roc_auc_score(y_test, y_pred)"
      ]
    },
    {
      "cell_type": "code",
      "execution_count": 37,
      "id": "1fb1f965",
      "metadata": {},
      "outputs": [
        {
          "name": "stdout",
          "output_type": "stream",
          "text": [
            "ROC-AUC Score is 0.6473\n"
          ]
        }
      ],
      "source": [
        "print(f\"ROC-AUC Score is {roc_auc_metric:.4f}\")"
      ]
    },
    {
      "cell_type": "markdown",
      "id": "0c997fdf",
      "metadata": {},
      "source": [
        "Вау, метрика подросла)\n"
      ]
    },
    {
      "cell_type": "markdown",
      "id": "61619d27",
      "metadata": {},
      "source": [
        "Теперь попробуем GradientBoostingClassifier\n"
      ]
    },
    {
      "cell_type": "code",
      "execution_count": 13,
      "id": "c06ca331",
      "metadata": {},
      "outputs": [],
      "source": [
        "# 1. Отбор признаков: удаляем низковариативные (константные и почти константные)\n",
        "# Сделаем pipeline для более эффективного отбора признаков(их сокращения)\n",
        "pipe = Pipeline([\n",
        "    ('selector', VarianceThreshold(threshold=0.01)),\n",
        "    ('kbest', SelectKBest(f_classif, k=100)),\n",
        "    ('scaler', StandardScaler()),\n",
        "    ('model', GradientBoostingClassifier())\n",
        "    # ('lasso_selection', SelectFromModel(LassoCV(cv=2), max_features=500))\n",
        "])\n",
        "\n",
        "pipe.fit(X_train, y_train)\n",
        "\n",
        "y_pred = pipe.predict_proba(X_test)[:, 1]\n",
        "\n",
        "roc_auc_metric = roc_auc_score(y_test, y_pred)"
      ]
    },
    {
      "cell_type": "code",
      "execution_count": 14,
      "id": "8d8ec84b",
      "metadata": {},
      "outputs": [
        {
          "name": "stdout",
          "output_type": "stream",
          "text": [
            "ROC-AUC Score is 0.6791\n"
          ]
        }
      ],
      "source": [
        "print(f\"ROC-AUC Score is {roc_auc_metric:.4f}\")"
      ]
    },
    {
      "cell_type": "markdown",
      "id": "913dd4b5",
      "metadata": {},
      "source": [
        "Попробуем еще одну модель SVC"
      ]
    },
    {
      "cell_type": "code",
      "execution_count": 6,
      "id": "13e780c8",
      "metadata": {},
      "outputs": [],
      "source": [
        "# 1. Отбор признаков: удаляем низковариативные (константные и почти константные)\n",
        "# Сделаем pipeline для более эффективного отбора признаков(их сокращения)\n",
        "pipe = Pipeline([\n",
        "    ('selector', VarianceThreshold(threshold=0.01)),\n",
        "    ('kbest', SelectKBest(f_classif, k=100)),\n",
        "    ('scaler', StandardScaler()),\n",
        "    ('model', SVC(probability=True, kernel='rbf', C=1.0, decision_function_shape='ovr'))\n",
        "    # ('lasso_selection', SelectFromModel(LassoCV(cv=2), max_features=500))\n",
        "])\n",
        "\n",
        "pipe.fit(X_train, y_train)\n",
        "\n",
        "y_pred = pipe.predict_proba(X_test)[:, 1]\n",
        "\n",
        "roc_auc_metric = roc_auc_score(y_test, y_pred)"
      ]
    },
    {
      "cell_type": "code",
      "execution_count": 7,
      "id": "de79ac60",
      "metadata": {},
      "outputs": [
        {
          "name": "stdout",
          "output_type": "stream",
          "text": [
            "ROC-AUC Score is 0.5873\n"
          ]
        }
      ],
      "source": [
        "print(f\"ROC-AUC Score is {roc_auc_metric:.4f}\")"
      ]
    },
    {
      "cell_type": "markdown",
      "id": "8b2a38a4",
      "metadata": {},
      "source": [
        "Начинаем работу с XGBoost"
      ]
    },
    {
      "cell_type": "markdown",
      "id": "a1747eeb",
      "metadata": {},
      "source": [
        "Подготовим данные для него"
      ]
    },
    {
      "cell_type": "code",
      "execution_count": 8,
      "id": "57b8cc54",
      "metadata": {},
      "outputs": [],
      "source": [
        "pipe = Pipeline([\n",
        "    ('selector', VarianceThreshold(threshold=0.01)),\n",
        "    ('scaler', StandardScaler()),\n",
        "    # ('kbest', SelectKBest(f_classif, k=500)),\n",
        "])\n",
        "\n",
        "X_selected = pipe.fit_transform(X, y)"
      ]
    },
    {
      "cell_type": "code",
      "execution_count": 9,
      "id": "8ad9b766",
      "metadata": {},
      "outputs": [
        {
          "ename": "MemoryError",
          "evalue": "Unable to allocate 1.06 TiB for an array with shape (177858, 821122) and data type float64",
          "output_type": "error",
          "traceback": [
            "\u001b[31m---------------------------------------------------------------------------\u001b[39m",
            "\u001b[31mMemoryError\u001b[39m                               Traceback (most recent call last)",
            "\u001b[36mCell\u001b[39m\u001b[36m \u001b[39m\u001b[32mIn[9]\u001b[39m\u001b[32m, line 4\u001b[39m\n\u001b[32m      1\u001b[39m \u001b[38;5;28;01mfrom\u001b[39;00m\u001b[38;5;250m \u001b[39m\u001b[34;01msklearn\u001b[39;00m\u001b[34;01m.\u001b[39;00m\u001b[34;01mpreprocessing\u001b[39;00m\u001b[38;5;250m \u001b[39m\u001b[38;5;28;01mimport\u001b[39;00m PolynomialFeatures\n\u001b[32m      3\u001b[39m poly = PolynomialFeatures(degree=\u001b[32m2\u001b[39m, interaction_only=\u001b[38;5;28;01mTrue\u001b[39;00m)\n\u001b[32m----> \u001b[39m\u001b[32m4\u001b[39m X_poly = \u001b[43mpoly\u001b[49m\u001b[43m.\u001b[49m\u001b[43mfit_transform\u001b[49m\u001b[43m(\u001b[49m\u001b[43mX_selected\u001b[49m\u001b[43m)\u001b[49m\n",
            "\u001b[36mFile \u001b[39m\u001b[32mc:\\Users\\ADMIN\\AppData\\Local\\Programs\\Python\\Python312\\Lib\\site-packages\\sklearn\\utils\\_set_output.py:319\u001b[39m, in \u001b[36m_wrap_method_output.<locals>.wrapped\u001b[39m\u001b[34m(self, X, *args, **kwargs)\u001b[39m\n\u001b[32m    317\u001b[39m \u001b[38;5;129m@wraps\u001b[39m(f)\n\u001b[32m    318\u001b[39m \u001b[38;5;28;01mdef\u001b[39;00m\u001b[38;5;250m \u001b[39m\u001b[34mwrapped\u001b[39m(\u001b[38;5;28mself\u001b[39m, X, *args, **kwargs):\n\u001b[32m--> \u001b[39m\u001b[32m319\u001b[39m     data_to_wrap = \u001b[43mf\u001b[49m\u001b[43m(\u001b[49m\u001b[38;5;28;43mself\u001b[39;49m\u001b[43m,\u001b[49m\u001b[43m \u001b[49m\u001b[43mX\u001b[49m\u001b[43m,\u001b[49m\u001b[43m \u001b[49m\u001b[43m*\u001b[49m\u001b[43margs\u001b[49m\u001b[43m,\u001b[49m\u001b[43m \u001b[49m\u001b[43m*\u001b[49m\u001b[43m*\u001b[49m\u001b[43mkwargs\u001b[49m\u001b[43m)\u001b[49m\n\u001b[32m    320\u001b[39m     \u001b[38;5;28;01mif\u001b[39;00m \u001b[38;5;28misinstance\u001b[39m(data_to_wrap, \u001b[38;5;28mtuple\u001b[39m):\n\u001b[32m    321\u001b[39m         \u001b[38;5;66;03m# only wrap the first output for cross decomposition\u001b[39;00m\n\u001b[32m    322\u001b[39m         return_tuple = (\n\u001b[32m    323\u001b[39m             _wrap_data_with_container(method, data_to_wrap[\u001b[32m0\u001b[39m], X, \u001b[38;5;28mself\u001b[39m),\n\u001b[32m    324\u001b[39m             *data_to_wrap[\u001b[32m1\u001b[39m:],\n\u001b[32m    325\u001b[39m         )\n",
            "\u001b[36mFile \u001b[39m\u001b[32mc:\\Users\\ADMIN\\AppData\\Local\\Programs\\Python\\Python312\\Lib\\site-packages\\sklearn\\base.py:918\u001b[39m, in \u001b[36mTransformerMixin.fit_transform\u001b[39m\u001b[34m(self, X, y, **fit_params)\u001b[39m\n\u001b[32m    903\u001b[39m         warnings.warn(\n\u001b[32m    904\u001b[39m             (\n\u001b[32m    905\u001b[39m                 \u001b[33mf\u001b[39m\u001b[33m\"\u001b[39m\u001b[33mThis object (\u001b[39m\u001b[38;5;132;01m{\u001b[39;00m\u001b[38;5;28mself\u001b[39m.\u001b[34m__class__\u001b[39m.\u001b[34m__name__\u001b[39m\u001b[38;5;132;01m}\u001b[39;00m\u001b[33m) has a `transform`\u001b[39m\u001b[33m\"\u001b[39m\n\u001b[32m   (...)\u001b[39m\u001b[32m    913\u001b[39m             \u001b[38;5;167;01mUserWarning\u001b[39;00m,\n\u001b[32m    914\u001b[39m         )\n\u001b[32m    916\u001b[39m \u001b[38;5;28;01mif\u001b[39;00m y \u001b[38;5;129;01mis\u001b[39;00m \u001b[38;5;28;01mNone\u001b[39;00m:\n\u001b[32m    917\u001b[39m     \u001b[38;5;66;03m# fit method of arity 1 (unsupervised transformation)\u001b[39;00m\n\u001b[32m--> \u001b[39m\u001b[32m918\u001b[39m     \u001b[38;5;28;01mreturn\u001b[39;00m \u001b[38;5;28;43mself\u001b[39;49m\u001b[43m.\u001b[49m\u001b[43mfit\u001b[49m\u001b[43m(\u001b[49m\u001b[43mX\u001b[49m\u001b[43m,\u001b[49m\u001b[43m \u001b[49m\u001b[43m*\u001b[49m\u001b[43m*\u001b[49m\u001b[43mfit_params\u001b[49m\u001b[43m)\u001b[49m\u001b[43m.\u001b[49m\u001b[43mtransform\u001b[49m\u001b[43m(\u001b[49m\u001b[43mX\u001b[49m\u001b[43m)\u001b[49m\n\u001b[32m    919\u001b[39m \u001b[38;5;28;01melse\u001b[39;00m:\n\u001b[32m    920\u001b[39m     \u001b[38;5;66;03m# fit method of arity 2 (supervised transformation)\u001b[39;00m\n\u001b[32m    921\u001b[39m     \u001b[38;5;28;01mreturn\u001b[39;00m \u001b[38;5;28mself\u001b[39m.fit(X, y, **fit_params).transform(X)\n",
            "\u001b[36mFile \u001b[39m\u001b[32mc:\\Users\\ADMIN\\AppData\\Local\\Programs\\Python\\Python312\\Lib\\site-packages\\sklearn\\utils\\_set_output.py:319\u001b[39m, in \u001b[36m_wrap_method_output.<locals>.wrapped\u001b[39m\u001b[34m(self, X, *args, **kwargs)\u001b[39m\n\u001b[32m    317\u001b[39m \u001b[38;5;129m@wraps\u001b[39m(f)\n\u001b[32m    318\u001b[39m \u001b[38;5;28;01mdef\u001b[39;00m\u001b[38;5;250m \u001b[39m\u001b[34mwrapped\u001b[39m(\u001b[38;5;28mself\u001b[39m, X, *args, **kwargs):\n\u001b[32m--> \u001b[39m\u001b[32m319\u001b[39m     data_to_wrap = \u001b[43mf\u001b[49m\u001b[43m(\u001b[49m\u001b[38;5;28;43mself\u001b[39;49m\u001b[43m,\u001b[49m\u001b[43m \u001b[49m\u001b[43mX\u001b[49m\u001b[43m,\u001b[49m\u001b[43m \u001b[49m\u001b[43m*\u001b[49m\u001b[43margs\u001b[49m\u001b[43m,\u001b[49m\u001b[43m \u001b[49m\u001b[43m*\u001b[49m\u001b[43m*\u001b[49m\u001b[43mkwargs\u001b[49m\u001b[43m)\u001b[49m\n\u001b[32m    320\u001b[39m     \u001b[38;5;28;01mif\u001b[39;00m \u001b[38;5;28misinstance\u001b[39m(data_to_wrap, \u001b[38;5;28mtuple\u001b[39m):\n\u001b[32m    321\u001b[39m         \u001b[38;5;66;03m# only wrap the first output for cross decomposition\u001b[39;00m\n\u001b[32m    322\u001b[39m         return_tuple = (\n\u001b[32m    323\u001b[39m             _wrap_data_with_container(method, data_to_wrap[\u001b[32m0\u001b[39m], X, \u001b[38;5;28mself\u001b[39m),\n\u001b[32m    324\u001b[39m             *data_to_wrap[\u001b[32m1\u001b[39m:],\n\u001b[32m    325\u001b[39m         )\n",
            "\u001b[36mFile \u001b[39m\u001b[32mc:\\Users\\ADMIN\\AppData\\Local\\Programs\\Python\\Python312\\Lib\\site-packages\\sklearn\\preprocessing\\_polynomial.py:517\u001b[39m, in \u001b[36mPolynomialFeatures.transform\u001b[39m\u001b[34m(self, X)\u001b[39m\n\u001b[32m    513\u001b[39m     XP = sparse.hstack(columns, dtype=X.dtype).tocsc()\n\u001b[32m    514\u001b[39m \u001b[38;5;28;01melse\u001b[39;00m:\n\u001b[32m    515\u001b[39m     \u001b[38;5;66;03m# Do as if _min_degree = 0 and cut down array after the\u001b[39;00m\n\u001b[32m    516\u001b[39m     \u001b[38;5;66;03m# computation, i.e. use _n_out_full instead of n_output_features_.\u001b[39;00m\n\u001b[32m--> \u001b[39m\u001b[32m517\u001b[39m     XP = \u001b[43mnp\u001b[49m\u001b[43m.\u001b[49m\u001b[43mempty\u001b[49m\u001b[43m(\u001b[49m\n\u001b[32m    518\u001b[39m \u001b[43m        \u001b[49m\u001b[43mshape\u001b[49m\u001b[43m=\u001b[49m\u001b[43m(\u001b[49m\u001b[43mn_samples\u001b[49m\u001b[43m,\u001b[49m\u001b[43m \u001b[49m\u001b[38;5;28;43mself\u001b[39;49m\u001b[43m.\u001b[49m\u001b[43m_n_out_full\u001b[49m\u001b[43m)\u001b[49m\u001b[43m,\u001b[49m\u001b[43m \u001b[49m\u001b[43mdtype\u001b[49m\u001b[43m=\u001b[49m\u001b[43mX\u001b[49m\u001b[43m.\u001b[49m\u001b[43mdtype\u001b[49m\u001b[43m,\u001b[49m\u001b[43m \u001b[49m\u001b[43morder\u001b[49m\u001b[43m=\u001b[49m\u001b[38;5;28;43mself\u001b[39;49m\u001b[43m.\u001b[49m\u001b[43morder\u001b[49m\n\u001b[32m    519\u001b[39m \u001b[43m    \u001b[49m\u001b[43m)\u001b[49m\n\u001b[32m    521\u001b[39m     \u001b[38;5;66;03m# What follows is a faster implementation of:\u001b[39;00m\n\u001b[32m    522\u001b[39m     \u001b[38;5;66;03m# for i, comb in enumerate(combinations):\u001b[39;00m\n\u001b[32m    523\u001b[39m     \u001b[38;5;66;03m#     XP[:, i] = X[:, comb].prod(1)\u001b[39;00m\n\u001b[32m   (...)\u001b[39m\u001b[32m    533\u001b[39m \n\u001b[32m    534\u001b[39m     \u001b[38;5;66;03m# degree 0 term\u001b[39;00m\n\u001b[32m    535\u001b[39m     \u001b[38;5;28;01mif\u001b[39;00m \u001b[38;5;28mself\u001b[39m.include_bias:\n",
            "\u001b[31mMemoryError\u001b[39m: Unable to allocate 1.06 TiB for an array with shape (177858, 821122) and data type float64"
          ]
        }
      ],
      "source": [
        "from sklearn.preprocessing import PolynomialFeatures\n",
        "\n",
        "poly = PolynomialFeatures(degree=2, interaction_only=True)\n",
        "X_poly = poly.fit_transform(X_selected)"
      ]
    },
    {
      "cell_type": "markdown",
      "id": "e3e1239d",
      "metadata": {},
      "source": [
        "Для полиномиальных признаков"
      ]
    },
    {
      "cell_type": "code",
      "execution_count": 6,
      "id": "0d215076",
      "metadata": {},
      "outputs": [
        {
          "ename": "NameError",
          "evalue": "name 'X_poly' is not defined",
          "output_type": "error",
          "traceback": [
            "\u001b[31m---------------------------------------------------------------------------\u001b[39m",
            "\u001b[31mNameError\u001b[39m                                 Traceback (most recent call last)",
            "\u001b[36mCell\u001b[39m\u001b[36m \u001b[39m\u001b[32mIn[6]\u001b[39m\u001b[32m, line 2\u001b[39m\n\u001b[32m      1\u001b[39m X_train, X_test, y_train, y_test = train_test_split(\n\u001b[32m----> \u001b[39m\u001b[32m2\u001b[39m     \u001b[43mX_poly\u001b[49m, y, test_size=\u001b[32m0.2\u001b[39m, random_state=\u001b[32m42\u001b[39m\n\u001b[32m      3\u001b[39m )\n",
            "\u001b[31mNameError\u001b[39m: name 'X_poly' is not defined"
          ]
        }
      ],
      "source": [
        "X_train, X_test, y_train, y_test = train_test_split(\n",
        "    X_poly, y, test_size=0.2, random_state=42\n",
        ")"
      ]
    },
    {
      "cell_type": "code",
      "execution_count": 10,
      "id": "b4ac6c9c",
      "metadata": {},
      "outputs": [],
      "source": [
        "X_train, X_test, y_train, y_test = train_test_split(\n",
        "    X_selected, y, test_size=0.2, random_state=42\n",
        ")"
      ]
    },
    {
      "cell_type": "markdown",
      "id": "a7107f09",
      "metadata": {},
      "source": [
        "Попытаемся создать полиномиальные признаки"
      ]
    },
    {
      "cell_type": "markdown",
      "id": "8527362c",
      "metadata": {},
      "source": [
        "Присутствуют импорты библиотек и моделей, чтобы лучше понимать что происходит и не возвращаться каждый раз наверх"
      ]
    },
    {
      "cell_type": "markdown",
      "id": "2fcaa402",
      "metadata": {},
      "source": [
        "Пипец долго считает)"
      ]
    },
    {
      "cell_type": "code",
      "execution_count": null,
      "id": "5611634b",
      "metadata": {},
      "outputs": [],
      "source": [
        "from xgboost import XGBClassifier\n",
        "from sklearn.model_selection import GridSearchCV\n",
        "\n",
        "model = XGBClassifier(objective='binary:logistic', eval_metric='auc', tree_method='hist', device='cuda')\n",
        "\n",
        "param_grid = {\n",
        "    'n_estimators': [500, 1000, 1500, 1700],\n",
        "    'max_depth': [3, 6, 9],\n",
        "    'learning_rate': [0.01, 0.1, 0.2],\n",
        "    'subsample': [0.7, 0.9],\n",
        "    'colsample_bytree': [0.7, 0.9],\n",
        "    'reg_alpha': [0, 1],\n",
        "    'reg_lambda': [0, 1]\n",
        "}\n",
        "\n",
        "grid = GridSearchCV(model, param_grid, scoring='roc_auc', cv=5, n_jobs=-1)\n",
        "grid.fit(X_train, y_train)\n",
        "\n",
        "print(f\"Лучшие параметры: {grid.best_params_}\")\n",
        "print(f\"Лучший ROC-AUC: {grid.best_score_:.4f}\")"
      ]
    },
    {
      "cell_type": "code",
      "execution_count": 9,
      "id": "af9dd32d",
      "metadata": {},
      "outputs": [
        {
          "name": "stderr",
          "output_type": "stream",
          "text": [
            "[I 2025-04-24 15:47:06,315] A new study created in memory with name: no-name-ad40d7ca-dec2-4e7d-8ff9-560291bc2fde\n",
            ",  0%|          | 0/50 [00:00<?, ?it/s]c:\\Users\\ADMIN\\AppData\\Local\\Programs\\Python\\Python312\\Lib\\site-packages\\xgboost\\core.py:729: UserWarning: [15:48:44] WARNING: C:\\actions-runner\\_work\\xgboost\\xgboost\\src\\common\\error_msg.cc:58: Falling back to prediction using DMatrix due to mismatched devices. This might lead to higher memory usage and slower performance. XGBoost is running on: cuda:0, while the input data is on: cpu.\n",
            ",Potential solutions:\n",
            ",- Use a data structure that matches the device ordinal in the booster.\n",
            ",- Set the device for booster before call to inplace_predict.\n",
            ",\n",
            ",This warning will only be shown once.\n",
            ",\n",
            ",  return func(**kwargs)\n",
            ",Best trial: 0. Best value: 0.719963:   2%|▏         | 1/50 [01:39<1:20:56, 99.11s/it]"
          ]
        },
        {
          "name": "stdout",
          "output_type": "stream",
          "text": [
            "[I 2025-04-24 15:48:45,425] Trial 0 finished with value: 0.7199628349060889 and parameters: {'n_estimators': 1125, 'max_depth': 8, 'learning_rate': 0.02241833424878355, 'subsample': 0.8096449737437666, 'colsample_bytree': 0.7073004384635065, 'reg_alpha': 6.533106038440083, 'reg_lambda': 9.262728769416047}. Best is trial 0 with value: 0.7199628349060889.\n"
          ]
        },
        {
          "name": "stderr",
          "output_type": "stream",
          "text": [
            "Best trial: 0. Best value: 0.719963:   4%|▍         | 2/50 [03:13<1:16:53, 96.12s/it]"
          ]
        },
        {
          "name": "stdout",
          "output_type": "stream",
          "text": [
            "[I 2025-04-24 15:50:19,449] Trial 1 finished with value: 0.6954017664553149 and parameters: {'n_estimators': 2776, 'max_depth': 4, 'learning_rate': 0.18976614883120557, 'subsample': 0.9024856139308948, 'colsample_bytree': 0.7919114539903954, 'reg_alpha': 0.8403179895039259, 'reg_lambda': 5.852740218876109}. Best is trial 0 with value: 0.7199628349060889.\n"
          ]
        },
        {
          "name": "stderr",
          "output_type": "stream",
          "text": [
            "Best trial: 0. Best value: 0.719963:   6%|▌         | 3/50 [05:59<1:40:17, 128.03s/it]"
          ]
        },
        {
          "name": "stdout",
          "output_type": "stream",
          "text": [
            "[I 2025-04-24 15:53:05,448] Trial 2 finished with value: 0.7180354475785997 and parameters: {'n_estimators': 1978, 'max_depth': 9, 'learning_rate': 0.05694786801733289, 'subsample': 0.7847523081993439, 'colsample_bytree': 0.7076873877312242, 'reg_alpha': 4.669880749825391, 'reg_lambda': 2.8157237485636477}. Best is trial 0 with value: 0.7199628349060889.\n"
          ]
        },
        {
          "name": "stderr",
          "output_type": "stream",
          "text": [
            "Best trial: 0. Best value: 0.719963:   8%|▊         | 4/50 [08:18<1:41:30, 132.41s/it]"
          ]
        },
        {
          "name": "stdout",
          "output_type": "stream",
          "text": [
            "[I 2025-04-24 15:55:24,573] Trial 3 finished with value: 0.713451473531361 and parameters: {'n_estimators': 2097, 'max_depth': 7, 'learning_rate': 0.09032277147875942, 'subsample': 0.9002062763042251, 'colsample_bytree': 0.837580096391722, 'reg_alpha': 3.7472901513237202, 'reg_lambda': 3.9775543268465596}. Best is trial 0 with value: 0.7199628349060889.\n"
          ]
        },
        {
          "name": "stderr",
          "output_type": "stream",
          "text": [
            "Best trial: 0. Best value: 0.719963:  10%|█         | 5/50 [09:31<1:23:15, 111.01s/it]"
          ]
        },
        {
          "name": "stdout",
          "output_type": "stream",
          "text": [
            "[I 2025-04-24 15:56:37,647] Trial 4 finished with value: 0.700522743565372 and parameters: {'n_estimators': 2614, 'max_depth': 3, 'learning_rate': 0.19727794585205108, 'subsample': 0.9200595290250553, 'colsample_bytree': 0.8780237782872266, 'reg_alpha': 6.324090389445636, 'reg_lambda': 3.1349286728369705}. Best is trial 0 with value: 0.7199628349060889.\n"
          ]
        },
        {
          "name": "stderr",
          "output_type": "stream",
          "text": [
            "Best trial: 0. Best value: 0.719963:  12%|█▏        | 6/50 [10:38<1:10:24, 96.02s/it] "
          ]
        },
        {
          "name": "stdout",
          "output_type": "stream",
          "text": [
            "[I 2025-04-24 15:57:44,559] Trial 5 finished with value: 0.6937455807809569 and parameters: {'n_estimators': 2294, 'max_depth': 5, 'learning_rate': 0.1097006062085589, 'subsample': 0.976071773775874, 'colsample_bytree': 0.8239415761892432, 'reg_alpha': 0.6321924008529678, 'reg_lambda': 2.1126222794157923}. Best is trial 0 with value: 0.7199628349060889.\n"
          ]
        },
        {
          "name": "stderr",
          "output_type": "stream",
          "text": [
            "Best trial: 0. Best value: 0.719963:  14%|█▍        | 7/50 [11:58<1:05:06, 90.84s/it]"
          ]
        },
        {
          "name": "stdout",
          "output_type": "stream",
          "text": [
            "[I 2025-04-24 15:59:04,741] Trial 6 finished with value: 0.6935528610799031 and parameters: {'n_estimators': 2194, 'max_depth': 9, 'learning_rate': 0.2844124627876331, 'subsample': 0.9479362530810237, 'colsample_bytree': 0.7456803339686764, 'reg_alpha': 2.0283629974709774, 'reg_lambda': 9.166632427374378}. Best is trial 0 with value: 0.7199628349060889.\n"
          ]
        },
        {
          "name": "stderr",
          "output_type": "stream",
          "text": [
            "Best trial: 7. Best value: 0.723551:  16%|█▌        | 8/50 [12:58<56:39, 80.94s/it]  "
          ]
        },
        {
          "name": "stdout",
          "output_type": "stream",
          "text": [
            "[I 2025-04-24 16:00:04,465] Trial 7 finished with value: 0.7235508565666319 and parameters: {'n_estimators': 2390, 'max_depth': 5, 'learning_rate': 0.011511099779345708, 'subsample': 0.7274638837984257, 'colsample_bytree': 0.7870636515555891, 'reg_alpha': 2.597695779726802, 'reg_lambda': 5.34023274266019}. Best is trial 7 with value: 0.7235508565666319.\n"
          ]
        },
        {
          "name": "stderr",
          "output_type": "stream",
          "text": [
            "Best trial: 7. Best value: 0.723551:  18%|█▊        | 9/50 [13:28<44:25, 65.02s/it]"
          ]
        },
        {
          "name": "stdout",
          "output_type": "stream",
          "text": [
            "[I 2025-04-24 16:00:34,494] Trial 8 finished with value: 0.7164686157120631 and parameters: {'n_estimators': 1690, 'max_depth': 3, 'learning_rate': 0.08401808970530573, 'subsample': 0.9495905526162115, 'colsample_bytree': 0.7742410137355674, 'reg_alpha': 9.2542879876784, 'reg_lambda': 1.4110384779504381}. Best is trial 7 with value: 0.7235508565666319.\n"
          ]
        },
        {
          "name": "stderr",
          "output_type": "stream",
          "text": [
            "Best trial: 7. Best value: 0.723551:  20%|██        | 10/50 [14:28<42:17, 63.44s/it]"
          ]
        },
        {
          "name": "stdout",
          "output_type": "stream",
          "text": [
            "[I 2025-04-24 16:01:34,411] Trial 9 finished with value: 0.7075546693763993 and parameters: {'n_estimators': 1526, 'max_depth': 6, 'learning_rate': 0.12122429961263705, 'subsample': 0.9210130667271419, 'colsample_bytree': 0.9465049678910262, 'reg_alpha': 8.902489745746562, 'reg_lambda': 8.123063859232982}. Best is trial 7 with value: 0.7235508565666319.\n"
          ]
        },
        {
          "name": "stderr",
          "output_type": "stream",
          "text": [
            "Best trial: 7. Best value: 0.723551:  22%|██▏       | 11/50 [14:53<33:45, 51.94s/it]"
          ]
        },
        {
          "name": "stdout",
          "output_type": "stream",
          "text": [
            "[I 2025-04-24 16:02:00,250] Trial 10 finished with value: 0.721526740649526 and parameters: {'n_estimators': 746, 'max_depth': 6, 'learning_rate': 0.01243079431096733, 'subsample': 0.7173016874036109, 'colsample_bytree': 0.8948034278553091, 'reg_alpha': 2.879613365712022, 'reg_lambda': 6.077309585779324}. Best is trial 7 with value: 0.7235508565666319.\n"
          ]
        },
        {
          "name": "stderr",
          "output_type": "stream",
          "text": [
            "Best trial: 11. Best value: 0.726775:  24%|██▍       | 12/50 [15:16<27:19, 43.14s/it]"
          ]
        },
        {
          "name": "stdout",
          "output_type": "stream",
          "text": [
            "[I 2025-04-24 16:02:23,264] Trial 11 finished with value: 0.7267751825365547 and parameters: {'n_estimators': 653, 'max_depth': 6, 'learning_rate': 0.02176645480492359, 'subsample': 0.7021475108158397, 'colsample_bytree': 0.9160694536741326, 'reg_alpha': 2.5180991485275133, 'reg_lambda': 6.366469735868886}. Best is trial 11 with value: 0.7267751825365547.\n"
          ]
        },
        {
          "name": "stderr",
          "output_type": "stream",
          "text": [
            "Best trial: 11. Best value: 0.726775:  26%|██▌       | 13/50 [15:32<21:29, 34.86s/it]"
          ]
        },
        {
          "name": "stdout",
          "output_type": "stream",
          "text": [
            "[I 2025-04-24 16:02:39,090] Trial 12 finished with value: 0.7245863235099813 and parameters: {'n_estimators': 533, 'max_depth': 5, 'learning_rate': 0.04216421206782048, 'subsample': 0.7029768264100341, 'colsample_bytree': 0.9783963562377573, 'reg_alpha': 1.9301392767346173, 'reg_lambda': 6.8168685384749015}. Best is trial 11 with value: 0.7267751825365547.\n"
          ]
        },
        {
          "name": "stderr",
          "output_type": "stream",
          "text": [
            "Best trial: 11. Best value: 0.726775:  28%|██▊       | 14/50 [16:05<20:30, 34.17s/it]"
          ]
        },
        {
          "name": "stdout",
          "output_type": "stream",
          "text": [
            "[I 2025-04-24 16:03:11,650] Trial 13 finished with value: 0.7020038376461295 and parameters: {'n_estimators': 732, 'max_depth': 7, 'learning_rate': 0.05899633962464237, 'subsample': 0.7634272518482134, 'colsample_bytree': 0.9903073627273128, 'reg_alpha': 0.07941937955347167, 'reg_lambda': 7.202462721893033}. Best is trial 11 with value: 0.7267751825365547.\n"
          ]
        },
        {
          "name": "stderr",
          "output_type": "stream",
          "text": [
            "Best trial: 11. Best value: 0.726775:  30%|███       | 15/50 [16:21<16:42, 28.65s/it]"
          ]
        },
        {
          "name": "stdout",
          "output_type": "stream",
          "text": [
            "[I 2025-04-24 16:03:27,499] Trial 14 finished with value: 0.7005981804462562 and parameters: {'n_estimators': 552, 'max_depth': 5, 'learning_rate': 0.14572867805895473, 'subsample': 0.8428372518885123, 'colsample_bytree': 0.9396165341888109, 'reg_alpha': 1.8093986416637193, 'reg_lambda': 7.2088390918986684}. Best is trial 11 with value: 0.7267751825365547.\n"
          ]
        },
        {
          "name": "stderr",
          "output_type": "stream",
          "text": [
            "Best trial: 11. Best value: 0.726775:  32%|███▏      | 16/50 [18:04<28:58, 51.12s/it]"
          ]
        },
        {
          "name": "stdout",
          "output_type": "stream",
          "text": [
            "[I 2025-04-24 16:05:10,813] Trial 15 finished with value: 0.7206591094660748 and parameters: {'n_estimators': 1205, 'max_depth': 10, 'learning_rate': 0.0518858914422769, 'subsample': 0.7096449586979756, 'colsample_bytree': 0.9980424295495613, 'reg_alpha': 4.238096339577529, 'reg_lambda': 4.476714254586341}. Best is trial 11 with value: 0.7267751825365547.\n"
          ]
        },
        {
          "name": "stderr",
          "output_type": "stream",
          "text": [
            "Best trial: 11. Best value: 0.726775:  34%|███▍      | 17/50 [18:31<24:11, 43.98s/it]"
          ]
        },
        {
          "name": "stdout",
          "output_type": "stream",
          "text": [
            "[I 2025-04-24 16:05:38,184] Trial 16 finished with value: 0.6955846134646102 and parameters: {'n_estimators': 1131, 'max_depth': 4, 'learning_rate': 0.21864001733299962, 'subsample': 0.7513907204041831, 'colsample_bytree': 0.9383574678075621, 'reg_alpha': 5.992597605950136, 'reg_lambda': 0.15343057431670815}. Best is trial 11 with value: 0.7267751825365547.\n"
          ]
        },
        {
          "name": "stderr",
          "output_type": "stream",
          "text": [
            "Best trial: 11. Best value: 0.726775:  36%|███▌      | 18/50 [18:49<19:16, 36.14s/it]"
          ]
        },
        {
          "name": "stdout",
          "output_type": "stream",
          "text": [
            "[I 2025-04-24 16:05:56,081] Trial 17 finished with value: 0.7134886329157636 and parameters: {'n_estimators': 508, 'max_depth': 6, 'learning_rate': 0.04111954387693036, 'subsample': 0.8231030927439897, 'colsample_bytree': 0.9008914016263138, 'reg_alpha': 3.363879223463165, 'reg_lambda': 6.775643165594782}. Best is trial 11 with value: 0.7267751825365547.\n"
          ]
        },
        {
          "name": "stderr",
          "output_type": "stream",
          "text": [
            "Best trial: 11. Best value: 0.726775:  38%|███▊      | 19/50 [19:24<18:31, 35.86s/it]"
          ]
        },
        {
          "name": "stdout",
          "output_type": "stream",
          "text": [
            "[I 2025-04-24 16:06:31,282] Trial 18 finished with value: 0.6800444494751559 and parameters: {'n_estimators': 940, 'max_depth': 4, 'learning_rate': 0.2877945809701882, 'subsample': 0.7535813834116671, 'colsample_bytree': 0.9664542472319517, 'reg_alpha': 1.5931881268015216, 'reg_lambda': 8.408771125295253}. Best is trial 11 with value: 0.7267751825365547.\n"
          ]
        },
        {
          "name": "stderr",
          "output_type": "stream",
          "text": [
            "Best trial: 11. Best value: 0.726775:  40%|████      | 20/50 [20:52<25:38, 51.27s/it]"
          ]
        },
        {
          "name": "stdout",
          "output_type": "stream",
          "text": [
            "[I 2025-04-24 16:07:58,469] Trial 19 finished with value: 0.7002075073280352 and parameters: {'n_estimators': 1416, 'max_depth': 8, 'learning_rate': 0.15155922523859075, 'subsample': 0.7960803023563698, 'colsample_bytree': 0.9161609668562454, 'reg_alpha': 7.467945677659381, 'reg_lambda': 4.938805363521544}. Best is trial 11 with value: 0.7267751825365547.\n"
          ]
        },
        {
          "name": "stderr",
          "output_type": "stream",
          "text": [
            "Best trial: 11. Best value: 0.726775:  42%|████▏     | 21/50 [21:51<25:54, 53.59s/it]"
          ]
        },
        {
          "name": "stdout",
          "output_type": "stream",
          "text": [
            "[I 2025-04-24 16:08:57,457] Trial 20 finished with value: 0.713798992281268 and parameters: {'n_estimators': 741, 'max_depth': 7, 'learning_rate': 0.07727741130779367, 'subsample': 0.7009051046610961, 'colsample_bytree': 0.8648459306012585, 'reg_alpha': 5.367475457372855, 'reg_lambda': 8.04953953326703}. Best is trial 11 with value: 0.7267751825365547.\n"
          ]
        },
        {
          "name": "stderr",
          "output_type": "stream",
          "text": [
            "Best trial: 11. Best value: 0.726775:  44%|████▍     | 22/50 [23:34<32:02, 68.67s/it]"
          ]
        },
        {
          "name": "stdout",
          "output_type": "stream",
          "text": [
            "[I 2025-04-24 16:10:41,286] Trial 21 finished with value: 0.7163244268331483 and parameters: {'n_estimators': 2544, 'max_depth': 5, 'learning_rate': 0.019554322843647925, 'subsample': 0.7336488866367249, 'colsample_bytree': 0.7812150129274054, 'reg_alpha': 3.088469185067023, 'reg_lambda': 5.7426479739572445}. Best is trial 11 with value: 0.7267751825365547.\n"
          ]
        },
        {
          "name": "stderr",
          "output_type": "stream",
          "text": [
            "Best trial: 11. Best value: 0.726775:  46%|████▌     | 23/50 [25:38<38:14, 84.99s/it]"
          ]
        },
        {
          "name": "stdout",
          "output_type": "stream",
          "text": [
            "[I 2025-04-24 16:12:44,348] Trial 22 finished with value: 0.711719850976119 and parameters: {'n_estimators': 2905, 'max_depth': 5, 'learning_rate': 0.03538892471967653, 'subsample': 0.7232843516761341, 'colsample_bytree': 0.8085549869107135, 'reg_alpha': 2.7562096787158783, 'reg_lambda': 6.526903111770548}. Best is trial 11 with value: 0.7267751825365547.\n"
          ]
        },
        {
          "name": "stderr",
          "output_type": "stream",
          "text": [
            "Best trial: 11. Best value: 0.726775:  48%|████▊     | 24/50 [27:41<41:48, 96.50s/it]"
          ]
        },
        {
          "name": "stdout",
          "output_type": "stream",
          "text": [
            "[I 2025-04-24 16:14:47,687] Trial 23 finished with value: 0.7136840408437302 and parameters: {'n_estimators': 2429, 'max_depth': 6, 'learning_rate': 0.012498826941922093, 'subsample': 0.7781765985838128, 'colsample_bytree': 0.9703098019351526, 'reg_alpha': 1.4345145529734316, 'reg_lambda': 5.291487941191829}. Best is trial 11 with value: 0.7267751825365547.\n"
          ]
        },
        {
          "name": "stderr",
          "output_type": "stream",
          "text": [
            "Best trial: 11. Best value: 0.726775:  50%|█████     | 25/50 [28:41<35:41, 85.66s/it]"
          ]
        },
        {
          "name": "stdout",
          "output_type": "stream",
          "text": [
            "[I 2025-04-24 16:15:48,079] Trial 24 finished with value: 0.7142303932266959 and parameters: {'n_estimators': 1729, 'max_depth': 4, 'learning_rate': 0.0618556631378607, 'subsample': 0.7362561272019728, 'colsample_bytree': 0.8551720843557867, 'reg_alpha': 2.428347651342529, 'reg_lambda': 4.106417757242812}. Best is trial 11 with value: 0.7267751825365547.\n"
          ]
        },
        {
          "name": "stderr",
          "output_type": "stream",
          "text": [
            "Best trial: 11. Best value: 0.726775:  52%|█████▏    | 26/50 [29:45<31:37, 79.07s/it]"
          ]
        },
        {
          "name": "stdout",
          "output_type": "stream",
          "text": [
            "[I 2025-04-24 16:16:51,769] Trial 25 finished with value: 0.7025544959500791 and parameters: {'n_estimators': 1912, 'max_depth': 5, 'learning_rate': 0.09808234909566142, 'subsample': 0.7011608246483444, 'colsample_bytree': 0.7463751722391186, 'reg_alpha': 3.8865247782102426, 'reg_lambda': 7.647219162152949}. Best is trial 11 with value: 0.7267751825365547.\n"
          ]
        },
        {
          "name": "stderr",
          "output_type": "stream",
          "text": [
            "Best trial: 11. Best value: 0.726775:  54%|█████▍    | 27/50 [30:17<24:52, 64.87s/it]"
          ]
        },
        {
          "name": "stdout",
          "output_type": "stream",
          "text": [
            "[I 2025-04-24 16:17:23,519] Trial 26 finished with value: 0.7175571572947226 and parameters: {'n_estimators': 951, 'max_depth': 6, 'learning_rate': 0.037917858134931655, 'subsample': 0.7334022059692845, 'colsample_bytree': 0.9691745676170529, 'reg_alpha': 0.914840767918407, 'reg_lambda': 5.288960725435194}. Best is trial 11 with value: 0.7267751825365547.\n"
          ]
        },
        {
          "name": "stderr",
          "output_type": "stream",
          "text": [
            "Best trial: 11. Best value: 0.726775:  56%|█████▌    | 28/50 [30:51<20:26, 55.76s/it]"
          ]
        },
        {
          "name": "stdout",
          "output_type": "stream",
          "text": [
            "[I 2025-04-24 16:17:58,007] Trial 27 finished with value: 0.7110342341653086 and parameters: {'n_estimators': 1512, 'max_depth': 4, 'learning_rate': 0.12622873734005205, 'subsample': 0.8682647813168562, 'colsample_bytree': 0.9165903231040327, 'reg_alpha': 5.139525663948572, 'reg_lambda': 6.455906454176148}. Best is trial 11 with value: 0.7267751825365547.\n"
          ]
        },
        {
          "name": "stderr",
          "output_type": "stream",
          "text": [
            "Best trial: 11. Best value: 0.726775:  58%|█████▊    | 29/50 [31:17<16:19, 46.63s/it]"
          ]
        },
        {
          "name": "stdout",
          "output_type": "stream",
          "text": [
            "[I 2025-04-24 16:18:23,352] Trial 28 finished with value: 0.7059236769082403 and parameters: {'n_estimators': 899, 'max_depth': 5, 'learning_rate': 0.07391661670428201, 'subsample': 0.7645066291284794, 'colsample_bytree': 0.921078215134362, 'reg_alpha': 2.28148136059073, 'reg_lambda': 4.578780455022366}. Best is trial 11 with value: 0.7267751825365547.\n"
          ]
        },
        {
          "name": "stderr",
          "output_type": "stream",
          "text": [
            "Best trial: 11. Best value: 0.726775:  60%|██████    | 30/50 [32:23<17:30, 52.52s/it]"
          ]
        },
        {
          "name": "stdout",
          "output_type": "stream",
          "text": [
            "[I 2025-04-24 16:19:29,596] Trial 29 finished with value: 0.7089303040774788 and parameters: {'n_estimators': 1223, 'max_depth': 8, 'learning_rate': 0.03294043983536622, 'subsample': 0.8072933993053406, 'colsample_bytree': 0.8744900279562509, 'reg_alpha': 0.01714045862249569, 'reg_lambda': 9.683803961885125}. Best is trial 11 with value: 0.7267751825365547.\n"
          ]
        },
        {
          "name": "stderr",
          "output_type": "stream",
          "text": [
            "Best trial: 11. Best value: 0.726775:  62%|██████▏   | 31/50 [32:53<14:32, 45.94s/it]"
          ]
        },
        {
          "name": "stdout",
          "output_type": "stream",
          "text": [
            "[I 2025-04-24 16:20:00,188] Trial 30 finished with value: 0.6951109859459974 and parameters: {'n_estimators': 622, 'max_depth': 7, 'learning_rate': 0.24716936556517627, 'subsample': 0.7428461845048825, 'colsample_bytree': 0.7577048694799419, 'reg_alpha': 1.2738790056236087, 'reg_lambda': 8.832237767858366}. Best is trial 11 with value: 0.7267751825365547.\n"
          ]
        },
        {
          "name": "stderr",
          "output_type": "stream",
          "text": [
            "Best trial: 11. Best value: 0.726775:  64%|██████▍   | 32/50 [33:21<12:06, 40.38s/it]"
          ]
        },
        {
          "name": "stdout",
          "output_type": "stream",
          "text": [
            "[I 2025-04-24 16:20:27,589] Trial 31 finished with value: 0.721487892202196 and parameters: {'n_estimators': 782, 'max_depth': 6, 'learning_rate': 0.011749060573894856, 'subsample': 0.7230057710807488, 'colsample_bytree': 0.8932196064490976, 'reg_alpha': 2.7104881005168338, 'reg_lambda': 6.113176571827363}. Best is trial 11 with value: 0.7267751825365547.\n"
          ]
        },
        {
          "name": "stderr",
          "output_type": "stream",
          "text": [
            "Best trial: 11. Best value: 0.726775:  66%|██████▌   | 33/50 [33:54<10:51, 38.33s/it]"
          ]
        },
        {
          "name": "stdout",
          "output_type": "stream",
          "text": [
            "[I 2025-04-24 16:21:01,136] Trial 32 finished with value: 0.7181283936188438 and parameters: {'n_estimators': 987, 'max_depth': 6, 'learning_rate': 0.026477188559521813, 'subsample': 0.7168494643824691, 'colsample_bytree': 0.8353003507527076, 'reg_alpha': 3.2043900220882557, 'reg_lambda': 5.5711143239658965}. Best is trial 11 with value: 0.7267751825365547.\n"
          ]
        },
        {
          "name": "stderr",
          "output_type": "stream",
          "text": [
            "Best trial: 11. Best value: 0.726775:  68%|██████▊   | 34/50 [34:15<08:48, 33.05s/it]"
          ]
        },
        {
          "name": "stdout",
          "output_type": "stream",
          "text": [
            "[I 2025-04-24 16:21:21,867] Trial 33 finished with value: 0.7220676689994291 and parameters: {'n_estimators': 725, 'max_depth': 5, 'learning_rate': 0.010964760339315854, 'subsample': 0.7014143706180264, 'colsample_bytree': 0.708444602449724, 'reg_alpha': 4.2866688465108975, 'reg_lambda': 6.8697657900830835}. Best is trial 11 with value: 0.7267751825365547.\n"
          ]
        },
        {
          "name": "stderr",
          "output_type": "stream",
          "text": [
            "Best trial: 11. Best value: 0.726775:  70%|███████   | 35/50 [34:33<07:06, 28.45s/it]"
          ]
        },
        {
          "name": "stdout",
          "output_type": "stream",
          "text": [
            "[I 2025-04-24 16:21:39,582] Trial 34 finished with value: 0.7227347061180381 and parameters: {'n_estimators': 621, 'max_depth': 5, 'learning_rate': 0.047510074929535726, 'subsample': 0.7742093822634245, 'colsample_bytree': 0.7218333909689377, 'reg_alpha': 4.510428927932546, 'reg_lambda': 7.48546863458625}. Best is trial 11 with value: 0.7267751825365547.\n"
          ]
        },
        {
          "name": "stderr",
          "output_type": "stream",
          "text": [
            "Best trial: 11. Best value: 0.726775:  72%|███████▏  | 36/50 [34:57<06:21, 27.23s/it]"
          ]
        },
        {
          "name": "stdout",
          "output_type": "stream",
          "text": [
            "[I 2025-04-24 16:22:03,973] Trial 35 finished with value: 0.7157730072614005 and parameters: {'n_estimators': 1316, 'max_depth': 3, 'learning_rate': 0.04897522018525305, 'subsample': 0.7777005461970019, 'colsample_bytree': 0.7331654145145192, 'reg_alpha': 7.000195814434967, 'reg_lambda': 7.325547069682667}. Best is trial 11 with value: 0.7267751825365547.\n"
          ]
        },
        {
          "name": "stderr",
          "output_type": "stream",
          "text": [
            "Best trial: 11. Best value: 0.726775:  74%|███████▍  | 37/50 [35:57<08:02, 37.14s/it]"
          ]
        },
        {
          "name": "stdout",
          "output_type": "stream",
          "text": [
            "[I 2025-04-24 16:23:04,225] Trial 36 finished with value: 0.7110852153181735 and parameters: {'n_estimators': 2733, 'max_depth': 4, 'learning_rate': 0.06233153467402474, 'subsample': 0.760718114782179, 'colsample_bytree': 0.7211348143394143, 'reg_alpha': 4.803531826644074, 'reg_lambda': 7.86344230412369}. Best is trial 11 with value: 0.7267751825365547.\n"
          ]
        },
        {
          "name": "stderr",
          "output_type": "stream",
          "text": [
            "Best trial: 11. Best value: 0.726775:  76%|███████▌  | 38/50 [36:54<08:34, 42.89s/it]"
          ]
        },
        {
          "name": "stdout",
          "output_type": "stream",
          "text": [
            "[I 2025-04-24 16:24:00,551] Trial 37 finished with value: 0.702563179160903 and parameters: {'n_estimators': 1874, 'max_depth': 5, 'learning_rate': 0.18096672482301818, 'subsample': 0.7851303218363057, 'colsample_bytree': 0.8031657627226304, 'reg_alpha': 3.8077716922016585, 'reg_lambda': 2.8766088588786025}. Best is trial 11 with value: 0.7267751825365547.\n"
          ]
        },
        {
          "name": "stderr",
          "output_type": "stream",
          "text": [
            "Best trial: 11. Best value: 0.726775:  78%|███████▊  | 39/50 [37:17<06:47, 37.06s/it]"
          ]
        },
        {
          "name": "stdout",
          "output_type": "stream",
          "text": [
            "[I 2025-04-24 16:24:23,994] Trial 38 finished with value: 0.6967475689745499 and parameters: {'n_estimators': 504, 'max_depth': 7, 'learning_rate': 0.09661266704358001, 'subsample': 0.7440381681625458, 'colsample_bytree': 0.7614741305074174, 'reg_alpha': 2.078876539998084, 'reg_lambda': 3.48133713469128}. Best is trial 11 with value: 0.7267751825365547.\n"
          ]
        },
        {
          "name": "stderr",
          "output_type": "stream",
          "text": [
            "Best trial: 11. Best value: 0.726775:  80%|████████  | 40/50 [37:57<06:17, 37.79s/it]"
          ]
        },
        {
          "name": "stdout",
          "output_type": "stream",
          "text": [
            "[I 2025-04-24 16:25:03,491] Trial 39 finished with value: 0.7142731193818734 and parameters: {'n_estimators': 2203, 'max_depth': 3, 'learning_rate': 0.0725324322423319, 'subsample': 0.8326787483329293, 'colsample_bytree': 0.7027671859813276, 'reg_alpha': 5.632383547902386, 'reg_lambda': 8.83177987041766}. Best is trial 11 with value: 0.7267751825365547.\n"
          ]
        },
        {
          "name": "stderr",
          "output_type": "stream",
          "text": [
            "Best trial: 11. Best value: 0.726775:  82%|████████▏ | 41/50 [38:19<04:59, 33.24s/it]"
          ]
        },
        {
          "name": "stdout",
          "output_type": "stream",
          "text": [
            "[I 2025-04-24 16:25:26,100] Trial 40 finished with value: 0.7162310050005303 and parameters: {'n_estimators': 1054, 'max_depth': 4, 'learning_rate': 0.04250706610313037, 'subsample': 0.8666614115123135, 'colsample_bytree': 0.8189267768866054, 'reg_alpha': 0.8471054655287253, 'reg_lambda': 6.18169989326697}. Best is trial 11 with value: 0.7267751825365547.\n"
          ]
        },
        {
          "name": "stderr",
          "output_type": "stream",
          "text": [
            "Best trial: 11. Best value: 0.726775:  84%|████████▍ | 42/50 [38:38<03:50, 28.84s/it]"
          ]
        },
        {
          "name": "stdout",
          "output_type": "stream",
          "text": [
            "[I 2025-04-24 16:25:44,670] Trial 41 finished with value: 0.7225762910471434 and parameters: {'n_estimators': 653, 'max_depth': 5, 'learning_rate': 0.026015221104305684, 'subsample': 0.7064093459655248, 'colsample_bytree': 0.7195134389004862, 'reg_alpha': 4.1249286166542785, 'reg_lambda': 6.7799809178035515}. Best is trial 11 with value: 0.7267751825365547.\n"
          ]
        },
        {
          "name": "stderr",
          "output_type": "stream",
          "text": [
            "Best trial: 11. Best value: 0.726775:  86%|████████▌ | 43/50 [38:56<02:58, 25.57s/it]"
          ]
        },
        {
          "name": "stdout",
          "output_type": "stream",
          "text": [
            "[I 2025-04-24 16:26:02,608] Trial 42 finished with value: 0.7255095272427056 and parameters: {'n_estimators': 624, 'max_depth': 5, 'learning_rate': 0.02540054371509027, 'subsample': 0.7252714166792115, 'colsample_bytree': 0.7343628536660826, 'reg_alpha': 4.435809063154365, 'reg_lambda': 6.917594786652922}. Best is trial 11 with value: 0.7267751825365547.\n"
          ]
        },
        {
          "name": "stderr",
          "output_type": "stream",
          "text": [
            "Best trial: 11. Best value: 0.726775:  88%|████████▊ | 44/50 [39:26<02:40, 26.83s/it]"
          ]
        },
        {
          "name": "stdout",
          "output_type": "stream",
          "text": [
            "[I 2025-04-24 16:26:32,370] Trial 43 finished with value: 0.7223323998762751 and parameters: {'n_estimators': 854, 'max_depth': 6, 'learning_rate': 0.03132437487099831, 'subsample': 0.7261040903535106, 'colsample_bytree': 0.7785826862264545, 'reg_alpha': 4.597659521678573, 'reg_lambda': 7.534698165058521}. Best is trial 11 with value: 0.7267751825365547.\n"
          ]
        },
        {
          "name": "stderr",
          "output_type": "stream",
          "text": [
            "Best trial: 11. Best value: 0.726775:  90%|█████████ | 45/50 [39:44<02:00, 24.20s/it]"
          ]
        },
        {
          "name": "stdout",
          "output_type": "stream",
          "text": [
            "[I 2025-04-24 16:26:50,437] Trial 44 finished with value: 0.7243214498954232 and parameters: {'n_estimators': 626, 'max_depth': 5, 'learning_rate': 0.054257284006339807, 'subsample': 0.7184198624452963, 'colsample_bytree': 0.740552899654459, 'reg_alpha': 3.486736880717915, 'reg_lambda': 8.421673484791425}. Best is trial 11 with value: 0.7267751825365547.\n"
          ]
        },
        {
          "name": "stderr",
          "output_type": "stream",
          "text": [
            "Best trial: 11. Best value: 0.726775:  92%|█████████▏| 46/50 [40:03<01:30, 22.64s/it]"
          ]
        },
        {
          "name": "stdout",
          "output_type": "stream",
          "text": [
            "[I 2025-04-24 16:27:09,428] Trial 45 finished with value: 0.7244229839880165 and parameters: {'n_estimators': 832, 'max_depth': 4, 'learning_rate': 0.05944045651877405, 'subsample': 0.7170325370555068, 'colsample_bytree': 0.7411304039170954, 'reg_alpha': 3.6297341823308433, 'reg_lambda': 8.381242400344723}. Best is trial 11 with value: 0.7267751825365547.\n"
          ]
        },
        {
          "name": "stderr",
          "output_type": "stream",
          "text": [
            "Best trial: 11. Best value: 0.726775:  94%|█████████▍| 47/50 [40:18<01:01, 20.35s/it]"
          ]
        },
        {
          "name": "stdout",
          "output_type": "stream",
          "text": [
            "[I 2025-04-24 16:27:24,458] Trial 46 finished with value: 0.7169158605435424 and parameters: {'n_estimators': 623, 'max_depth': 4, 'learning_rate': 0.1145681361391547, 'subsample': 0.71502792285806, 'colsample_bytree': 0.7369743971487093, 'reg_alpha': 3.5065464153779566, 'reg_lambda': 9.839972043841883}. Best is trial 11 with value: 0.7267751825365547.\n"
          ]
        },
        {
          "name": "stderr",
          "output_type": "stream",
          "text": [
            "Best trial: 11. Best value: 0.726775:  96%|█████████▌| 48/50 [40:34<00:38, 19.22s/it]"
          ]
        },
        {
          "name": "stdout",
          "output_type": "stream",
          "text": [
            "[I 2025-04-24 16:27:41,033] Trial 47 finished with value: 0.7189606258496759 and parameters: {'n_estimators': 849, 'max_depth': 3, 'learning_rate': 0.08288731562124517, 'subsample': 0.750959391959956, 'colsample_bytree': 0.7632600075153755, 'reg_alpha': 3.608543800387094, 'reg_lambda': 8.48348611406188}. Best is trial 11 with value: 0.7267751825365547.\n"
          ]
        },
        {
          "name": "stderr",
          "output_type": "stream",
          "text": [
            "Best trial: 11. Best value: 0.726775:  98%|█████████▊| 49/50 [41:00<00:21, 21.05s/it]"
          ]
        },
        {
          "name": "stdout",
          "output_type": "stream",
          "text": [
            "[I 2025-04-24 16:28:06,352] Trial 48 finished with value: 0.7146341268455808 and parameters: {'n_estimators': 1100, 'max_depth': 4, 'learning_rate': 0.061597749611161115, 'subsample': 0.7145414151320666, 'colsample_bytree': 0.9852409588197536, 'reg_alpha': 2.082755347179272, 'reg_lambda': 8.9863625202634}. Best is trial 11 with value: 0.7267751825365547.\n"
          ]
        },
        {
          "name": "stderr",
          "output_type": "stream",
          "text": [
            "Best trial: 11. Best value: 0.726775: 100%|██████████| 50/50 [41:31<00:00, 49.83s/it]"
          ]
        },
        {
          "name": "stdout",
          "output_type": "stream",
          "text": [
            "[I 2025-04-24 16:28:37,791] Trial 49 finished with value: 0.7100451569784157 and parameters: {'n_estimators': 828, 'max_depth': 6, 'learning_rate': 0.09272990190140357, 'subsample': 0.7363564816005026, 'colsample_bytree': 0.9528118969636823, 'reg_alpha': 3.1682063284417445, 'reg_lambda': 8.261279961517689}. Best is trial 11 with value: 0.7267751825365547.\n",
            ",Лучший ROC-AUC: 0.7268\n",
            ",Лучшие параметры: {'n_estimators': 653, 'max_depth': 6, 'learning_rate': 0.02176645480492359, 'subsample': 0.7021475108158397, 'colsample_bytree': 0.9160694536741326, 'reg_alpha': 2.5180991485275133, 'reg_lambda': 6.366469735868886}\n"
          ]
        },
        {
          "name": "stderr",
          "output_type": "stream",
          "text": [
            "\n"
          ]
        }
      ],
      "source": [
        "import optuna\n",
        "from sklearn.metrics import roc_auc_score\n",
        "\n",
        "def objective(trial):\n",
        "    params = {\n",
        "        'n_estimators': trial.suggest_int('n_estimators', 500, 3000),\n",
        "        'max_depth': trial.suggest_int('max_depth', 3, 10),\n",
        "        'learning_rate': trial.suggest_float('learning_rate', 0.01, 0.3),\n",
        "        'subsample': trial.suggest_float('subsample', 0.7, 1.0),\n",
        "        'colsample_bytree': trial.suggest_float('colsample_bytree', 0.7, 1.0),\n",
        "        'reg_alpha': trial.suggest_float('reg_alpha', 0, 10),\n",
        "        'reg_lambda': trial.suggest_float('reg_lambda', 0, 10),\n",
        "    }\n",
        "    \n",
        "    model = XGBClassifier(**params, objective='binary:logistic', \n",
        "                          scale_pos_weight=10, device='cuda', tree_method='hist', eval_metric='auc')\n",
        "    model.fit(X_train, y_train)\n",
        "    y_proba = model.predict_proba(X_test)[:, 1]\n",
        "    return roc_auc_score(y_test, y_proba)\n",
        "\n",
        "study = optuna.create_study(direction='maximize')\n",
        "study.optimize(objective, n_trials=50, show_progress_bar=True)\n",
        "print(f\"Лучший ROC-AUC: {study.best_value:.4f}\")\n",
        "print(f\"Лучшие параметры: {study.best_params}\")"
      ]
    },
    {
      "cell_type": "code",
      "execution_count": 10,
      "id": "cee2d5da",
      "metadata": {},
      "outputs": [
        {
          "ename": "NameError",
          "evalue": "name 'study' is not defined",
          "output_type": "error",
          "traceback": [
            "\u001b[31m---------------------------------------------------------------------------\u001b[39m",
            "\u001b[31mNameError\u001b[39m                                 Traceback (most recent call last)",
            "\u001b[36mCell\u001b[39m\u001b[36m \u001b[39m\u001b[32mIn[10]\u001b[39m\u001b[32m, line 1\u001b[39m\n\u001b[32m----> \u001b[39m\u001b[32m1\u001b[39m best_params = \u001b[43mstudy\u001b[49m.best_params\n\u001b[32m      2\u001b[39m best_params\n",
            "\u001b[31mNameError\u001b[39m: name 'study' is not defined"
          ]
        }
      ],
      "source": [
        "best_params = study.best_params\n",
        "best_params"
      ]
    },
    {
      "cell_type": "markdown",
      "id": "4e0141ed",
      "metadata": {},
      "source": [
        "Был сбой, но best_params удалось сохранить в save.txt так что скопирую их оттуда"
      ]
    },
    {
      "cell_type": "code",
      "execution_count": 13,
      "id": "7aab5059",
      "metadata": {},
      "outputs": [],
      "source": [
        "best_params = {\n",
        "    'n_estimators': 653,\n",
        "    'max_depth': 6,\n",
        "    'learning_rate': 0.02176645480492359,\n",
        "    'subsample': 0.7021475108158397,\n",
        "    'colsample_bytree': 0.9160694536741326,\n",
        "    'reg_alpha': 2.5180991485275133,\n",
        "    'reg_lambda': 6.366469735868886\n",
        "}"
      ]
    },
    {
      "cell_type": "code",
      "execution_count": 14,
      "id": "0f34065a",
      "metadata": {},
      "outputs": [],
      "source": [
        "# generate output data\n",
        "X_true_test_df = pd.read_csv('./datasets/test/test.csv')\n",
        "X_true_test = X_true_test_df.drop(columns=['index'])\n",
        "indexes = X_true_test_df['index']"
      ]
    },
    {
      "cell_type": "code",
      "execution_count": 15,
      "id": "f6f49821",
      "metadata": {},
      "outputs": [],
      "source": [
        "X_train, X_test, y_train, y_test = train_test_split(\n",
        "    X, y, test_size=0.2, random_state=42\n",
        ")"
      ]
    },
    {
      "cell_type": "code",
      "execution_count": 16,
      "id": "681fe94c",
      "metadata": {},
      "outputs": [
        {
          "name": "stderr",
          "output_type": "stream",
          "text": [
            "c:\\Users\\ADMIN\\AppData\\Local\\Programs\\Python\\Python312\\Lib\\site-packages\\xgboost\\core.py:729: UserWarning: [17:46:52] WARNING: C:\\actions-runner\\_work\\xgboost\\xgboost\\src\\common\\error_msg.cc:58: Falling back to prediction using DMatrix due to mismatched devices. This might lead to higher memory usage and slower performance. XGBoost is running on: cuda:0, while the input data is on: cpu.\n",
            "Potential solutions:\n",
            "- Use a data structure that matches the device ordinal in the booster.\n",
            "- Set the device for booster before call to inplace_predict.\n",
            "\n",
            "This warning will only be shown once.\n",
            "\n",
            "  return func(**kwargs)\n"
          ]
        },
        {
          "name": "stdout",
          "output_type": "stream",
          "text": [
            "ROC-AUC is 0.7253\n"
          ]
        }
      ],
      "source": [
        "pipe = Pipeline([\n",
        "    ('selector', VarianceThreshold(threshold=0.01)),\n",
        "    ('scaler', StandardScaler()),\n",
        "    ('model', XGBClassifier(**best_params, objective='binary:logistic', \n",
        "                          scale_pos_weight=10, device='cuda', tree_method='hist', eval_metric='auc')),\n",
        "    \n",
        "    # ('kbest', SelectKBest(f_classif, k=500)),\n",
        "])\n",
        "\n",
        "pipe.fit(X_train, y_train)\n",
        "\n",
        "y_train_pred_proba = pipe.predict_proba(X_test)[:, 1]\n",
        "roc_auc = roc_auc_score(y_test, y_train_pred_proba)\n",
        "print(f'ROC-AUC is {roc_auc:.4f}')"
      ]
    },
    {
      "cell_type": "code",
      "execution_count": 17,
      "id": "7ec31316",
      "metadata": {},
      "outputs": [
        {
          "data": {
            "text/plain": [
              "array([0.06112183, 0.09746365, 0.03243464, ..., 0.03522414, 0.13069998,\n",
              "       0.02850325], shape=(76225,), dtype=float32)"
            ]
          },
          "execution_count": 17,
          "metadata": {},
          "output_type": "execute_result"
        }
      ],
      "source": [
        "y_test_pred_proba = pipe.predict_proba(X_true_test)[:, 1]\n",
        "y_test_pred_proba"
      ]
    },
    {
      "cell_type": "code",
      "execution_count": 20,
      "id": "ba961d05",
      "metadata": {},
      "outputs": [
        {
          "name": "stdout",
          "output_type": "stream",
          "text": [
            "        index         0\n",
            "0      124365  0.061122\n",
            "1      177140  0.097464\n",
            "2      106632  0.032435\n",
            "3       17630  0.018898\n",
            "4       97189  0.013972\n",
            "...       ...       ...\n",
            "76220   55074  0.046130\n",
            "76221   12771  0.126945\n",
            "76222   80999  0.035224\n",
            "76223   31517  0.130700\n",
            "76224  250238  0.028503\n",
            "\n",
            "[76225 rows x 2 columns]\n"
          ]
        }
      ],
      "source": [
        "output = pd.concat([indexes, pd.Series(y_test_pred_proba)], axis=1)\n",
        "print(output)\n",
        "output.to_csv(\"output.csv\", index=False)"
      ]
    },
    {
      "cell_type": "code",
      "execution_count": 12,
      "id": "2776ee8a",
      "metadata": {},
      "outputs": [],
      "source": [
        "model = XGBClassifier(**best_params, objective='binary:logistic', \n",
        "                          scale_pos_weight=10, device='cuda', tree_method='hist', eval_metric='auc')\n"
      ]
    },
    {
      "cell_type": "code",
      "execution_count": null,
      "id": "1d311060",
      "metadata": {},
      "outputs": [
        {
          "data": {
            "text/html": [
              "<div>\n",
              "<style scoped>\n",
              "    .dataframe tbody tr th:only-of-type {\n",
              "        vertical-align: middle;\n",
              "    }\n",
              "\n",
              "    .dataframe tbody tr th {\n",
              "        vertical-align: top;\n",
              "    }\n",
              "\n",
              "    .dataframe thead th {\n",
              "        text-align: right;\n",
              "    }\n",
              "</style>\n",
              "<table border=\"1\" class=\"dataframe\">\n",
              "  <thead>\n",
              "    <tr style=\"text-align: right;\">\n",
              "      <th></th>\n",
              "      <th>index</th>\n",
              "      <th>feature_0</th>\n",
              "      <th>feature_1</th>\n",
              "      <th>feature_2</th>\n",
              "      <th>feature_3</th>\n",
              "      <th>feature_4</th>\n",
              "      <th>feature_5</th>\n",
              "      <th>feature_6</th>\n",
              "      <th>feature_7</th>\n",
              "      <th>feature_8</th>\n",
              "      <th>...</th>\n",
              "      <th>feature_1357</th>\n",
              "      <th>feature_1358</th>\n",
              "      <th>feature_1359</th>\n",
              "      <th>feature_1360</th>\n",
              "      <th>feature_1361</th>\n",
              "      <th>feature_1362</th>\n",
              "      <th>feature_1363</th>\n",
              "      <th>feature_1364</th>\n",
              "      <th>feature_1365</th>\n",
              "      <th>feature_1366</th>\n",
              "    </tr>\n",
              "  </thead>\n",
              "  <tbody>\n",
              "    <tr>\n",
              "      <th>0</th>\n",
              "      <td>124365</td>\n",
              "      <td>0.719921</td>\n",
              "      <td>1.0</td>\n",
              "      <td>1.0</td>\n",
              "      <td>1.0</td>\n",
              "      <td>1.0</td>\n",
              "      <td>1.0</td>\n",
              "      <td>2.0</td>\n",
              "      <td>1.0</td>\n",
              "      <td>0.0</td>\n",
              "      <td>...</td>\n",
              "      <td>0.0</td>\n",
              "      <td>0.0</td>\n",
              "      <td>0.0</td>\n",
              "      <td>0</td>\n",
              "      <td>0</td>\n",
              "      <td>0</td>\n",
              "      <td>0</td>\n",
              "      <td>0</td>\n",
              "      <td>0</td>\n",
              "      <td>0</td>\n",
              "    </tr>\n",
              "    <tr>\n",
              "      <th>1</th>\n",
              "      <td>177140</td>\n",
              "      <td>0.123122</td>\n",
              "      <td>0.0</td>\n",
              "      <td>1.0</td>\n",
              "      <td>1.0</td>\n",
              "      <td>1.0</td>\n",
              "      <td>2.0</td>\n",
              "      <td>1.0</td>\n",
              "      <td>2.0</td>\n",
              "      <td>0.0</td>\n",
              "      <td>...</td>\n",
              "      <td>0.0</td>\n",
              "      <td>0.0</td>\n",
              "      <td>0.0</td>\n",
              "      <td>0</td>\n",
              "      <td>0</td>\n",
              "      <td>0</td>\n",
              "      <td>0</td>\n",
              "      <td>0</td>\n",
              "      <td>0</td>\n",
              "      <td>0</td>\n",
              "    </tr>\n",
              "    <tr>\n",
              "      <th>2</th>\n",
              "      <td>106632</td>\n",
              "      <td>0.384612</td>\n",
              "      <td>0.0</td>\n",
              "      <td>1.0</td>\n",
              "      <td>1.0</td>\n",
              "      <td>1.0</td>\n",
              "      <td>0.0</td>\n",
              "      <td>1.0</td>\n",
              "      <td>2.0</td>\n",
              "      <td>0.0</td>\n",
              "      <td>...</td>\n",
              "      <td>0.0</td>\n",
              "      <td>0.0</td>\n",
              "      <td>0.0</td>\n",
              "      <td>0</td>\n",
              "      <td>1</td>\n",
              "      <td>0</td>\n",
              "      <td>0</td>\n",
              "      <td>0</td>\n",
              "      <td>0</td>\n",
              "      <td>0</td>\n",
              "    </tr>\n",
              "    <tr>\n",
              "      <th>3</th>\n",
              "      <td>17630</td>\n",
              "      <td>0.452527</td>\n",
              "      <td>0.0</td>\n",
              "      <td>1.0</td>\n",
              "      <td>1.0</td>\n",
              "      <td>1.0</td>\n",
              "      <td>4.0</td>\n",
              "      <td>5.0</td>\n",
              "      <td>2.0</td>\n",
              "      <td>0.0</td>\n",
              "      <td>...</td>\n",
              "      <td>0.0</td>\n",
              "      <td>0.0</td>\n",
              "      <td>0.0</td>\n",
              "      <td>0</td>\n",
              "      <td>0</td>\n",
              "      <td>0</td>\n",
              "      <td>0</td>\n",
              "      <td>0</td>\n",
              "      <td>0</td>\n",
              "      <td>0</td>\n",
              "    </tr>\n",
              "    <tr>\n",
              "      <th>4</th>\n",
              "      <td>97189</td>\n",
              "      <td>0.379611</td>\n",
              "      <td>1.0</td>\n",
              "      <td>1.0</td>\n",
              "      <td>1.0</td>\n",
              "      <td>2.0</td>\n",
              "      <td>11.0</td>\n",
              "      <td>3.0</td>\n",
              "      <td>4.0</td>\n",
              "      <td>0.0</td>\n",
              "      <td>...</td>\n",
              "      <td>0.0</td>\n",
              "      <td>0.0</td>\n",
              "      <td>0.0</td>\n",
              "      <td>0</td>\n",
              "      <td>0</td>\n",
              "      <td>0</td>\n",
              "      <td>0</td>\n",
              "      <td>0</td>\n",
              "      <td>0</td>\n",
              "      <td>0</td>\n",
              "    </tr>\n",
              "    <tr>\n",
              "      <th>...</th>\n",
              "      <td>...</td>\n",
              "      <td>...</td>\n",
              "      <td>...</td>\n",
              "      <td>...</td>\n",
              "      <td>...</td>\n",
              "      <td>...</td>\n",
              "      <td>...</td>\n",
              "      <td>...</td>\n",
              "      <td>...</td>\n",
              "      <td>...</td>\n",
              "      <td>...</td>\n",
              "      <td>...</td>\n",
              "      <td>...</td>\n",
              "      <td>...</td>\n",
              "      <td>...</td>\n",
              "      <td>...</td>\n",
              "      <td>...</td>\n",
              "      <td>...</td>\n",
              "      <td>...</td>\n",
              "      <td>...</td>\n",
              "      <td>...</td>\n",
              "    </tr>\n",
              "    <tr>\n",
              "      <th>76220</th>\n",
              "      <td>55074</td>\n",
              "      <td>0.325234</td>\n",
              "      <td>0.0</td>\n",
              "      <td>1.0</td>\n",
              "      <td>1.0</td>\n",
              "      <td>1.0</td>\n",
              "      <td>3.0</td>\n",
              "      <td>1.0</td>\n",
              "      <td>0.0</td>\n",
              "      <td>3.0</td>\n",
              "      <td>...</td>\n",
              "      <td>0.0</td>\n",
              "      <td>0.0</td>\n",
              "      <td>0.0</td>\n",
              "      <td>0</td>\n",
              "      <td>0</td>\n",
              "      <td>0</td>\n",
              "      <td>0</td>\n",
              "      <td>0</td>\n",
              "      <td>0</td>\n",
              "      <td>0</td>\n",
              "    </tr>\n",
              "    <tr>\n",
              "      <th>76221</th>\n",
              "      <td>12771</td>\n",
              "      <td>0.227776</td>\n",
              "      <td>1.0</td>\n",
              "      <td>1.0</td>\n",
              "      <td>1.0</td>\n",
              "      <td>1.0</td>\n",
              "      <td>3.0</td>\n",
              "      <td>3.0</td>\n",
              "      <td>2.0</td>\n",
              "      <td>0.0</td>\n",
              "      <td>...</td>\n",
              "      <td>0.0</td>\n",
              "      <td>0.0</td>\n",
              "      <td>0.0</td>\n",
              "      <td>0</td>\n",
              "      <td>0</td>\n",
              "      <td>0</td>\n",
              "      <td>0</td>\n",
              "      <td>0</td>\n",
              "      <td>0</td>\n",
              "      <td>0</td>\n",
              "    </tr>\n",
              "    <tr>\n",
              "      <th>76222</th>\n",
              "      <td>80999</td>\n",
              "      <td>0.459919</td>\n",
              "      <td>1.0</td>\n",
              "      <td>1.0</td>\n",
              "      <td>1.0</td>\n",
              "      <td>1.0</td>\n",
              "      <td>2.0</td>\n",
              "      <td>1.0</td>\n",
              "      <td>2.0</td>\n",
              "      <td>3.0</td>\n",
              "      <td>...</td>\n",
              "      <td>0.0</td>\n",
              "      <td>0.0</td>\n",
              "      <td>0.0</td>\n",
              "      <td>0</td>\n",
              "      <td>0</td>\n",
              "      <td>0</td>\n",
              "      <td>0</td>\n",
              "      <td>0</td>\n",
              "      <td>0</td>\n",
              "      <td>0</td>\n",
              "    </tr>\n",
              "    <tr>\n",
              "      <th>76223</th>\n",
              "      <td>31517</td>\n",
              "      <td>0.667716</td>\n",
              "      <td>1.0</td>\n",
              "      <td>1.0</td>\n",
              "      <td>1.0</td>\n",
              "      <td>0.0</td>\n",
              "      <td>2.0</td>\n",
              "      <td>2.0</td>\n",
              "      <td>2.0</td>\n",
              "      <td>0.0</td>\n",
              "      <td>...</td>\n",
              "      <td>0.0</td>\n",
              "      <td>0.0</td>\n",
              "      <td>0.0</td>\n",
              "      <td>0</td>\n",
              "      <td>0</td>\n",
              "      <td>0</td>\n",
              "      <td>0</td>\n",
              "      <td>0</td>\n",
              "      <td>0</td>\n",
              "      <td>0</td>\n",
              "    </tr>\n",
              "    <tr>\n",
              "      <th>76224</th>\n",
              "      <td>250238</td>\n",
              "      <td>0.226239</td>\n",
              "      <td>0.0</td>\n",
              "      <td>1.0</td>\n",
              "      <td>1.0</td>\n",
              "      <td>3.0</td>\n",
              "      <td>2.0</td>\n",
              "      <td>1.0</td>\n",
              "      <td>0.0</td>\n",
              "      <td>4.0</td>\n",
              "      <td>...</td>\n",
              "      <td>0.0</td>\n",
              "      <td>0.0</td>\n",
              "      <td>0.0</td>\n",
              "      <td>0</td>\n",
              "      <td>0</td>\n",
              "      <td>0</td>\n",
              "      <td>0</td>\n",
              "      <td>0</td>\n",
              "      <td>0</td>\n",
              "      <td>0</td>\n",
              "    </tr>\n",
              "  </tbody>\n",
              "</table>\n",
              "<p>76225 rows × 1368 columns</p>\n",
              "</div>"
            ],
            "text/plain": [
              "        index  feature_0  feature_1  feature_2  feature_3  feature_4  \\\n",
              "0      124365   0.719921        1.0        1.0        1.0        1.0   \n",
              "1      177140   0.123122        0.0        1.0        1.0        1.0   \n",
              "2      106632   0.384612        0.0        1.0        1.0        1.0   \n",
              "3       17630   0.452527        0.0        1.0        1.0        1.0   \n",
              "4       97189   0.379611        1.0        1.0        1.0        2.0   \n",
              "...       ...        ...        ...        ...        ...        ...   \n",
              "76220   55074   0.325234        0.0        1.0        1.0        1.0   \n",
              "76221   12771   0.227776        1.0        1.0        1.0        1.0   \n",
              "76222   80999   0.459919        1.0        1.0        1.0        1.0   \n",
              "76223   31517   0.667716        1.0        1.0        1.0        0.0   \n",
              "76224  250238   0.226239        0.0        1.0        1.0        3.0   \n",
              "\n",
              "       feature_5  feature_6  feature_7  feature_8  ...  feature_1357  \\\n",
              "0            1.0        2.0        1.0        0.0  ...           0.0   \n",
              "1            2.0        1.0        2.0        0.0  ...           0.0   \n",
              "2            0.0        1.0        2.0        0.0  ...           0.0   \n",
              "3            4.0        5.0        2.0        0.0  ...           0.0   \n",
              "4           11.0        3.0        4.0        0.0  ...           0.0   \n",
              "...          ...        ...        ...        ...  ...           ...   \n",
              "76220        3.0        1.0        0.0        3.0  ...           0.0   \n",
              "76221        3.0        3.0        2.0        0.0  ...           0.0   \n",
              "76222        2.0        1.0        2.0        3.0  ...           0.0   \n",
              "76223        2.0        2.0        2.0        0.0  ...           0.0   \n",
              "76224        2.0        1.0        0.0        4.0  ...           0.0   \n",
              "\n",
              "       feature_1358  feature_1359  feature_1360  feature_1361  feature_1362  \\\n",
              "0               0.0           0.0             0             0             0   \n",
              "1               0.0           0.0             0             0             0   \n",
              "2               0.0           0.0             0             1             0   \n",
              "3               0.0           0.0             0             0             0   \n",
              "4               0.0           0.0             0             0             0   \n",
              "...             ...           ...           ...           ...           ...   \n",
              "76220           0.0           0.0             0             0             0   \n",
              "76221           0.0           0.0             0             0             0   \n",
              "76222           0.0           0.0             0             0             0   \n",
              "76223           0.0           0.0             0             0             0   \n",
              "76224           0.0           0.0             0             0             0   \n",
              "\n",
              "       feature_1363  feature_1364  feature_1365  feature_1366  \n",
              "0                 0             0             0             0  \n",
              "1                 0             0             0             0  \n",
              "2                 0             0             0             0  \n",
              "3                 0             0             0             0  \n",
              "4                 0             0             0             0  \n",
              "...             ...           ...           ...           ...  \n",
              "76220             0             0             0             0  \n",
              "76221             0             0             0             0  \n",
              "76222             0             0             0             0  \n",
              "76223             0             0             0             0  \n",
              "76224             0             0             0             0  \n",
              "\n",
              "[76225 rows x 1368 columns]"
            ]
          },
          "execution_count": 13,
          "metadata": {},
          "output_type": "execute_result"
        }
      ],
      "source": [
        "X_true_test = pd.read_csv('./datasets/test/test.csv')\n",
        "X_true_test_selected = pipe.fit"
      ]
    },
    {
      "cell_type": "code",
      "execution_count": 15,
      "id": "015ba113",
      "metadata": {},
      "outputs": [
        {
          "name": "stdout",
          "output_type": "stream",
          "text": [
            "ROC-AUC is 0.7268\n"
          ]
        }
      ],
      "source": [
        "model.fit(X_train, y_train)\n",
        "y_train_pred = model.predict_proba(X_test)[:, 1]\n",
        "roc_auc = roc_auc_score(y_test, y_train_pred)\n",
        "print(f'ROC-AUC is {roc_auc:.4f}')"
      ]
    },
    {
      "cell_type": "code",
      "execution_count": 11,
      "id": "50d9ab73",
      "metadata": {},
      "outputs": [
        {
          "ename": "KeyboardInterrupt",
          "evalue": "",
          "output_type": "error",
          "traceback": [
            "\u001b[31m---------------------------------------------------------------------------\u001b[39m",
            "\u001b[31mKeyboardInterrupt\u001b[39m                         Traceback (most recent call last)",
            "\u001b[36mCell\u001b[39m\u001b[36m \u001b[39m\u001b[32mIn[11]\u001b[39m\u001b[32m, line 21\u001b[39m\n\u001b[32m      1\u001b[39m pipe = Pipeline([\n\u001b[32m      2\u001b[39m     (\u001b[33m'\u001b[39m\u001b[33mselector\u001b[39m\u001b[33m'\u001b[39m, VarianceThreshold(threshold=\u001b[32m0.01\u001b[39m)),\n\u001b[32m      3\u001b[39m     \u001b[38;5;66;03m# ('kbest', SelectKBest(f_classif, k=100)),\u001b[39;00m\n\u001b[32m   (...)\u001b[39m\u001b[32m     18\u001b[39m     ))\n\u001b[32m     19\u001b[39m ])\n\u001b[32m---> \u001b[39m\u001b[32m21\u001b[39m \u001b[43mpipe\u001b[49m\u001b[43m.\u001b[49m\u001b[43mfit\u001b[49m\u001b[43m(\u001b[49m\u001b[43mX_train\u001b[49m\u001b[43m,\u001b[49m\u001b[43m \u001b[49m\u001b[43my_train\u001b[49m\u001b[43m)\u001b[49m\n\u001b[32m     22\u001b[39m y_proba = pipe.predict_proba(X_test)[:, \u001b[32m1\u001b[39m]\n\u001b[32m     23\u001b[39m roc = roc_auc_score(y_test, y_proba)\n",
            "\u001b[36mFile \u001b[39m\u001b[32mc:\\Users\\ADMIN\\Programming\\ML\\Hacks\\vk-hack-cats-and-rabbits\\venv\\Lib\\site-packages\\sklearn\\base.py:1389\u001b[39m, in \u001b[36m_fit_context.<locals>.decorator.<locals>.wrapper\u001b[39m\u001b[34m(estimator, *args, **kwargs)\u001b[39m\n\u001b[32m   1382\u001b[39m     estimator._validate_params()\n\u001b[32m   1384\u001b[39m \u001b[38;5;28;01mwith\u001b[39;00m config_context(\n\u001b[32m   1385\u001b[39m     skip_parameter_validation=(\n\u001b[32m   1386\u001b[39m         prefer_skip_nested_validation \u001b[38;5;129;01mor\u001b[39;00m global_skip_validation\n\u001b[32m   1387\u001b[39m     )\n\u001b[32m   1388\u001b[39m ):\n\u001b[32m-> \u001b[39m\u001b[32m1389\u001b[39m     \u001b[38;5;28;01mreturn\u001b[39;00m \u001b[43mfit_method\u001b[49m\u001b[43m(\u001b[49m\u001b[43mestimator\u001b[49m\u001b[43m,\u001b[49m\u001b[43m \u001b[49m\u001b[43m*\u001b[49m\u001b[43margs\u001b[49m\u001b[43m,\u001b[49m\u001b[43m \u001b[49m\u001b[43m*\u001b[49m\u001b[43m*\u001b[49m\u001b[43mkwargs\u001b[49m\u001b[43m)\u001b[49m\n",
            "\u001b[36mFile \u001b[39m\u001b[32mc:\\Users\\ADMIN\\Programming\\ML\\Hacks\\vk-hack-cats-and-rabbits\\venv\\Lib\\site-packages\\sklearn\\pipeline.py:662\u001b[39m, in \u001b[36mPipeline.fit\u001b[39m\u001b[34m(self, X, y, **params)\u001b[39m\n\u001b[32m    656\u001b[39m     \u001b[38;5;28;01mif\u001b[39;00m \u001b[38;5;28mself\u001b[39m._final_estimator != \u001b[33m\"\u001b[39m\u001b[33mpassthrough\u001b[39m\u001b[33m\"\u001b[39m:\n\u001b[32m    657\u001b[39m         last_step_params = \u001b[38;5;28mself\u001b[39m._get_metadata_for_step(\n\u001b[32m    658\u001b[39m             step_idx=\u001b[38;5;28mlen\u001b[39m(\u001b[38;5;28mself\u001b[39m) - \u001b[32m1\u001b[39m,\n\u001b[32m    659\u001b[39m             step_params=routed_params[\u001b[38;5;28mself\u001b[39m.steps[-\u001b[32m1\u001b[39m][\u001b[32m0\u001b[39m]],\n\u001b[32m    660\u001b[39m             all_params=params,\n\u001b[32m    661\u001b[39m         )\n\u001b[32m--> \u001b[39m\u001b[32m662\u001b[39m         \u001b[38;5;28;43mself\u001b[39;49m\u001b[43m.\u001b[49m\u001b[43m_final_estimator\u001b[49m\u001b[43m.\u001b[49m\u001b[43mfit\u001b[49m\u001b[43m(\u001b[49m\u001b[43mXt\u001b[49m\u001b[43m,\u001b[49m\u001b[43m \u001b[49m\u001b[43my\u001b[49m\u001b[43m,\u001b[49m\u001b[43m \u001b[49m\u001b[43m*\u001b[49m\u001b[43m*\u001b[49m\u001b[43mlast_step_params\u001b[49m\u001b[43m[\u001b[49m\u001b[33;43m\"\u001b[39;49m\u001b[33;43mfit\u001b[39;49m\u001b[33;43m\"\u001b[39;49m\u001b[43m]\u001b[49m\u001b[43m)\u001b[49m\n\u001b[32m    664\u001b[39m \u001b[38;5;28;01mreturn\u001b[39;00m \u001b[38;5;28mself\u001b[39m\n",
            "\u001b[36mFile \u001b[39m\u001b[32mc:\\Users\\ADMIN\\Programming\\ML\\Hacks\\vk-hack-cats-and-rabbits\\venv\\Lib\\site-packages\\xgboost\\core.py:729\u001b[39m, in \u001b[36mrequire_keyword_args.<locals>.throw_if.<locals>.inner_f\u001b[39m\u001b[34m(*args, **kwargs)\u001b[39m\n\u001b[32m    727\u001b[39m \u001b[38;5;28;01mfor\u001b[39;00m k, arg \u001b[38;5;129;01min\u001b[39;00m \u001b[38;5;28mzip\u001b[39m(sig.parameters, args):\n\u001b[32m    728\u001b[39m     kwargs[k] = arg\n\u001b[32m--> \u001b[39m\u001b[32m729\u001b[39m \u001b[38;5;28;01mreturn\u001b[39;00m \u001b[43mfunc\u001b[49m\u001b[43m(\u001b[49m\u001b[43m*\u001b[49m\u001b[43m*\u001b[49m\u001b[43mkwargs\u001b[49m\u001b[43m)\u001b[49m\n",
            "\u001b[36mFile \u001b[39m\u001b[32mc:\\Users\\ADMIN\\Programming\\ML\\Hacks\\vk-hack-cats-and-rabbits\\venv\\Lib\\site-packages\\xgboost\\sklearn.py:1682\u001b[39m, in \u001b[36mXGBClassifier.fit\u001b[39m\u001b[34m(self, X, y, sample_weight, base_margin, eval_set, verbose, xgb_model, sample_weight_eval_set, base_margin_eval_set, feature_weights)\u001b[39m\n\u001b[32m   1660\u001b[39m model, metric, params, feature_weights = \u001b[38;5;28mself\u001b[39m._configure_fit(\n\u001b[32m   1661\u001b[39m     xgb_model, params, feature_weights\n\u001b[32m   1662\u001b[39m )\n\u001b[32m   1663\u001b[39m train_dmatrix, evals = _wrap_evaluation_matrices(\n\u001b[32m   1664\u001b[39m     missing=\u001b[38;5;28mself\u001b[39m.missing,\n\u001b[32m   1665\u001b[39m     X=X,\n\u001b[32m   (...)\u001b[39m\u001b[32m   1679\u001b[39m     feature_types=\u001b[38;5;28mself\u001b[39m.feature_types,\n\u001b[32m   1680\u001b[39m )\n\u001b[32m-> \u001b[39m\u001b[32m1682\u001b[39m \u001b[38;5;28mself\u001b[39m._Booster = \u001b[43mtrain\u001b[49m\u001b[43m(\u001b[49m\n\u001b[32m   1683\u001b[39m \u001b[43m    \u001b[49m\u001b[43mparams\u001b[49m\u001b[43m,\u001b[49m\n\u001b[32m   1684\u001b[39m \u001b[43m    \u001b[49m\u001b[43mtrain_dmatrix\u001b[49m\u001b[43m,\u001b[49m\n\u001b[32m   1685\u001b[39m \u001b[43m    \u001b[49m\u001b[38;5;28;43mself\u001b[39;49m\u001b[43m.\u001b[49m\u001b[43mget_num_boosting_rounds\u001b[49m\u001b[43m(\u001b[49m\u001b[43m)\u001b[49m\u001b[43m,\u001b[49m\n\u001b[32m   1686\u001b[39m \u001b[43m    \u001b[49m\u001b[43mevals\u001b[49m\u001b[43m=\u001b[49m\u001b[43mevals\u001b[49m\u001b[43m,\u001b[49m\n\u001b[32m   1687\u001b[39m \u001b[43m    \u001b[49m\u001b[43mearly_stopping_rounds\u001b[49m\u001b[43m=\u001b[49m\u001b[38;5;28;43mself\u001b[39;49m\u001b[43m.\u001b[49m\u001b[43mearly_stopping_rounds\u001b[49m\u001b[43m,\u001b[49m\n\u001b[32m   1688\u001b[39m \u001b[43m    \u001b[49m\u001b[43mevals_result\u001b[49m\u001b[43m=\u001b[49m\u001b[43mevals_result\u001b[49m\u001b[43m,\u001b[49m\n\u001b[32m   1689\u001b[39m \u001b[43m    \u001b[49m\u001b[43mobj\u001b[49m\u001b[43m=\u001b[49m\u001b[43mobj\u001b[49m\u001b[43m,\u001b[49m\n\u001b[32m   1690\u001b[39m \u001b[43m    \u001b[49m\u001b[43mcustom_metric\u001b[49m\u001b[43m=\u001b[49m\u001b[43mmetric\u001b[49m\u001b[43m,\u001b[49m\n\u001b[32m   1691\u001b[39m \u001b[43m    \u001b[49m\u001b[43mverbose_eval\u001b[49m\u001b[43m=\u001b[49m\u001b[43mverbose\u001b[49m\u001b[43m,\u001b[49m\n\u001b[32m   1692\u001b[39m \u001b[43m    \u001b[49m\u001b[43mxgb_model\u001b[49m\u001b[43m=\u001b[49m\u001b[43mmodel\u001b[49m\u001b[43m,\u001b[49m\n\u001b[32m   1693\u001b[39m \u001b[43m    \u001b[49m\u001b[43mcallbacks\u001b[49m\u001b[43m=\u001b[49m\u001b[38;5;28;43mself\u001b[39;49m\u001b[43m.\u001b[49m\u001b[43mcallbacks\u001b[49m\u001b[43m,\u001b[49m\n\u001b[32m   1694\u001b[39m \u001b[43m\u001b[49m\u001b[43m)\u001b[49m\n\u001b[32m   1696\u001b[39m \u001b[38;5;28;01mif\u001b[39;00m \u001b[38;5;129;01mnot\u001b[39;00m \u001b[38;5;28mcallable\u001b[39m(\u001b[38;5;28mself\u001b[39m.objective):\n\u001b[32m   1697\u001b[39m     \u001b[38;5;28mself\u001b[39m.objective = params[\u001b[33m\"\u001b[39m\u001b[33mobjective\u001b[39m\u001b[33m\"\u001b[39m]\n",
            "\u001b[36mFile \u001b[39m\u001b[32mc:\\Users\\ADMIN\\Programming\\ML\\Hacks\\vk-hack-cats-and-rabbits\\venv\\Lib\\site-packages\\xgboost\\core.py:729\u001b[39m, in \u001b[36mrequire_keyword_args.<locals>.throw_if.<locals>.inner_f\u001b[39m\u001b[34m(*args, **kwargs)\u001b[39m\n\u001b[32m    727\u001b[39m \u001b[38;5;28;01mfor\u001b[39;00m k, arg \u001b[38;5;129;01min\u001b[39;00m \u001b[38;5;28mzip\u001b[39m(sig.parameters, args):\n\u001b[32m    728\u001b[39m     kwargs[k] = arg\n\u001b[32m--> \u001b[39m\u001b[32m729\u001b[39m \u001b[38;5;28;01mreturn\u001b[39;00m \u001b[43mfunc\u001b[49m\u001b[43m(\u001b[49m\u001b[43m*\u001b[49m\u001b[43m*\u001b[49m\u001b[43mkwargs\u001b[49m\u001b[43m)\u001b[49m\n",
            "\u001b[36mFile \u001b[39m\u001b[32mc:\\Users\\ADMIN\\Programming\\ML\\Hacks\\vk-hack-cats-and-rabbits\\venv\\Lib\\site-packages\\xgboost\\training.py:183\u001b[39m, in \u001b[36mtrain\u001b[39m\u001b[34m(params, dtrain, num_boost_round, evals, obj, maximize, early_stopping_rounds, evals_result, verbose_eval, xgb_model, callbacks, custom_metric)\u001b[39m\n\u001b[32m    181\u001b[39m \u001b[38;5;28;01mif\u001b[39;00m cb_container.before_iteration(bst, i, dtrain, evals):\n\u001b[32m    182\u001b[39m     \u001b[38;5;28;01mbreak\u001b[39;00m\n\u001b[32m--> \u001b[39m\u001b[32m183\u001b[39m \u001b[43mbst\u001b[49m\u001b[43m.\u001b[49m\u001b[43mupdate\u001b[49m\u001b[43m(\u001b[49m\u001b[43mdtrain\u001b[49m\u001b[43m,\u001b[49m\u001b[43m \u001b[49m\u001b[43miteration\u001b[49m\u001b[43m=\u001b[49m\u001b[43mi\u001b[49m\u001b[43m,\u001b[49m\u001b[43m \u001b[49m\u001b[43mfobj\u001b[49m\u001b[43m=\u001b[49m\u001b[43mobj\u001b[49m\u001b[43m)\u001b[49m\n\u001b[32m    184\u001b[39m \u001b[38;5;28;01mif\u001b[39;00m cb_container.after_iteration(bst, i, dtrain, evals):\n\u001b[32m    185\u001b[39m     \u001b[38;5;28;01mbreak\u001b[39;00m\n",
            "\u001b[36mFile \u001b[39m\u001b[32mc:\\Users\\ADMIN\\Programming\\ML\\Hacks\\vk-hack-cats-and-rabbits\\venv\\Lib\\site-packages\\xgboost\\core.py:2247\u001b[39m, in \u001b[36mBooster.update\u001b[39m\u001b[34m(self, dtrain, iteration, fobj)\u001b[39m\n\u001b[32m   2243\u001b[39m \u001b[38;5;28mself\u001b[39m._assign_dmatrix_features(dtrain)\n\u001b[32m   2245\u001b[39m \u001b[38;5;28;01mif\u001b[39;00m fobj \u001b[38;5;129;01mis\u001b[39;00m \u001b[38;5;28;01mNone\u001b[39;00m:\n\u001b[32m   2246\u001b[39m     _check_call(\n\u001b[32m-> \u001b[39m\u001b[32m2247\u001b[39m         \u001b[43m_LIB\u001b[49m\u001b[43m.\u001b[49m\u001b[43mXGBoosterUpdateOneIter\u001b[49m\u001b[43m(\u001b[49m\n\u001b[32m   2248\u001b[39m \u001b[43m            \u001b[49m\u001b[38;5;28;43mself\u001b[39;49m\u001b[43m.\u001b[49m\u001b[43mhandle\u001b[49m\u001b[43m,\u001b[49m\u001b[43m \u001b[49m\u001b[43mctypes\u001b[49m\u001b[43m.\u001b[49m\u001b[43mc_int\u001b[49m\u001b[43m(\u001b[49m\u001b[43miteration\u001b[49m\u001b[43m)\u001b[49m\u001b[43m,\u001b[49m\u001b[43m \u001b[49m\u001b[43mdtrain\u001b[49m\u001b[43m.\u001b[49m\u001b[43mhandle\u001b[49m\n\u001b[32m   2249\u001b[39m \u001b[43m        \u001b[49m\u001b[43m)\u001b[49m\n\u001b[32m   2250\u001b[39m     )\n\u001b[32m   2251\u001b[39m \u001b[38;5;28;01melse\u001b[39;00m:\n\u001b[32m   2252\u001b[39m     pred = \u001b[38;5;28mself\u001b[39m.predict(dtrain, output_margin=\u001b[38;5;28;01mTrue\u001b[39;00m, training=\u001b[38;5;28;01mTrue\u001b[39;00m)\n",
            "\u001b[31mKeyboardInterrupt\u001b[39m: "
          ]
        }
      ],
      "source": [
        "pipe = Pipeline([\n",
        "    ('selector', VarianceThreshold(threshold=0.01)),\n",
        "    # ('kbest', SelectKBest(f_classif, k=100)),\n",
        "    ('scaler', StandardScaler()),\n",
        "    ('xgb', XGBClassifier(  # XGBoost с настройками для ROC-AUC\n",
        "        objective='binary:logistic',\n",
        "        eval_metric='auc',\n",
        "        n_estimators=2500,\n",
        "        max_depth=6,\n",
        "        learning_rate=0.01,\n",
        "        subsample=0.8,\n",
        "        colsample_bytree=0.4,\n",
        "        reg_alpha=1,\n",
        "        reg_lambda=1,\n",
        "        random_state=42,\n",
        "        tree_method='hist',\n",
        "        device=\"cuda\"\n",
        "    ))\n",
        "])\n",
        "\n",
        "pipe.fit(X_train, y_train)\n",
        "y_proba = pipe.predict_proba(X_test)[:, 1]\n",
        "roc = roc_auc_score(y_test, y_proba)\n",
        "roc"
      ]
    },
    {
      "cell_type": "code",
      "execution_count": null,
      "id": "3947fd7f",
      "metadata": {},
      "outputs": [],
      "source": []
    }
  ],
  "metadata": {
    "kernelspec": {
      "display_name": "Python 3",
      "language": "python",
      "name": "python3"
    },
    "language_info": {
      "codemirror_mode": {
        "name": "ipython",
        "version": 3
      },
      "file_extension": ".py",
      "mimetype": "text/x-python",
      "name": "python",
      "nbconvert_exporter": "python",
      "pygments_lexer": "ipython3",
      "version": "3.12.4"
    }
  },
  "nbformat": 4,
  "nbformat_minor": 5
}
