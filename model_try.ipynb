{
  "cells": [
    {
      "cell_type": "code",
      "execution_count": 1,
      "id": "a98ee283",
      "metadata": {
        "colab": {
          "base_uri": "https://localhost:8080/"
        },
        "id": "a98ee283",
        "outputId": "96b8eea9-6341-460b-acf0-7c79c1040008"
      },
      "outputs": [
        {
          "output_type": "stream",
          "name": "stdout",
          "text": [
            "Requirement already satisfied: pandas in /usr/local/lib/python3.11/dist-packages (2.2.2)\n",
            "Requirement already satisfied: numpy>=1.23.2 in /usr/local/lib/python3.11/dist-packages (from pandas) (2.0.2)\n",
            "Requirement already satisfied: python-dateutil>=2.8.2 in /usr/local/lib/python3.11/dist-packages (from pandas) (2.8.2)\n",
            "Requirement already satisfied: pytz>=2020.1 in /usr/local/lib/python3.11/dist-packages (from pandas) (2025.2)\n",
            "Requirement already satisfied: tzdata>=2022.7 in /usr/local/lib/python3.11/dist-packages (from pandas) (2025.2)\n",
            "Requirement already satisfied: six>=1.5 in /usr/local/lib/python3.11/dist-packages (from python-dateutil>=2.8.2->pandas) (1.17.0)\n",
            "\u001b[31mERROR: Could not open requirements file: [Errno 2] No such file or directory: 'requirements.txt'\u001b[0m\u001b[31m\n",
            "\u001b[0mCollecting optuna\n",
            "  Downloading optuna-4.3.0-py3-none-any.whl.metadata (17 kB)\n",
            "Collecting alembic>=1.5.0 (from optuna)\n",
            "  Downloading alembic-1.15.2-py3-none-any.whl.metadata (7.3 kB)\n",
            "Collecting colorlog (from optuna)\n",
            "  Downloading colorlog-6.9.0-py3-none-any.whl.metadata (10 kB)\n",
            "Requirement already satisfied: numpy in /usr/local/lib/python3.11/dist-packages (from optuna) (2.0.2)\n",
            "Requirement already satisfied: packaging>=20.0 in /usr/local/lib/python3.11/dist-packages (from optuna) (24.2)\n",
            "Requirement already satisfied: sqlalchemy>=1.4.2 in /usr/local/lib/python3.11/dist-packages (from optuna) (2.0.40)\n",
            "Requirement already satisfied: tqdm in /usr/local/lib/python3.11/dist-packages (from optuna) (4.67.1)\n",
            "Requirement already satisfied: PyYAML in /usr/local/lib/python3.11/dist-packages (from optuna) (6.0.2)\n",
            "Requirement already satisfied: Mako in /usr/lib/python3/dist-packages (from alembic>=1.5.0->optuna) (1.1.3)\n",
            "Requirement already satisfied: typing-extensions>=4.12 in /usr/local/lib/python3.11/dist-packages (from alembic>=1.5.0->optuna) (4.13.2)\n",
            "Requirement already satisfied: greenlet>=1 in /usr/local/lib/python3.11/dist-packages (from sqlalchemy>=1.4.2->optuna) (3.2.0)\n",
            "Downloading optuna-4.3.0-py3-none-any.whl (386 kB)\n",
            "\u001b[2K   \u001b[90m━━━━━━━━━━━━━━━━━━━━━━━━━━━━━━━━━━━━━━━━\u001b[0m \u001b[32m386.6/386.6 kB\u001b[0m \u001b[31m10.7 MB/s\u001b[0m eta \u001b[36m0:00:00\u001b[0m\n",
            "\u001b[?25hDownloading alembic-1.15.2-py3-none-any.whl (231 kB)\n",
            "\u001b[2K   \u001b[90m━━━━━━━━━━━━━━━━━━━━━━━━━━━━━━━━━━━━━━━━\u001b[0m \u001b[32m231.9/231.9 kB\u001b[0m \u001b[31m25.6 MB/s\u001b[0m eta \u001b[36m0:00:00\u001b[0m\n",
            "\u001b[?25hDownloading colorlog-6.9.0-py3-none-any.whl (11 kB)\n",
            "Installing collected packages: colorlog, alembic, optuna\n",
            "Successfully installed alembic-1.15.2 colorlog-6.9.0 optuna-4.3.0\n"
          ]
        }
      ],
      "source": [
        "%pip install pandas\n",
        "%pip install -r requirements.txt\n",
        "%pip install optuna"
      ]
    },
    {
      "cell_type": "code",
      "execution_count": 2,
      "id": "82b9c411",
      "metadata": {
        "id": "82b9c411"
      },
      "outputs": [],
      "source": [
        "import pandas as pd\n",
        "import numpy as np\n",
        "from sklearn.feature_selection import VarianceThreshold, SelectKBest, f_regression, f_classif, SelectFromModel\n",
        "from sklearn.model_selection import train_test_split\n",
        "from sklearn.linear_model import LinearRegression, LassoCV, LogisticRegression\n",
        "from sklearn.metrics import mean_squared_error, roc_auc_score\n",
        "from sklearn.preprocessing import StandardScaler\n",
        "from sklearn.pipeline import Pipeline\n",
        "from sklearn.ensemble import RandomForestClassifier, GradientBoostingClassifier\n",
        "from sklearn.svm import SVC"
      ]
    },
    {
      "cell_type": "code",
      "source": [
        "import zipfile\n",
        "\n",
        "zipfile.ZipFile(\"./train.zip\", \"r\").extractall()"
      ],
      "metadata": {
        "id": "OnSumwPAqg74"
      },
      "id": "OnSumwPAqg74",
      "execution_count": 3,
      "outputs": []
    },
    {
      "cell_type": "code",
      "execution_count": 4,
      "id": "200f1aad",
      "metadata": {
        "id": "200f1aad"
      },
      "outputs": [],
      "source": [
        "# Загрузка данных (предположим, что данные в CSV)\n",
        "df = pd.read_csv(\"./train.csv\") # для train"
      ]
    },
    {
      "cell_type": "code",
      "execution_count": 5,
      "id": "20827f62",
      "metadata": {
        "colab": {
          "base_uri": "https://localhost:8080/"
        },
        "id": "20827f62",
        "outputId": "a07a8607-7ea4-4fbc-8471-583044c6153c"
      },
      "outputs": [
        {
          "output_type": "execute_result",
          "data": {
            "text/plain": [
              "(        feature_0  feature_1  feature_2  feature_3  feature_4  feature_5  \\\n",
              " 0        0.128367        1.0        1.0        1.0        1.0        4.0   \n",
              " 1        0.258685        1.0        1.0        1.0        0.0        7.0   \n",
              " 2        0.407738        1.0        1.0        1.0        2.0        7.0   \n",
              " 3        0.439134        1.0        1.0        1.0        1.0        2.0   \n",
              " 4        0.590481        1.0        1.0        1.0        0.0        1.0   \n",
              " ...           ...        ...        ...        ...        ...        ...   \n",
              " 177853   0.660324        1.0        1.0        1.0        0.0        1.0   \n",
              " 177854   0.222214        0.0        1.0        1.0        1.0        4.0   \n",
              " 177855   0.545399        0.0        1.0        1.0        0.0        2.0   \n",
              " 177856   0.393150        1.0        1.0        1.0        0.0        1.0   \n",
              " 177857   0.395272        1.0        1.0        1.0        1.0        2.0   \n",
              " \n",
              "         feature_6  feature_7  feature_8  feature_9  ...  feature_1357  \\\n",
              " 0             2.0        2.0        4.0       13.0  ...           0.0   \n",
              " 1             2.0        9.0        0.0       18.0  ...           0.0   \n",
              " 2             1.0        2.0        0.0       12.0  ...           0.0   \n",
              " 3             1.0        0.0        3.0        7.0  ...           0.0   \n",
              " 4             3.0        1.0        0.0        5.0  ...           0.0   \n",
              " ...           ...        ...        ...        ...  ...           ...   \n",
              " 177853        0.0        0.0        0.0        1.0  ...          -1.0   \n",
              " 177854        2.0        3.0        0.0       10.0  ...           0.0   \n",
              " 177855        1.0        0.0        2.0        5.0  ...           0.0   \n",
              " 177856        1.0        0.0        0.0        2.0  ...          -1.0   \n",
              " 177857        1.0        2.0        1.0        7.0  ...           0.0   \n",
              " \n",
              "         feature_1358  feature_1359  feature_1360  feature_1361  feature_1362  \\\n",
              " 0                0.0           0.0             0             0             0   \n",
              " 1                0.0           0.0             0             0             0   \n",
              " 2                0.0           0.0             0             0             0   \n",
              " 3                0.0           0.0             0             0             0   \n",
              " 4                0.0           0.0             0             0             0   \n",
              " ...              ...           ...           ...           ...           ...   \n",
              " 177853          -1.0          -1.0             1             0             1   \n",
              " 177854           0.0           0.0             0             0             0   \n",
              " 177855           0.0           0.0             1             0             0   \n",
              " 177856          -1.0          -1.0             0             0             0   \n",
              " 177857           0.0           0.0             0             0             0   \n",
              " \n",
              "         feature_1363  feature_1364  feature_1365  feature_1366  \n",
              " 0                  0             0             1             0  \n",
              " 1                  0             0             0             0  \n",
              " 2                  0             0             0             0  \n",
              " 3                  0             0             0             0  \n",
              " 4                  0             0             0             0  \n",
              " ...              ...           ...           ...           ...  \n",
              " 177853             0             1             1             1  \n",
              " 177854             0             0             0             0  \n",
              " 177855             0             0             0             0  \n",
              " 177856             0             1             0             1  \n",
              " 177857             0             0             0             0  \n",
              " \n",
              " [177858 rows x 1367 columns],\n",
              " 0         0\n",
              " 1         0\n",
              " 2         0\n",
              " 3         0\n",
              " 4         0\n",
              "          ..\n",
              " 177853    0\n",
              " 177854    0\n",
              " 177855    0\n",
              " 177856    0\n",
              " 177857    0\n",
              " Name: target, Length: 177858, dtype: int64)"
            ]
          },
          "metadata": {},
          "execution_count": 5
        }
      ],
      "source": [
        "\n",
        "# Удаляем индекс, так как он не несёт информации для модели\n",
        "X = df.drop(['index', 'target'], axis=1)  # Все фичи (feature_1 ... feature_1366)\n",
        "y = df['target']  # Целевая переменная\n",
        "\n",
        "X, y"
      ]
    },
    {
      "cell_type": "code",
      "execution_count": 6,
      "id": "9e6fb7e3",
      "metadata": {
        "id": "9e6fb7e3"
      },
      "outputs": [],
      "source": [
        "indexes = df['index']\n",
        "del df"
      ]
    },
    {
      "cell_type": "code",
      "execution_count": 7,
      "id": "97608bd4",
      "metadata": {
        "colab": {
          "base_uri": "https://localhost:8080/"
        },
        "id": "97608bd4",
        "outputId": "f55c2712-331f-4662-8119-d849bd233382"
      },
      "outputs": [
        {
          "output_type": "stream",
          "name": "stdout",
          "text": [
            "Исходное число признаков: 1367\n",
            "Число признаков после отбора: 200\n"
          ]
        }
      ],
      "source": [
        "# 1. Отбор признаков: удаляем низковариативные (константные и почти константные)\n",
        "# Сделаем pipeline для более эффективного отбора признаков(их сокращения)\n",
        "pipe = Pipeline([\n",
        "    ('selector', VarianceThreshold(threshold=0.01)),\n",
        "    ('kbest', SelectKBest(f_classif, k=200)),\n",
        "    # ('lasso_selection', SelectFromModel(LassoCV(cv=2), max_features=500))\n",
        "])\n",
        "\n",
        "X_selected = pipe.fit_transform(X, y)\n",
        "selector = pipe.named_steps['kbest']\n",
        "\n",
        "print(f\"Исходное число признаков: {X.shape[1]}\")\n",
        "print(f\"Число признаков после отбора: {X_selected.shape[1]}\")"
      ]
    },
    {
      "cell_type": "code",
      "execution_count": 8,
      "id": "2d5ebe0a",
      "metadata": {
        "id": "2d5ebe0a"
      },
      "outputs": [],
      "source": [
        "# 2. Масштабирование данных (важно для линейной регрессии)\n",
        "scaler = StandardScaler()\n",
        "X_scaled = scaler.fit_transform(X_selected)\n",
        "\n",
        "X_train, X_test, y_train, y_test = train_test_split(\n",
        "    X_selected, y, test_size=0.3, random_state=42\n",
        ")\n"
      ]
    },
    {
      "cell_type": "code",
      "execution_count": null,
      "id": "e8e0b579",
      "metadata": {
        "id": "e8e0b579",
        "outputId": "32123d81-9998-4259-86f0-d12b1f3f4cb3"
      },
      "outputs": [
        {
          "name": "stdout",
          "output_type": "stream",
          "text": [
            "\n",
            "MSE: 0.0171\n",
            "R2 Score: 0.0016\n",
            "ROC-AUC Score: 0.6536\n",
            "\n",
            "Модель имеет 400 коэффициентов (слишком много для вывода).\n"
          ]
        }
      ],
      "source": [
        "# 4. Создание и обучение модели\n",
        "model = LinearRegression()\n",
        "model.fit(X_train, y_train)\n",
        "\n",
        "# 5. Предсказание и оценка качества\n",
        "y_pred = model.predict(X_test)\n",
        "# y_pred_proba_lin_reg = model.decision_function(X_test)\n",
        "\n",
        "# Метрики\n",
        "mse = mean_squared_error(y_test, y_pred)\n",
        "# нормализуем значения для roc_auc\n",
        "y_proba = 1 / (1 + np.exp(-y_pred)) # преобразование через сигмойду\n",
        "roc_auc = roc_auc_score(y_test, y_proba)\n",
        "\n",
        "print(f\"\\nMSE: {mse:.4f}\")\n",
        "print(f\"ROC-AUC Score: {roc_auc:.4f}\")\n",
        "\n",
        "# (Опционально) Вывод коэффициентов модели\n",
        "if X_selected.shape[1] <= 20:  # Не выводить для слишком большого числа фич\n",
        "    print(\"\\nКоэффициенты модели:\")\n",
        "    # for feature, coef in zip(X.columns[selector.get_support()], model.coef_):\n",
        "    #     print(f\"{feature}: {coef:.4f}\")\n",
        "else:\n",
        "    print(f\"\\nМодель имеет {X_selected.shape[1]} коэффициентов (слишком много для вывода).\")"
      ]
    },
    {
      "cell_type": "code",
      "execution_count": null,
      "id": "61f786ac",
      "metadata": {
        "id": "61f786ac",
        "outputId": "8579a5b8-5451-413c-bc69-aa6ae86f2453"
      },
      "outputs": [
        {
          "data": {
            "text/plain": [
              "array([ 0.01629677,  0.00887584,  0.00911322, ...,  0.0150569 ,\n",
              "       -0.0037384 , -0.00022041], shape=(53358,))"
            ]
          },
          "execution_count": 42,
          "metadata": {},
          "output_type": "execute_result"
        }
      ],
      "source": [
        "y_pred"
      ]
    },
    {
      "cell_type": "markdown",
      "id": "1ee56f1d",
      "metadata": {
        "id": "1ee56f1d"
      },
      "source": [
        "Так.... Из полученных метрик следует что вроде бы по MSE результат довольно терпимый и среднеквадратичная ошибка не слишком большая.\n",
        "Касаемо метрики ROC-AUC Score получаем 0.6536 что является лучше чем убычное угадывание(подбрасывание монетки).\n",
        "Из инересного мы не должны использовать LinearRegression, так как она может выдавать значения за пределами [0, 1], но после регуляризации значений, они могут быть использованиы для вычисления метрики."
      ]
    },
    {
      "cell_type": "markdown",
      "id": "6d750929",
      "metadata": {
        "id": "6d750929"
      },
      "source": [
        "Попробуем RandomForestClassifier"
      ]
    },
    {
      "cell_type": "code",
      "execution_count": null,
      "id": "a35beee4",
      "metadata": {
        "id": "a35beee4"
      },
      "outputs": [],
      "source": [
        "model = RandomForestClassifier()\n",
        "model.fit(X_train, y_train)\n",
        "\n",
        "y_pred_proba = model.predict_proba(X_test)[:, 1]\n",
        "roc_auc = roc_auc_score(y_test, y_pred_proba)\n"
      ]
    },
    {
      "cell_type": "code",
      "execution_count": null,
      "id": "bed71c2a",
      "metadata": {
        "id": "bed71c2a",
        "outputId": "dce35f06-aa0c-43d7-9b9e-88473662302c"
      },
      "outputs": [
        {
          "data": {
            "text/plain": [
              "array([0.  , 0.04, 0.03, ..., 0.  , 0.03, 0.  ], shape=(53358,))"
            ]
          },
          "execution_count": 13,
          "metadata": {},
          "output_type": "execute_result"
        }
      ],
      "source": [
        "y_pred_proba"
      ]
    },
    {
      "cell_type": "code",
      "execution_count": null,
      "id": "406036f3",
      "metadata": {
        "id": "406036f3",
        "outputId": "79bb839a-0ef7-498d-f6e3-bb12be9f4b5e"
      },
      "outputs": [
        {
          "data": {
            "text/html": [
              "<div>\n",
              "<style scoped>\n",
              "    .dataframe tbody tr th:only-of-type {\n",
              "        vertical-align: middle;\n",
              "    }\n",
              "\n",
              "    .dataframe tbody tr th {\n",
              "        vertical-align: top;\n",
              "    }\n",
              "\n",
              "    .dataframe thead th {\n",
              "        text-align: right;\n",
              "    }\n",
              "</style>\n",
              "<table border=\"1\" class=\"dataframe\">\n",
              "  <thead>\n",
              "    <tr style=\"text-align: right;\">\n",
              "      <th></th>\n",
              "      <th>index</th>\n",
              "      <th>feature_0</th>\n",
              "      <th>feature_1</th>\n",
              "      <th>feature_2</th>\n",
              "      <th>feature_3</th>\n",
              "      <th>feature_4</th>\n",
              "      <th>feature_5</th>\n",
              "      <th>feature_6</th>\n",
              "      <th>feature_7</th>\n",
              "      <th>feature_8</th>\n",
              "      <th>...</th>\n",
              "      <th>feature_1357</th>\n",
              "      <th>feature_1358</th>\n",
              "      <th>feature_1359</th>\n",
              "      <th>feature_1360</th>\n",
              "      <th>feature_1361</th>\n",
              "      <th>feature_1362</th>\n",
              "      <th>feature_1363</th>\n",
              "      <th>feature_1364</th>\n",
              "      <th>feature_1365</th>\n",
              "      <th>feature_1366</th>\n",
              "    </tr>\n",
              "  </thead>\n",
              "  <tbody>\n",
              "    <tr>\n",
              "      <th>0</th>\n",
              "      <td>124365</td>\n",
              "      <td>0.719921</td>\n",
              "      <td>1.0</td>\n",
              "      <td>1.0</td>\n",
              "      <td>1.0</td>\n",
              "      <td>1.0</td>\n",
              "      <td>1.0</td>\n",
              "      <td>2.0</td>\n",
              "      <td>1.0</td>\n",
              "      <td>0.0</td>\n",
              "      <td>...</td>\n",
              "      <td>0.0</td>\n",
              "      <td>0.0</td>\n",
              "      <td>0.0</td>\n",
              "      <td>0</td>\n",
              "      <td>0</td>\n",
              "      <td>0</td>\n",
              "      <td>0</td>\n",
              "      <td>0</td>\n",
              "      <td>0</td>\n",
              "      <td>0</td>\n",
              "    </tr>\n",
              "    <tr>\n",
              "      <th>1</th>\n",
              "      <td>177140</td>\n",
              "      <td>0.123122</td>\n",
              "      <td>0.0</td>\n",
              "      <td>1.0</td>\n",
              "      <td>1.0</td>\n",
              "      <td>1.0</td>\n",
              "      <td>2.0</td>\n",
              "      <td>1.0</td>\n",
              "      <td>2.0</td>\n",
              "      <td>0.0</td>\n",
              "      <td>...</td>\n",
              "      <td>0.0</td>\n",
              "      <td>0.0</td>\n",
              "      <td>0.0</td>\n",
              "      <td>0</td>\n",
              "      <td>0</td>\n",
              "      <td>0</td>\n",
              "      <td>0</td>\n",
              "      <td>0</td>\n",
              "      <td>0</td>\n",
              "      <td>0</td>\n",
              "    </tr>\n",
              "    <tr>\n",
              "      <th>2</th>\n",
              "      <td>106632</td>\n",
              "      <td>0.384612</td>\n",
              "      <td>0.0</td>\n",
              "      <td>1.0</td>\n",
              "      <td>1.0</td>\n",
              "      <td>1.0</td>\n",
              "      <td>0.0</td>\n",
              "      <td>1.0</td>\n",
              "      <td>2.0</td>\n",
              "      <td>0.0</td>\n",
              "      <td>...</td>\n",
              "      <td>0.0</td>\n",
              "      <td>0.0</td>\n",
              "      <td>0.0</td>\n",
              "      <td>0</td>\n",
              "      <td>1</td>\n",
              "      <td>0</td>\n",
              "      <td>0</td>\n",
              "      <td>0</td>\n",
              "      <td>0</td>\n",
              "      <td>0</td>\n",
              "    </tr>\n",
              "    <tr>\n",
              "      <th>3</th>\n",
              "      <td>17630</td>\n",
              "      <td>0.452527</td>\n",
              "      <td>0.0</td>\n",
              "      <td>1.0</td>\n",
              "      <td>1.0</td>\n",
              "      <td>1.0</td>\n",
              "      <td>4.0</td>\n",
              "      <td>5.0</td>\n",
              "      <td>2.0</td>\n",
              "      <td>0.0</td>\n",
              "      <td>...</td>\n",
              "      <td>0.0</td>\n",
              "      <td>0.0</td>\n",
              "      <td>0.0</td>\n",
              "      <td>0</td>\n",
              "      <td>0</td>\n",
              "      <td>0</td>\n",
              "      <td>0</td>\n",
              "      <td>0</td>\n",
              "      <td>0</td>\n",
              "      <td>0</td>\n",
              "    </tr>\n",
              "    <tr>\n",
              "      <th>4</th>\n",
              "      <td>97189</td>\n",
              "      <td>0.379611</td>\n",
              "      <td>1.0</td>\n",
              "      <td>1.0</td>\n",
              "      <td>1.0</td>\n",
              "      <td>2.0</td>\n",
              "      <td>11.0</td>\n",
              "      <td>3.0</td>\n",
              "      <td>4.0</td>\n",
              "      <td>0.0</td>\n",
              "      <td>...</td>\n",
              "      <td>0.0</td>\n",
              "      <td>0.0</td>\n",
              "      <td>0.0</td>\n",
              "      <td>0</td>\n",
              "      <td>0</td>\n",
              "      <td>0</td>\n",
              "      <td>0</td>\n",
              "      <td>0</td>\n",
              "      <td>0</td>\n",
              "      <td>0</td>\n",
              "    </tr>\n",
              "    <tr>\n",
              "      <th>...</th>\n",
              "      <td>...</td>\n",
              "      <td>...</td>\n",
              "      <td>...</td>\n",
              "      <td>...</td>\n",
              "      <td>...</td>\n",
              "      <td>...</td>\n",
              "      <td>...</td>\n",
              "      <td>...</td>\n",
              "      <td>...</td>\n",
              "      <td>...</td>\n",
              "      <td>...</td>\n",
              "      <td>...</td>\n",
              "      <td>...</td>\n",
              "      <td>...</td>\n",
              "      <td>...</td>\n",
              "      <td>...</td>\n",
              "      <td>...</td>\n",
              "      <td>...</td>\n",
              "      <td>...</td>\n",
              "      <td>...</td>\n",
              "      <td>...</td>\n",
              "    </tr>\n",
              "    <tr>\n",
              "      <th>76220</th>\n",
              "      <td>55074</td>\n",
              "      <td>0.325234</td>\n",
              "      <td>0.0</td>\n",
              "      <td>1.0</td>\n",
              "      <td>1.0</td>\n",
              "      <td>1.0</td>\n",
              "      <td>3.0</td>\n",
              "      <td>1.0</td>\n",
              "      <td>0.0</td>\n",
              "      <td>3.0</td>\n",
              "      <td>...</td>\n",
              "      <td>0.0</td>\n",
              "      <td>0.0</td>\n",
              "      <td>0.0</td>\n",
              "      <td>0</td>\n",
              "      <td>0</td>\n",
              "      <td>0</td>\n",
              "      <td>0</td>\n",
              "      <td>0</td>\n",
              "      <td>0</td>\n",
              "      <td>0</td>\n",
              "    </tr>\n",
              "    <tr>\n",
              "      <th>76221</th>\n",
              "      <td>12771</td>\n",
              "      <td>0.227776</td>\n",
              "      <td>1.0</td>\n",
              "      <td>1.0</td>\n",
              "      <td>1.0</td>\n",
              "      <td>1.0</td>\n",
              "      <td>3.0</td>\n",
              "      <td>3.0</td>\n",
              "      <td>2.0</td>\n",
              "      <td>0.0</td>\n",
              "      <td>...</td>\n",
              "      <td>0.0</td>\n",
              "      <td>0.0</td>\n",
              "      <td>0.0</td>\n",
              "      <td>0</td>\n",
              "      <td>0</td>\n",
              "      <td>0</td>\n",
              "      <td>0</td>\n",
              "      <td>0</td>\n",
              "      <td>0</td>\n",
              "      <td>0</td>\n",
              "    </tr>\n",
              "    <tr>\n",
              "      <th>76222</th>\n",
              "      <td>80999</td>\n",
              "      <td>0.459919</td>\n",
              "      <td>1.0</td>\n",
              "      <td>1.0</td>\n",
              "      <td>1.0</td>\n",
              "      <td>1.0</td>\n",
              "      <td>2.0</td>\n",
              "      <td>1.0</td>\n",
              "      <td>2.0</td>\n",
              "      <td>3.0</td>\n",
              "      <td>...</td>\n",
              "      <td>0.0</td>\n",
              "      <td>0.0</td>\n",
              "      <td>0.0</td>\n",
              "      <td>0</td>\n",
              "      <td>0</td>\n",
              "      <td>0</td>\n",
              "      <td>0</td>\n",
              "      <td>0</td>\n",
              "      <td>0</td>\n",
              "      <td>0</td>\n",
              "    </tr>\n",
              "    <tr>\n",
              "      <th>76223</th>\n",
              "      <td>31517</td>\n",
              "      <td>0.667716</td>\n",
              "      <td>1.0</td>\n",
              "      <td>1.0</td>\n",
              "      <td>1.0</td>\n",
              "      <td>0.0</td>\n",
              "      <td>2.0</td>\n",
              "      <td>2.0</td>\n",
              "      <td>2.0</td>\n",
              "      <td>0.0</td>\n",
              "      <td>...</td>\n",
              "      <td>0.0</td>\n",
              "      <td>0.0</td>\n",
              "      <td>0.0</td>\n",
              "      <td>0</td>\n",
              "      <td>0</td>\n",
              "      <td>0</td>\n",
              "      <td>0</td>\n",
              "      <td>0</td>\n",
              "      <td>0</td>\n",
              "      <td>0</td>\n",
              "    </tr>\n",
              "    <tr>\n",
              "      <th>76224</th>\n",
              "      <td>250238</td>\n",
              "      <td>0.226239</td>\n",
              "      <td>0.0</td>\n",
              "      <td>1.0</td>\n",
              "      <td>1.0</td>\n",
              "      <td>3.0</td>\n",
              "      <td>2.0</td>\n",
              "      <td>1.0</td>\n",
              "      <td>0.0</td>\n",
              "      <td>4.0</td>\n",
              "      <td>...</td>\n",
              "      <td>0.0</td>\n",
              "      <td>0.0</td>\n",
              "      <td>0.0</td>\n",
              "      <td>0</td>\n",
              "      <td>0</td>\n",
              "      <td>0</td>\n",
              "      <td>0</td>\n",
              "      <td>0</td>\n",
              "      <td>0</td>\n",
              "      <td>0</td>\n",
              "    </tr>\n",
              "  </tbody>\n",
              "</table>\n",
              "<p>76225 rows × 1368 columns</p>\n",
              "</div>"
            ],
            "text/plain": [
              "        index  feature_0  feature_1  feature_2  feature_3  feature_4  \\\n",
              "0      124365   0.719921        1.0        1.0        1.0        1.0   \n",
              "1      177140   0.123122        0.0        1.0        1.0        1.0   \n",
              "2      106632   0.384612        0.0        1.0        1.0        1.0   \n",
              "3       17630   0.452527        0.0        1.0        1.0        1.0   \n",
              "4       97189   0.379611        1.0        1.0        1.0        2.0   \n",
              "...       ...        ...        ...        ...        ...        ...   \n",
              "76220   55074   0.325234        0.0        1.0        1.0        1.0   \n",
              "76221   12771   0.227776        1.0        1.0        1.0        1.0   \n",
              "76222   80999   0.459919        1.0        1.0        1.0        1.0   \n",
              "76223   31517   0.667716        1.0        1.0        1.0        0.0   \n",
              "76224  250238   0.226239        0.0        1.0        1.0        3.0   \n",
              "\n",
              "       feature_5  feature_6  feature_7  feature_8  ...  feature_1357  \\\n",
              "0            1.0        2.0        1.0        0.0  ...           0.0   \n",
              "1            2.0        1.0        2.0        0.0  ...           0.0   \n",
              "2            0.0        1.0        2.0        0.0  ...           0.0   \n",
              "3            4.0        5.0        2.0        0.0  ...           0.0   \n",
              "4           11.0        3.0        4.0        0.0  ...           0.0   \n",
              "...          ...        ...        ...        ...  ...           ...   \n",
              "76220        3.0        1.0        0.0        3.0  ...           0.0   \n",
              "76221        3.0        3.0        2.0        0.0  ...           0.0   \n",
              "76222        2.0        1.0        2.0        3.0  ...           0.0   \n",
              "76223        2.0        2.0        2.0        0.0  ...           0.0   \n",
              "76224        2.0        1.0        0.0        4.0  ...           0.0   \n",
              "\n",
              "       feature_1358  feature_1359  feature_1360  feature_1361  feature_1362  \\\n",
              "0               0.0           0.0             0             0             0   \n",
              "1               0.0           0.0             0             0             0   \n",
              "2               0.0           0.0             0             1             0   \n",
              "3               0.0           0.0             0             0             0   \n",
              "4               0.0           0.0             0             0             0   \n",
              "...             ...           ...           ...           ...           ...   \n",
              "76220           0.0           0.0             0             0             0   \n",
              "76221           0.0           0.0             0             0             0   \n",
              "76222           0.0           0.0             0             0             0   \n",
              "76223           0.0           0.0             0             0             0   \n",
              "76224           0.0           0.0             0             0             0   \n",
              "\n",
              "       feature_1363  feature_1364  feature_1365  feature_1366  \n",
              "0                 0             0             0             0  \n",
              "1                 0             0             0             0  \n",
              "2                 0             0             0             0  \n",
              "3                 0             0             0             0  \n",
              "4                 0             0             0             0  \n",
              "...             ...           ...           ...           ...  \n",
              "76220             0             0             0             0  \n",
              "76221             0             0             0             0  \n",
              "76222             0             0             0             0  \n",
              "76223             0             0             0             0  \n",
              "76224             0             0             0             0  \n",
              "\n",
              "[76225 rows x 1368 columns]"
            ]
          },
          "execution_count": 18,
          "metadata": {},
          "output_type": "execute_result"
        }
      ],
      "source": [
        "# generate output data\n",
        "X_true_test = pd.read_csv('./datasets/test/test.csv')\n",
        "X_true_test"
      ]
    },
    {
      "cell_type": "code",
      "execution_count": null,
      "id": "7f3a6d78",
      "metadata": {
        "id": "7f3a6d78",
        "outputId": "dd995c86-560f-4dc8-c865-d31ed4246246"
      },
      "outputs": [
        {
          "name": "stdout",
          "output_type": "stream",
          "text": [
            "ROC_AUC_SCORE is 0.6261\n"
          ]
        }
      ],
      "source": [
        "print(f\"ROC_AUC_SCORE is {roc_auc:.4f}\")"
      ]
    },
    {
      "cell_type": "markdown",
      "id": "4a523067",
      "metadata": {
        "id": "4a523067"
      },
      "source": [
        "Прогресс, модель достигла случайного угадывания\n",
        "(последние данные ROC_AUC_SCORE is 0.6261, это даже лучше чем просто уадывание по среднему значению)"
      ]
    },
    {
      "cell_type": "code",
      "execution_count": null,
      "id": "003b1165",
      "metadata": {
        "id": "003b1165",
        "outputId": "c81bbf08-4767-4836-f58a-aca4980279c7"
      },
      "outputs": [
        {
          "name": "stdout",
          "output_type": "stream",
          "text": [
            "MSE: 0.02\n"
          ]
        }
      ],
      "source": [
        "mse = mean_squared_error(y_test, y_pred_proba)\n",
        "print(f'MSE: {mse:.2f}')"
      ]
    },
    {
      "cell_type": "markdown",
      "id": "d133c2d4",
      "metadata": {
        "id": "d133c2d4"
      },
      "source": [
        "Небольшой апдейт для структуры модели"
      ]
    },
    {
      "cell_type": "code",
      "execution_count": 9,
      "id": "f58e5d78",
      "metadata": {
        "id": "f58e5d78"
      },
      "outputs": [],
      "source": [
        "X_train, X_test, y_train, y_test = train_test_split(\n",
        "    X, y, test_size=0.3, random_state=42\n",
        ")"
      ]
    },
    {
      "cell_type": "code",
      "execution_count": null,
      "id": "45b9dd08",
      "metadata": {
        "id": "45b9dd08"
      },
      "outputs": [],
      "source": [
        "# 1. Отбор признаков: удаляем низковариативные (константные и почти константные)\n",
        "# Сделаем pipeline для более эффективного отбора признаков(их сокращения)\n",
        "pipe = Pipeline([\n",
        "    ('selector', VarianceThreshold(threshold=0.01)),\n",
        "    ('kbest', SelectKBest(f_classif, k=100)),\n",
        "    ('scaler', StandardScaler()),\n",
        "    ('model', RandomForestClassifier())\n",
        "    # ('lasso_selection', SelectFromModel(LassoCV(cv=2), max_features=500))\n",
        "])\n",
        "\n",
        "pipe.fit(X_train, y_train)\n",
        "\n",
        "y_pred = pipe.predict_proba(X_test)[:, 1]\n",
        "\n",
        "roc_auc_metric = roc_auc_score(y_test, y_pred)\n"
      ]
    },
    {
      "cell_type": "code",
      "execution_count": null,
      "id": "1657a37c",
      "metadata": {
        "id": "1657a37c",
        "outputId": "69036045-5b7e-400f-a40f-4011cd4177d2"
      },
      "outputs": [
        {
          "name": "stdout",
          "output_type": "stream",
          "text": [
            "ROC-AUC Score is 0.6221\n"
          ]
        }
      ],
      "source": [
        "print(f\"ROC-AUC Score is {roc_auc_metric:.4f}\")"
      ]
    },
    {
      "cell_type": "markdown",
      "id": "7551e3d8",
      "metadata": {
        "id": "7551e3d8"
      },
      "source": [
        "А что если заменить RandomForsetClassifier на LogisticRegression"
      ]
    },
    {
      "cell_type": "code",
      "execution_count": null,
      "id": "9ade12e8",
      "metadata": {
        "id": "9ade12e8"
      },
      "outputs": [],
      "source": [
        "# 1. Отбор признаков: удаляем низковариативные (константные и почти константные)\n",
        "# Сделаем pipeline для более эффективного отбора признаков(их сокращения)\n",
        "pipe = Pipeline([\n",
        "    ('selector', VarianceThreshold(threshold=0.01)),\n",
        "    ('kbest', SelectKBest(f_classif, k=100)),\n",
        "    ('scaler', StandardScaler()),\n",
        "    ('model', LogisticRegression())\n",
        "    # ('lasso_selection', SelectFromModel(LassoCV(cv=2), max_features=500))\n",
        "])\n",
        "\n",
        "pipe.fit(X_train, y_train)\n",
        "\n",
        "y_pred = pipe.predict_proba(X_test)[:, 1]\n",
        "\n",
        "roc_auc_metric = roc_auc_score(y_test, y_pred)"
      ]
    },
    {
      "cell_type": "code",
      "execution_count": null,
      "id": "1fb1f965",
      "metadata": {
        "id": "1fb1f965",
        "outputId": "ed0fda94-82fa-4181-a50c-bb30eb3a6801"
      },
      "outputs": [
        {
          "name": "stdout",
          "output_type": "stream",
          "text": [
            "ROC-AUC Score is 0.6473\n"
          ]
        }
      ],
      "source": [
        "print(f\"ROC-AUC Score is {roc_auc_metric:.4f}\")"
      ]
    },
    {
      "cell_type": "markdown",
      "id": "0c997fdf",
      "metadata": {
        "id": "0c997fdf"
      },
      "source": [
        "Вау, метрика подросла)\n"
      ]
    },
    {
      "cell_type": "markdown",
      "id": "61619d27",
      "metadata": {
        "id": "61619d27"
      },
      "source": [
        "Теперь попробуем GradientBoostingClassifier\n"
      ]
    },
    {
      "cell_type": "code",
      "execution_count": null,
      "id": "c06ca331",
      "metadata": {
        "id": "c06ca331"
      },
      "outputs": [],
      "source": [
        "# 1. Отбор признаков: удаляем низковариативные (константные и почти константные)\n",
        "# Сделаем pipeline для более эффективного отбора признаков(их сокращения)\n",
        "pipe = Pipeline([\n",
        "    ('selector', VarianceThreshold(threshold=0.01)),\n",
        "    ('kbest', SelectKBest(f_classif, k=100)),\n",
        "    ('scaler', StandardScaler()),\n",
        "    ('model', GradientBoostingClassifier())\n",
        "    # ('lasso_selection', SelectFromModel(LassoCV(cv=2), max_features=500))\n",
        "])\n",
        "\n",
        "pipe.fit(X_train, y_train)\n",
        "\n",
        "y_pred = pipe.predict_proba(X_test)[:, 1]\n",
        "\n",
        "roc_auc_metric = roc_auc_score(y_test, y_pred)"
      ]
    },
    {
      "cell_type": "code",
      "execution_count": null,
      "id": "8d8ec84b",
      "metadata": {
        "id": "8d8ec84b",
        "outputId": "07123f7f-1d46-4074-ddcf-c86e175cb4c3"
      },
      "outputs": [
        {
          "name": "stdout",
          "output_type": "stream",
          "text": [
            "ROC-AUC Score is 0.6796\n"
          ]
        }
      ],
      "source": [
        "print(f\"ROC-AUC Score is {roc_auc_metric:.4f}\")"
      ]
    },
    {
      "cell_type": "markdown",
      "id": "913dd4b5",
      "metadata": {
        "id": "913dd4b5"
      },
      "source": [
        "Попробуем еще одну модель SVC"
      ]
    },
    {
      "cell_type": "code",
      "execution_count": null,
      "id": "13e780c8",
      "metadata": {
        "id": "13e780c8"
      },
      "outputs": [],
      "source": [
        "# 1. Отбор признаков: удаляем низковариативные (константные и почти константные)\n",
        "# Сделаем pipeline для более эффективного отбора признаков(их сокращения)\n",
        "pipe = Pipeline([\n",
        "    ('selector', VarianceThreshold(threshold=0.01)),\n",
        "    ('kbest', SelectKBest(f_classif, k=100)),\n",
        "    ('scaler', StandardScaler()),\n",
        "    ('model', SVC(probability=True, kernel='rbf', C=1.0, decision_function_shape='ovr'))\n",
        "    # ('lasso_selection', SelectFromModel(LassoCV(cv=2), max_features=500))\n",
        "])\n",
        "\n",
        "pipe.fit(X_train, y_train)\n",
        "\n",
        "y_pred = pipe.predict_proba(X_test)[:, 1]\n",
        "\n",
        "roc_auc_metric = roc_auc_score(y_test, y_pred)"
      ]
    },
    {
      "cell_type": "code",
      "execution_count": null,
      "id": "de79ac60",
      "metadata": {
        "id": "de79ac60",
        "outputId": "5c8ab052-6194-48cf-af7f-c955574ef64c"
      },
      "outputs": [
        {
          "name": "stdout",
          "output_type": "stream",
          "text": [
            "ROC-AUC Score is 0.5873\n"
          ]
        }
      ],
      "source": [
        "print(f\"ROC-AUC Score is {roc_auc_metric:.4f}\")"
      ]
    },
    {
      "cell_type": "code",
      "execution_count": null,
      "id": "50d9ab73",
      "metadata": {
        "colab": {
          "base_uri": "https://localhost:8080/"
        },
        "id": "50d9ab73",
        "outputId": "11ede61c-77d9-4c29-e162-edeef8db39de"
      },
      "outputs": [
        {
          "output_type": "stream",
          "name": "stderr",
          "text": [
            "[I 2025-04-22 14:11:51,119] A new study created in memory with name: no-name-87b7b70b-aafd-4135-9fa3-1bdcd706db98\n",
            "[I 2025-04-22 14:17:52,409] Trial 0 finished with value: 0.6866250649470229 and parameters: {'n_estimators': 490, 'max_depth': 10, 'learning_rate': 0.16961501533881454, 'subsample': 0.966792220290188, 'colsample_bytree': 0.8259464128607417, 'reg_alpha': 0.8667944573109898, 'reg_lambda': 3.0138910295009715}. Best is trial 0 with value: 0.6866250649470229.\n",
            "[I 2025-04-22 14:23:44,881] Trial 1 finished with value: 0.7080460523719639 and parameters: {'n_estimators': 756, 'max_depth': 5, 'learning_rate': 0.12189197148428516, 'subsample': 0.9825347727706664, 'colsample_bytree': 0.9920568553802339, 'reg_alpha': 6.3367269344870145, 'reg_lambda': 2.322292722370314}. Best is trial 1 with value: 0.7080460523719639.\n",
            "[I 2025-04-22 14:30:54,791] Trial 2 finished with value: 0.7020038314632974 and parameters: {'n_estimators': 819, 'max_depth': 10, 'learning_rate': 0.15278706460806102, 'subsample': 0.8651142098345419, 'colsample_bytree': 0.7796268307445356, 'reg_alpha': 9.534981015826391, 'reg_lambda': 4.320342218119897}. Best is trial 1 with value: 0.7080460523719639.\n",
            "[I 2025-04-22 14:40:14,883] Trial 3 finished with value: 0.6899344240596658 and parameters: {'n_estimators': 973, 'max_depth': 9, 'learning_rate': 0.21742302218426676, 'subsample': 0.7151353252251677, 'colsample_bytree': 0.8875078569935434, 'reg_alpha': 3.6140594987507835, 'reg_lambda': 8.338635305529184}. Best is trial 1 with value: 0.7080460523719639.\n",
            "[I 2025-04-22 14:47:34,492] Trial 4 finished with value: 0.7074141856629858 and parameters: {'n_estimators': 716, 'max_depth': 7, 'learning_rate': 0.13120399489735904, 'subsample': 0.7629142010747384, 'colsample_bytree': 0.8218320302539225, 'reg_alpha': 1.1848568590914277, 'reg_lambda': 3.5731329715143523}. Best is trial 1 with value: 0.7080460523719639.\n",
            "[I 2025-04-22 14:53:09,032] Trial 5 finished with value: 0.6777589536459121 and parameters: {'n_estimators': 646, 'max_depth': 6, 'learning_rate': 0.22188591271482147, 'subsample': 0.7264329991439028, 'colsample_bytree': 0.9866756255314546, 'reg_alpha': 0.36843000319782937, 'reg_lambda': 1.553437283525383}. Best is trial 1 with value: 0.7080460523719639.\n",
            "[I 2025-04-22 14:54:23,343] Trial 6 finished with value: 0.7068605122922518 and parameters: {'n_estimators': 175, 'max_depth': 4, 'learning_rate': 0.10400925088660398, 'subsample': 0.746606358597868, 'colsample_bytree': 0.8064525451001385, 'reg_alpha': 5.116747612712931, 'reg_lambda': 4.350526649330986}. Best is trial 1 with value: 0.7080460523719639.\n",
            "[I 2025-04-22 15:03:42,405] Trial 7 finished with value: 0.7048691666885897 and parameters: {'n_estimators': 796, 'max_depth': 9, 'learning_rate': 0.10361529745753793, 'subsample': 0.9065832680545636, 'colsample_bytree': 0.8051656980854153, 'reg_alpha': 2.6755312868351844, 'reg_lambda': 8.666007595630948}. Best is trial 1 with value: 0.7080460523719639.\n",
            "[I 2025-04-22 15:04:44,671] Trial 8 finished with value: 0.7027170463738186 and parameters: {'n_estimators': 156, 'max_depth': 3, 'learning_rate': 0.16224540845733748, 'subsample': 0.7848336916160665, 'colsample_bytree': 0.7403831349474681, 'reg_alpha': 7.5715812556379785, 'reg_lambda': 4.669612722982968}. Best is trial 1 with value: 0.7080460523719639.\n",
            "[I 2025-04-22 15:06:30,857] Trial 9 finished with value: 0.7025479580327136 and parameters: {'n_estimators': 302, 'max_depth': 3, 'learning_rate': 0.2326430416136712, 'subsample': 0.8439537171548455, 'colsample_bytree': 0.799663212172008, 'reg_alpha': 7.109627657038352, 'reg_lambda': 6.699319261892649}. Best is trial 1 with value: 0.7080460523719639.\n",
            "[I 2025-04-22 15:10:14,623] Trial 10 finished with value: 0.6996332856781127 and parameters: {'n_estimators': 459, 'max_depth': 6, 'learning_rate': 0.010957492086154513, 'subsample': 0.989663392308912, 'colsample_bytree': 0.9961962223459676, 'reg_alpha': 5.590026699126567, 'reg_lambda': 0.4977457783234507}. Best is trial 1 with value: 0.7080460523719639.\n",
            "[I 2025-04-22 15:17:24,778] Trial 11 finished with value: 0.6961782068209172 and parameters: {'n_estimators': 674, 'max_depth': 7, 'learning_rate': 0.0774609611550092, 'subsample': 0.8029966003523145, 'colsample_bytree': 0.8917446622341594, 'reg_alpha': 2.8224397883593433, 'reg_lambda': 2.5122499365236233}. Best is trial 1 with value: 0.7080460523719639.\n"
          ]
        }
      ],
      "source": [
        "import optuna\n",
        "from xgboost import XGBClassifier\n",
        "from sklearn.metrics import roc_auc_score\n",
        "\n",
        "def objective(trial):\n",
        "    params = {\n",
        "        'n_estimators': trial.suggest_int('n_estimators', 100, 1000),\n",
        "        'max_depth': trial.suggest_int('max_depth', 3, 10),\n",
        "        'learning_rate': trial.suggest_float('learning_rate', 0.01, 0.3),\n",
        "        'subsample': trial.suggest_float('subsample', 0.7, 1.0),\n",
        "        'colsample_bytree': trial.suggest_float('colsample_bytree', 0.7, 1.0),\n",
        "        'reg_alpha': trial.suggest_float('reg_alpha', 0, 10),\n",
        "        'reg_lambda': trial.suggest_float('reg_lambda', 0, 10),\n",
        "    }\n",
        "\n",
        "    model = XGBClassifier(**params, objective='binary:logistic')\n",
        "    model.fit(X_train, y_train)\n",
        "    y_proba = model.predict_proba(X_test)[:, 1]\n",
        "    return roc_auc_score(y_test, y_proba)\n",
        "\n",
        "study = optuna.create_study(direction='maximize')\n",
        "study.optimize(objective, n_trials=50)\n",
        "print(f\"Лучший ROC-AUC: {study.best_value:.4f}\")\n",
        "print(f\"Лучшие параметры: {study.best_params}\")"
      ]
    }
  ],
  "metadata": {
    "kernelspec": {
      "display_name": "Python 3",
      "name": "python3"
    },
    "language_info": {
      "codemirror_mode": {
        "name": "ipython",
        "version": 3
      },
      "file_extension": ".py",
      "mimetype": "text/x-python",
      "name": "python",
      "nbconvert_exporter": "python",
      "pygments_lexer": "ipython3",
      "version": "3.12.4"
    },
    "colab": {
      "provenance": []
    }
  },
  "nbformat": 4,
  "nbformat_minor": 5
}