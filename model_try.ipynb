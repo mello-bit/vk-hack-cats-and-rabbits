{
 "cells": [
  {
   "cell_type": "code",
   "execution_count": 5,
   "id": "a98ee283",
   "metadata": {},
   "outputs": [
    {
     "name": "stdout",
     "output_type": "stream",
     "text": [
      "Collecting pandas\n",
      "  Using cached pandas-2.2.3-cp312-cp312-win_amd64.whl.metadata (19 kB)\n",
      "Collecting numpy>=1.26.0 (from pandas)\n",
      "  Using cached numpy-2.2.5-cp312-cp312-win_amd64.whl.metadata (60 kB)\n",
      "Requirement already satisfied: python-dateutil>=2.8.2 in c:\\users\\admin\\programming\\ml\\hacks\\vk-hack-cats-and-rabbits\\venv\\lib\\site-packages (from pandas) (2.9.0.post0)\n",
      "Collecting pytz>=2020.1 (from pandas)\n",
      "  Using cached pytz-2025.2-py2.py3-none-any.whl.metadata (22 kB)\n",
      "Collecting tzdata>=2022.7 (from pandas)\n",
      "  Using cached tzdata-2025.2-py2.py3-none-any.whl.metadata (1.4 kB)\n",
      "Requirement already satisfied: six>=1.5 in c:\\users\\admin\\programming\\ml\\hacks\\vk-hack-cats-and-rabbits\\venv\\lib\\site-packages (from python-dateutil>=2.8.2->pandas) (1.17.0)\n",
      "Using cached pandas-2.2.3-cp312-cp312-win_amd64.whl (11.5 MB)\n",
      "Using cached numpy-2.2.5-cp312-cp312-win_amd64.whl (12.6 MB)\n",
      "Using cached pytz-2025.2-py2.py3-none-any.whl (509 kB)\n",
      "Using cached tzdata-2025.2-py2.py3-none-any.whl (347 kB)\n",
      "Installing collected packages: pytz, tzdata, numpy, pandas\n",
      "Successfully installed numpy-2.2.5 pandas-2.2.3 pytz-2025.2 tzdata-2025.2\n",
      "Note: you may need to restart the kernel to use updated packages.\n"
     ]
    },
    {
     "name": "stderr",
     "output_type": "stream",
     "text": [
      "\n",
      "[notice] A new release of pip is available: 24.0 -> 25.0.1\n",
      "[notice] To update, run: c:\\Users\\ADMIN\\Programming\\ML\\Hacks\\vk-hack-cats-and-rabbits\\venv\\Scripts\\python.exe -m pip install --upgrade pip\n"
     ]
    },
    {
     "name": "stdout",
     "output_type": "stream",
     "text": [
      "Requirement already satisfied: pandas in c:\\users\\admin\\programming\\ml\\hacks\\vk-hack-cats-and-rabbits\\venv\\lib\\site-packages (from -r requirements.txt (line 1)) (2.2.3)\n",
      "Collecting seaborn (from -r requirements.txt (line 2))\n",
      "  Using cached seaborn-0.13.2-py3-none-any.whl.metadata (5.4 kB)\n",
      "Collecting matplotlib (from -r requirements.txt (line 3))\n",
      "  Using cached matplotlib-3.10.1-cp312-cp312-win_amd64.whl.metadata (11 kB)\n",
      "Collecting torch (from -r requirements.txt (line 4))\n",
      "  Using cached torch-2.6.0-cp312-cp312-win_amd64.whl.metadata (28 kB)\n",
      "Collecting scikit-learn (from -r requirements.txt (line 5))\n",
      "  Using cached scikit_learn-1.6.1-cp312-cp312-win_amd64.whl.metadata (15 kB)\n",
      "Requirement already satisfied: numpy>=1.26.0 in c:\\users\\admin\\programming\\ml\\hacks\\vk-hack-cats-and-rabbits\\venv\\lib\\site-packages (from pandas->-r requirements.txt (line 1)) (2.2.5)\n",
      "Requirement already satisfied: python-dateutil>=2.8.2 in c:\\users\\admin\\programming\\ml\\hacks\\vk-hack-cats-and-rabbits\\venv\\lib\\site-packages (from pandas->-r requirements.txt (line 1)) (2.9.0.post0)\n",
      "Requirement already satisfied: pytz>=2020.1 in c:\\users\\admin\\programming\\ml\\hacks\\vk-hack-cats-and-rabbits\\venv\\lib\\site-packages (from pandas->-r requirements.txt (line 1)) (2025.2)\n",
      "Requirement already satisfied: tzdata>=2022.7 in c:\\users\\admin\\programming\\ml\\hacks\\vk-hack-cats-and-rabbits\\venv\\lib\\site-packages (from pandas->-r requirements.txt (line 1)) (2025.2)\n",
      "Collecting contourpy>=1.0.1 (from matplotlib->-r requirements.txt (line 3))\n",
      "  Using cached contourpy-1.3.2-cp312-cp312-win_amd64.whl.metadata (5.5 kB)\n",
      "Collecting cycler>=0.10 (from matplotlib->-r requirements.txt (line 3))\n",
      "  Using cached cycler-0.12.1-py3-none-any.whl.metadata (3.8 kB)\n",
      "Collecting fonttools>=4.22.0 (from matplotlib->-r requirements.txt (line 3))\n",
      "  Using cached fonttools-4.57.0-cp312-cp312-win_amd64.whl.metadata (104 kB)\n",
      "Collecting kiwisolver>=1.3.1 (from matplotlib->-r requirements.txt (line 3))\n",
      "  Using cached kiwisolver-1.4.8-cp312-cp312-win_amd64.whl.metadata (6.3 kB)\n",
      "Requirement already satisfied: packaging>=20.0 in c:\\users\\admin\\programming\\ml\\hacks\\vk-hack-cats-and-rabbits\\venv\\lib\\site-packages (from matplotlib->-r requirements.txt (line 3)) (25.0)\n",
      "Collecting pillow>=8 (from matplotlib->-r requirements.txt (line 3))\n",
      "  Using cached pillow-11.2.1-cp312-cp312-win_amd64.whl.metadata (9.1 kB)\n",
      "Collecting pyparsing>=2.3.1 (from matplotlib->-r requirements.txt (line 3))\n",
      "  Using cached pyparsing-3.2.3-py3-none-any.whl.metadata (5.0 kB)\n",
      "Collecting filelock (from torch->-r requirements.txt (line 4))\n",
      "  Using cached filelock-3.18.0-py3-none-any.whl.metadata (2.9 kB)\n",
      "Collecting typing-extensions>=4.10.0 (from torch->-r requirements.txt (line 4))\n",
      "  Using cached typing_extensions-4.13.2-py3-none-any.whl.metadata (3.0 kB)\n",
      "Collecting networkx (from torch->-r requirements.txt (line 4))\n",
      "  Using cached networkx-3.4.2-py3-none-any.whl.metadata (6.3 kB)\n",
      "Collecting jinja2 (from torch->-r requirements.txt (line 4))\n",
      "  Using cached jinja2-3.1.6-py3-none-any.whl.metadata (2.9 kB)\n",
      "Collecting fsspec (from torch->-r requirements.txt (line 4))\n",
      "  Using cached fsspec-2025.3.2-py3-none-any.whl.metadata (11 kB)\n",
      "Collecting setuptools (from torch->-r requirements.txt (line 4))\n",
      "  Using cached setuptools-78.1.1-py3-none-any.whl.metadata (6.5 kB)\n",
      "Collecting sympy==1.13.1 (from torch->-r requirements.txt (line 4))\n",
      "  Using cached sympy-1.13.1-py3-none-any.whl.metadata (12 kB)\n",
      "Collecting mpmath<1.4,>=1.1.0 (from sympy==1.13.1->torch->-r requirements.txt (line 4))\n",
      "  Using cached mpmath-1.3.0-py3-none-any.whl.metadata (8.6 kB)\n",
      "Collecting scipy>=1.6.0 (from scikit-learn->-r requirements.txt (line 5))\n",
      "  Using cached scipy-1.15.2-cp312-cp312-win_amd64.whl.metadata (60 kB)\n",
      "Collecting joblib>=1.2.0 (from scikit-learn->-r requirements.txt (line 5))\n",
      "  Using cached joblib-1.4.2-py3-none-any.whl.metadata (5.4 kB)\n",
      "Collecting threadpoolctl>=3.1.0 (from scikit-learn->-r requirements.txt (line 5))\n",
      "  Using cached threadpoolctl-3.6.0-py3-none-any.whl.metadata (13 kB)\n",
      "Requirement already satisfied: six>=1.5 in c:\\users\\admin\\programming\\ml\\hacks\\vk-hack-cats-and-rabbits\\venv\\lib\\site-packages (from python-dateutil>=2.8.2->pandas->-r requirements.txt (line 1)) (1.17.0)\n",
      "Collecting MarkupSafe>=2.0 (from jinja2->torch->-r requirements.txt (line 4))\n",
      "  Using cached MarkupSafe-3.0.2-cp312-cp312-win_amd64.whl.metadata (4.1 kB)\n",
      "Using cached seaborn-0.13.2-py3-none-any.whl (294 kB)\n",
      "Using cached matplotlib-3.10.1-cp312-cp312-win_amd64.whl (8.1 MB)\n",
      "Using cached torch-2.6.0-cp312-cp312-win_amd64.whl (204.1 MB)\n",
      "Using cached sympy-1.13.1-py3-none-any.whl (6.2 MB)\n",
      "Using cached scikit_learn-1.6.1-cp312-cp312-win_amd64.whl (11.1 MB)\n",
      "Using cached contourpy-1.3.2-cp312-cp312-win_amd64.whl (223 kB)\n",
      "Using cached cycler-0.12.1-py3-none-any.whl (8.3 kB)\n",
      "Using cached fonttools-4.57.0-cp312-cp312-win_amd64.whl (2.2 MB)\n",
      "Using cached joblib-1.4.2-py3-none-any.whl (301 kB)\n",
      "Using cached kiwisolver-1.4.8-cp312-cp312-win_amd64.whl (71 kB)\n",
      "Using cached pillow-11.2.1-cp312-cp312-win_amd64.whl (2.7 MB)\n",
      "Using cached pyparsing-3.2.3-py3-none-any.whl (111 kB)\n",
      "Using cached scipy-1.15.2-cp312-cp312-win_amd64.whl (40.9 MB)\n",
      "Using cached threadpoolctl-3.6.0-py3-none-any.whl (18 kB)\n",
      "Using cached typing_extensions-4.13.2-py3-none-any.whl (45 kB)\n",
      "Using cached filelock-3.18.0-py3-none-any.whl (16 kB)\n",
      "Using cached fsspec-2025.3.2-py3-none-any.whl (194 kB)\n",
      "Using cached jinja2-3.1.6-py3-none-any.whl (134 kB)\n",
      "Using cached networkx-3.4.2-py3-none-any.whl (1.7 MB)\n",
      "Using cached setuptools-78.1.1-py3-none-any.whl (1.3 MB)\n",
      "Using cached MarkupSafe-3.0.2-cp312-cp312-win_amd64.whl (15 kB)\n",
      "Using cached mpmath-1.3.0-py3-none-any.whl (536 kB)\n",
      "Installing collected packages: mpmath, typing-extensions, threadpoolctl, sympy, setuptools, scipy, pyparsing, pillow, networkx, MarkupSafe, kiwisolver, joblib, fsspec, fonttools, filelock, cycler, contourpy, scikit-learn, matplotlib, jinja2, torch, seaborn\n",
      "Successfully installed MarkupSafe-3.0.2 contourpy-1.3.2 cycler-0.12.1 filelock-3.18.0 fonttools-4.57.0 fsspec-2025.3.2 jinja2-3.1.6 joblib-1.4.2 kiwisolver-1.4.8 matplotlib-3.10.1 mpmath-1.3.0 networkx-3.4.2 pillow-11.2.1 pyparsing-3.2.3 scikit-learn-1.6.1 scipy-1.15.2 seaborn-0.13.2 setuptools-78.1.1 sympy-1.13.1 threadpoolctl-3.6.0 torch-2.6.0 typing-extensions-4.13.2\n",
      "Note: you may need to restart the kernel to use updated packages.\n"
     ]
    },
    {
     "name": "stderr",
     "output_type": "stream",
     "text": [
      "\n",
      "[notice] A new release of pip is available: 24.0 -> 25.0.1\n",
      "[notice] To update, run: c:\\Users\\ADMIN\\Programming\\ML\\Hacks\\vk-hack-cats-and-rabbits\\venv\\Scripts\\python.exe -m pip install --upgrade pip\n"
     ]
    }
   ],
   "source": [
    "%pip install pandas\n",
    "%pip install -r requirements.txt"
   ]
  },
  {
   "cell_type": "code",
   "execution_count": 13,
   "id": "82b9c411",
   "metadata": {},
   "outputs": [],
   "source": [
    "import pandas as pd\n",
    "import numpy as np\n",
    "from sklearn.feature_selection import VarianceThreshold, SelectKBest, f_regression, f_classif, SelectFromModel\n",
    "from sklearn.model_selection import train_test_split\n",
    "from sklearn.linear_model import LinearRegression, LassoCV\n",
    "from sklearn.metrics import mean_squared_error, r2_score, roc_auc_score\n",
    "from sklearn.preprocessing import StandardScaler\n",
    "from sklearn.pipeline import Pipeline\n",
    "from sklearn.ensemble import RandomForestClassifier"
   ]
  },
  {
   "cell_type": "code",
   "execution_count": 10,
   "id": "20827f62",
   "metadata": {},
   "outputs": [
    {
     "data": {
      "text/plain": [
       "(        feature_0  feature_1  feature_2  feature_3  feature_4  feature_5  \\\n",
       " 0        0.128367        1.0        1.0        1.0        1.0        4.0   \n",
       " 1        0.258685        1.0        1.0        1.0        0.0        7.0   \n",
       " 2        0.407738        1.0        1.0        1.0        2.0        7.0   \n",
       " 3        0.439134        1.0        1.0        1.0        1.0        2.0   \n",
       " 4        0.590481        1.0        1.0        1.0        0.0        1.0   \n",
       " ...           ...        ...        ...        ...        ...        ...   \n",
       " 177853   0.660324        1.0        1.0        1.0        0.0        1.0   \n",
       " 177854   0.222214        0.0        1.0        1.0        1.0        4.0   \n",
       " 177855   0.545399        0.0        1.0        1.0        0.0        2.0   \n",
       " 177856   0.393150        1.0        1.0        1.0        0.0        1.0   \n",
       " 177857   0.395272        1.0        1.0        1.0        1.0        2.0   \n",
       " \n",
       "         feature_6  feature_7  feature_8  feature_9  ...  feature_1357  \\\n",
       " 0             2.0        2.0        4.0       13.0  ...           0.0   \n",
       " 1             2.0        9.0        0.0       18.0  ...           0.0   \n",
       " 2             1.0        2.0        0.0       12.0  ...           0.0   \n",
       " 3             1.0        0.0        3.0        7.0  ...           0.0   \n",
       " 4             3.0        1.0        0.0        5.0  ...           0.0   \n",
       " ...           ...        ...        ...        ...  ...           ...   \n",
       " 177853        0.0        0.0        0.0        1.0  ...          -1.0   \n",
       " 177854        2.0        3.0        0.0       10.0  ...           0.0   \n",
       " 177855        1.0        0.0        2.0        5.0  ...           0.0   \n",
       " 177856        1.0        0.0        0.0        2.0  ...          -1.0   \n",
       " 177857        1.0        2.0        1.0        7.0  ...           0.0   \n",
       " \n",
       "         feature_1358  feature_1359  feature_1360  feature_1361  feature_1362  \\\n",
       " 0                0.0           0.0             0             0             0   \n",
       " 1                0.0           0.0             0             0             0   \n",
       " 2                0.0           0.0             0             0             0   \n",
       " 3                0.0           0.0             0             0             0   \n",
       " 4                0.0           0.0             0             0             0   \n",
       " ...              ...           ...           ...           ...           ...   \n",
       " 177853          -1.0          -1.0             1             0             1   \n",
       " 177854           0.0           0.0             0             0             0   \n",
       " 177855           0.0           0.0             1             0             0   \n",
       " 177856          -1.0          -1.0             0             0             0   \n",
       " 177857           0.0           0.0             0             0             0   \n",
       " \n",
       "         feature_1363  feature_1364  feature_1365  feature_1366  \n",
       " 0                  0             0             1             0  \n",
       " 1                  0             0             0             0  \n",
       " 2                  0             0             0             0  \n",
       " 3                  0             0             0             0  \n",
       " 4                  0             0             0             0  \n",
       " ...              ...           ...           ...           ...  \n",
       " 177853             0             1             1             1  \n",
       " 177854             0             0             0             0  \n",
       " 177855             0             0             0             0  \n",
       " 177856             0             1             0             1  \n",
       " 177857             0             0             0             0  \n",
       " \n",
       " [177858 rows x 1367 columns],\n",
       " 0         0\n",
       " 1         0\n",
       " 2         0\n",
       " 3         0\n",
       " 4         0\n",
       "          ..\n",
       " 177853    0\n",
       " 177854    0\n",
       " 177855    0\n",
       " 177856    0\n",
       " 177857    0\n",
       " Name: target, Length: 177858, dtype: int64)"
      ]
     },
     "execution_count": 10,
     "metadata": {},
     "output_type": "execute_result"
    }
   ],
   "source": [
    "# Загрузка данных (предположим, что данные в CSV)\n",
    "df = pd.read_csv(\"./datasets/train/train.csv\")  # Замените на ваш путь к файлу\n",
    "\n",
    "# Удаляем индекс, так как он не несёт информации для модели\n",
    "X = df.drop(['index', 'target'], axis=1)  # Все фичи (feature_1 ... feature_1366)\n",
    "y = df['target']  # Целевая переменная\n",
    "\n",
    "X, y"
   ]
  },
  {
   "cell_type": "code",
   "execution_count": 44,
   "id": "97608bd4",
   "metadata": {},
   "outputs": [
    {
     "name": "stdout",
     "output_type": "stream",
     "text": [
      "Исходное число признаков: 1367\n",
      "Число признаков после отбора: 200\n"
     ]
    }
   ],
   "source": [
    "# 1. Отбор признаков: удаляем низковариативные (константные и почти константные)\n",
    "# Сделаем pipeline для более эффективного отбора признаков(их сокращения)\n",
    "pipe = Pipeline([\n",
    "    ('selector', VarianceThreshold(threshold=0.01)),\n",
    "    ('kbest', SelectKBest(f_classif, k=200)),\n",
    "    # ('lasso_selection', SelectFromModel(LassoCV(cv=2), max_features=500))\n",
    "])\n",
    "\n",
    "X_selected = pipe.fit_transform(X, y)\n",
    "\n",
    "print(f\"Исходное число признаков: {X.shape[1]}\")\n",
    "print(f\"Число признаков после отбора: {X_selected.shape[1]}\")"
   ]
  },
  {
   "cell_type": "code",
   "execution_count": 45,
   "id": "2d5ebe0a",
   "metadata": {},
   "outputs": [],
   "source": [
    "# 2. Масштабирование данных (важно для линейной регрессии)\n",
    "scaler = StandardScaler()\n",
    "X_scaled = scaler.fit_transform(X_selected)\n",
    "\n",
    "X_train, X_test, y_train, y_test = train_test_split(\n",
    "    X_selected, y, test_size=0.3, random_state=42\n",
    ")\n"
   ]
  },
  {
   "cell_type": "code",
   "execution_count": null,
   "id": "e8e0b579",
   "metadata": {},
   "outputs": [
    {
     "name": "stdout",
     "output_type": "stream",
     "text": [
      "\n",
      "MSE: 0.0171\n",
      "R2 Score: 0.0016\n",
      "ROC-AUC Score: 0.6536\n",
      "\n",
      "Модель имеет 400 коэффициентов (слишком много для вывода).\n"
     ]
    }
   ],
   "source": [
    "# 4. Создание и обучение модели\n",
    "model = LinearRegression()\n",
    "model.fit(X_train, y_train)\n",
    "\n",
    "# 5. Предсказание и оценка качества\n",
    "y_pred = model.predict(X_test)\n",
    "# y_pred_proba_lin_reg = model.decision_function(X_test)\n",
    "\n",
    "# Метрики\n",
    "mse = mean_squared_error(y_test, y_pred)\n",
    "# нормализуем значения для roc_auc\n",
    "y_proba = 1 / (1 + np.exp(-y_pred)) # преобразование через сигмойду\n",
    "roc_auc = roc_auc_score(y_test, y_proba)\n",
    "\n",
    "print(f\"\\nMSE: {mse:.4f}\")\n",
    "print(f\"ROC-AUC Score: {roc_auc:.4f}\")\n",
    "\n",
    "# (Опционально) Вывод коэффициентов модели\n",
    "if X_selected.shape[1] <= 20:  # Не выводить для слишком большого числа фич\n",
    "    print(\"\\nКоэффициенты модели:\")\n",
    "    # for feature, coef in zip(X.columns[selector.get_support()], model.coef_):\n",
    "    #     print(f\"{feature}: {coef:.4f}\")\n",
    "else:\n",
    "    print(f\"\\nМодель имеет {X_selected.shape[1]} коэффициентов (слишком много для вывода).\")"
   ]
  },
  {
   "cell_type": "code",
   "execution_count": 42,
   "id": "61f786ac",
   "metadata": {},
   "outputs": [
    {
     "data": {
      "text/plain": [
       "array([ 0.01629677,  0.00887584,  0.00911322, ...,  0.0150569 ,\n",
       "       -0.0037384 , -0.00022041], shape=(53358,))"
      ]
     },
     "execution_count": 42,
     "metadata": {},
     "output_type": "execute_result"
    }
   ],
   "source": [
    "y_pred"
   ]
  },
  {
   "cell_type": "markdown",
   "id": "1ee56f1d",
   "metadata": {},
   "source": [
    "Так.... Из полученных метрик следует что вроде бы по MSE результат довольно терпимый и среднеквадратичная ошибка не слишком большая.\n",
    "Касаемо метрики ROC-AUC Score получаем 0.6536 что является лучше чем убычное угадывание(подбрасывание монетки).\n",
    "Из инересного мы не должны использовать LinearRegression, так как она может выдавать значения за пределами [0, 1], но после регуляризации значений, они могут быть использованиы для вычисления метрики. "
   ]
  },
  {
   "cell_type": "markdown",
   "id": "6d750929",
   "metadata": {},
   "source": [
    "Попробуем RandomForestClassifier"
   ]
  },
  {
   "cell_type": "code",
   "execution_count": 46,
   "id": "a35beee4",
   "metadata": {},
   "outputs": [],
   "source": [
    "model = RandomForestClassifier()\n",
    "model.fit(X_train, y_train)\n",
    "\n",
    "y_pred_proba = model.predict_proba(X_test)[:, 1]\n",
    "roc_auc = roc_auc_score(y_test, y_pred_proba)\n"
   ]
  },
  {
   "cell_type": "code",
   "execution_count": 47,
   "id": "7f3a6d78",
   "metadata": {},
   "outputs": [
    {
     "name": "stdout",
     "output_type": "stream",
     "text": [
      "ROC_AUC_SCORE is 0.6261\n"
     ]
    }
   ],
   "source": [
    "print(f\"ROC_AUC_SCORE is {roc_auc:.4f}\")"
   ]
  },
  {
   "cell_type": "markdown",
   "id": "4a523067",
   "metadata": {},
   "source": [
    "Прогресс, модель достигла случайного угадывания\n",
    "(последние данные ROC_AUC_SCORE is 0.6261, это даже лучше чем просто уадывание по среднему значению)"
   ]
  },
  {
   "cell_type": "code",
   "execution_count": 32,
   "id": "003b1165",
   "metadata": {},
   "outputs": [
    {
     "name": "stdout",
     "output_type": "stream",
     "text": [
      "MSE: 0.02\n"
     ]
    }
   ],
   "source": [
    "mse = mean_squared_error(y_test, y_pred_proba)\n",
    "print(f'MSE: {mse:.2f}')"
   ]
  },
  {
   "cell_type": "code",
   "execution_count": null,
   "id": "406036f3",
   "metadata": {},
   "outputs": [],
   "source": []
  }
 ],
 "metadata": {
  "kernelspec": {
   "display_name": "venv",
   "language": "python",
   "name": "python3"
  },
  "language_info": {
   "codemirror_mode": {
    "name": "ipython",
    "version": 3
   },
   "file_extension": ".py",
   "mimetype": "text/x-python",
   "name": "python",
   "nbconvert_exporter": "python",
   "pygments_lexer": "ipython3",
   "version": "3.12.4"
  }
 },
 "nbformat": 4,
 "nbformat_minor": 5
}
