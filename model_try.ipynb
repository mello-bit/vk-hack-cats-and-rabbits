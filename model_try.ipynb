{
 "cells": [
  {
   "cell_type": "code",
   "execution_count": 5,
   "id": "82b9c411",
   "metadata": {},
   "outputs": [],
   "source": [
    "import pandas as pd\n",
    "import numpy as np\n",
    "from sklearn.feature_selection import VarianceThreshold, SelectKBest, f_regression, f_classif, SelectFromModel\n",
    "from sklearn.model_selection import train_test_split\n",
    "from sklearn.linear_model import LinearRegression, LassoCV\n",
    "from sklearn.metrics import mean_squared_error, r2_score\n",
    "from sklearn.preprocessing import StandardScaler\n",
    "from sklearn.pipeline import Pipeline\n"
   ]
  },
  {
   "cell_type": "code",
   "execution_count": 6,
   "id": "20827f62",
   "metadata": {},
   "outputs": [
    {
     "data": {
      "text/plain": [
       "(        feature_0  feature_1  ...  feature_1365  feature_1366\n",
       " 0        0.128367        1.0  ...             1             0\n",
       " 1        0.258685        1.0  ...             0             0\n",
       " 2        0.407738        1.0  ...             0             0\n",
       " 3        0.439134        1.0  ...             0             0\n",
       " 4        0.590481        1.0  ...             0             0\n",
       " ...           ...        ...  ...           ...           ...\n",
       " 177853   0.660324        1.0  ...             1             1\n",
       " 177854   0.222214        0.0  ...             0             0\n",
       " 177855   0.545399        0.0  ...             0             0\n",
       " 177856   0.393150        1.0  ...             0             1\n",
       " 177857   0.395272        1.0  ...             0             0\n",
       " \n",
       " [177858 rows x 1367 columns],\n",
       " 0         0\n",
       " 1         0\n",
       " 2         0\n",
       " 3         0\n",
       " 4         0\n",
       "          ..\n",
       " 177853    0\n",
       " 177854    0\n",
       " 177855    0\n",
       " 177856    0\n",
       " 177857    0\n",
       " Name: target, Length: 177858, dtype: int64)"
      ]
     },
     "execution_count": 6,
     "metadata": {},
     "output_type": "execute_result"
    }
   ],
   "source": [
    "# Загрузка данных (предположим, что данные в CSV)\n",
    "df = pd.read_csv(\"./datasets/train/train.csv\")  # Замените на ваш путь к файлу\n",
    "\n",
    "# Удаляем индекс, так как он не несёт информации для модели\n",
    "X = df.drop(['index', 'target'], axis=1)  # Все фичи (feature_1 ... feature_1366)\n",
    "y = df['target']  # Целевая переменная\n",
    "\n",
    "X, y"
   ]
  },
  {
   "cell_type": "code",
   "execution_count": null,
   "id": "97608bd4",
   "metadata": {},
   "outputs": [],
   "source": [
    "# 1. Отбор признаков: удаляем низковариативные (константные и почти константные)\n",
    "# Сделаем pipeline для более эффективного отбора признаков(их сокращения)\n",
    "pipe = Pipeline([\n",
    "    ('selector', VarianceThreshold(threshold=0.01)),\n",
    "    ('kbest', SelectKBest(f_regression, k=1000)),\n",
    "    ('lasso_selection', SelectFromModel(LassoCV(cv=5), max_features=500))\n",
    "])\n",
    "\n",
    "# 3. Разделение на тренировочную и тестовую выборки\n",
    "X_train, X_test, y_train, y_test = train_test_split(\n",
    "    X, y, test_size=0.2, random_state=42\n",
    ")\n",
    "\n",
    "X_selected = pipe.fit_transform(X_train, y_train)\n",
    "\n",
    "print(f\"Исходное число признаков: {X.shape[1]}\")\n",
    "print(f\"Число признаков после отбора: {X_selected.shape[1]}\")"
   ]
  },
  {
   "cell_type": "code",
   "execution_count": null,
   "id": "2d5ebe0a",
   "metadata": {},
   "outputs": [],
   "source": [
    "# 2. Масштабирование данных (важно для линейной регрессии)\n",
    "scaler = StandardScaler()\n",
    "X_scaled = scaler.fit_transform(X_selected)\n",
    "\n",
    "# 4. Создание и обучение модели\n",
    "model = LinearRegression()\n",
    "model.fit(X_train, y_train)\n",
    "\n",
    "# 5. Предсказание и оценка качества\n",
    "y_pred = model.predict(X_test)\n",
    "\n",
    "# Метрики\n",
    "mse = mean_squared_error(y_test, y_pred)\n",
    "r2 = r2_score(y_test, y_pred)\n",
    "\n",
    "print(f\"\\nMSE: {mse:.4f}\")\n",
    "print(f\"R2 Score: {r2:.4f}\")\n",
    "\n",
    "# (Опционально) Вывод коэффициентов модели\n",
    "if X_selected.shape[1] <= 20:  # Не выводить для слишком большого числа фич\n",
    "    print(\"\\nКоэффициенты модели:\")\n",
    "    for feature, coef in zip(X.columns[selector.get_support()], model.coef_):\n",
    "        print(f\"{feature}: {coef:.4f}\")\n",
    "else:\n",
    "    print(f\"\\nМодель имеет {X_selected.shape[1]} коэффициентов (слишком много для вывода).\")"
   ]
  },
  {
   "cell_type": "code",
   "execution_count": null,
   "id": "61f786ac",
   "metadata": {},
   "outputs": [],
   "source": []
  }
 ],
 "metadata": {
  "kernelspec": {
   "display_name": "venv",
   "language": "python",
   "name": "python3"
  },
  "language_info": {
   "codemirror_mode": {
    "name": "ipython",
    "version": 3
   },
   "file_extension": ".py",
   "mimetype": "text/x-python",
   "name": "python",
   "nbconvert_exporter": "python",
   "pygments_lexer": "ipython3",
   "version": "3.12.3"
  }
 },
 "nbformat": 4,
 "nbformat_minor": 5
}
